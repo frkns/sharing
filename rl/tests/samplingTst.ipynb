{
 "cells": [
  {
   "cell_type": "code",
   "execution_count": 2,
   "id": "2c6cabe8-e44a-4e9f-b279-137629b07fa2",
   "metadata": {},
   "outputs": [],
   "source": [
    "import gymnasium as gym\n",
    "import time\n",
    "from IPython.display import display, clear_output, Image"
   ]
  },
  {
   "cell_type": "code",
   "execution_count": 3,
   "id": "0e88b772-e697-4330-8cb7-3fdcff8e1228",
   "metadata": {},
   "outputs": [
    {
     "name": "stderr",
     "output_type": "stream",
     "text": [
      "<frozen importlib._bootstrap>:488: RuntimeWarning: Your system is avx2 capable but pygame was not built with support for it. The performance of some of your blits could be adversely affected. Consider enabling compile time detection with environment variables like PYGAME_DETECT_AVX2=1 if you are compiling without cross compilation.\n"
     ]
    }
   ],
   "source": [
    "env = gym.make('LunarLander-v3', render_mode=None)"
   ]
  },
  {
   "cell_type": "code",
   "execution_count": null,
   "id": "464cee75-4f07-4496-8c24-0fa46b9a4b11",
   "metadata": {},
   "outputs": [
    {
     "name": "stdout",
     "output_type": "stream",
     "text": [
      "episode 105\t(9.7/s)\n",
      "steps 106000\t(9782/s)\n",
      "time 10.84 s\n"
     ]
    }
   ],
   "source": [
    "total_steps = 0\n",
    "t0 = time.time()\n",
    "\n",
    "state, info = env.reset()\n",
    "for episode in range(2000):\n",
    "    for step in range(1000):\n",
    "        total_steps += 1\n",
    "        action = env.action_space.sample()\n",
    "        state, reward, done, truncated, info = env.step(action)\n",
    "        \n",
    "    if episode % 3 == 0:\n",
    "        t = time.time() - t0\n",
    "        clear_output(wait=True)\n",
    "        print(f'episode {episode}\\t({episode/t :.1f}/s)')\n",
    "        print(f'steps {total_steps}\\t({total_steps/t :.0f}/s)')\n",
    "        print(f'time {t:.2f} s')\n",
    "\n"
   ]
  }
 ],
 "metadata": {
  "kernelspec": {
   "display_name": "Python (a_myenv313)",
   "language": "python",
   "name": "myenv313"
  },
  "language_info": {
   "codemirror_mode": {
    "name": "ipython",
    "version": 3
   },
   "file_extension": ".py",
   "mimetype": "text/x-python",
   "name": "python",
   "nbconvert_exporter": "python",
   "pygments_lexer": "ipython3",
   "version": "3.13.1"
  }
 },
 "nbformat": 4,
 "nbformat_minor": 5
}
