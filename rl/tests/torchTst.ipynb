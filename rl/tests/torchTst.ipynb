{
 "cells": [
  {
   "cell_type": "code",
   "execution_count": 6,
   "id": "c0ab2fb5-b0a6-4067-b4bb-1264cd8c846b",
   "metadata": {},
   "outputs": [],
   "source": [
    "import torch\n",
    "import numpy as np"
   ]
  },
  {
   "cell_type": "code",
   "execution_count": 3,
   "id": "7c14e44f-d14a-4e1e-9ce1-bf48b55be8c3",
   "metadata": {},
   "outputs": [
    {
     "data": {
      "text/plain": [
       "tensor([0, 1, 2, 3, 4, 5, 6, 7, 8, 9])"
      ]
     },
     "execution_count": 3,
     "metadata": {},
     "output_type": "execute_result"
    }
   ],
   "source": [
    "torch.arange(10)"
   ]
  },
  {
   "cell_type": "code",
   "execution_count": 71,
   "id": "b0da4bb2-b67b-4954-bcc9-1610dec4e88e",
   "metadata": {},
   "outputs": [],
   "source": [
    "x = torch.tensor([3,5,6], dtype=torch.float)\n",
    "counts = np.array([0, 0, 0], dtype='float')\n",
    "for _ in range(1000):\n",
    "    arg = torch.multinomial(x, 1)\n",
    "    counts[arg] += 1"
   ]
  },
  {
   "cell_type": "code",
   "execution_count": 72,
   "id": "90de8b41-87e7-41eb-baba-e0d245771824",
   "metadata": {},
   "outputs": [
    {
     "data": {
      "text/plain": [
       "array([0.218, 0.358, 0.424])"
      ]
     },
     "execution_count": 72,
     "metadata": {},
     "output_type": "execute_result"
    }
   ],
   "source": [
    "counts /= 1000\n",
    "counts"
   ]
  },
  {
   "cell_type": "code",
   "execution_count": 76,
   "id": "d523b3c3-0de4-47e3-8842-53f08352a309",
   "metadata": {},
   "outputs": [
    {
     "data": {
      "text/plain": [
       "tensor([0.2143, 0.3571, 0.4286])"
      ]
     },
     "execution_count": 76,
     "metadata": {},
     "output_type": "execute_result"
    }
   ],
   "source": [
    "x / x.sum()"
   ]
  },
  {
   "cell_type": "code",
   "execution_count": 87,
   "id": "77554564-edc8-4b50-a143-af8e01a4b714",
   "metadata": {},
   "outputs": [
    {
     "data": {
      "text/plain": [
       "1"
      ]
     },
     "execution_count": 87,
     "metadata": {},
     "output_type": "execute_result"
    }
   ],
   "source": [
    "torch.multinomial(x, 1).item()"
   ]
  }
 ],
 "metadata": {
  "kernelspec": {
   "display_name": "kaggleenv310",
   "language": "python",
   "name": "kaggle310"
  },
  "language_info": {
   "codemirror_mode": {
    "name": "ipython",
    "version": 3
   },
   "file_extension": ".py",
   "mimetype": "text/x-python",
   "name": "python",
   "nbconvert_exporter": "python",
   "pygments_lexer": "ipython3",
   "version": "3.10.12"
  }
 },
 "nbformat": 4,
 "nbformat_minor": 5
}
