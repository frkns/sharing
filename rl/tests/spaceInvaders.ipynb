{
 "cells": [
  {
   "cell_type": "code",
   "execution_count": 2,
   "id": "95b91dbc-2462-4214-bb36-7fe24582859f",
   "metadata": {},
   "outputs": [],
   "source": [
    "import gymnasium as gym\n",
    "from gymnasium.utils.play import play\n",
    "import ale_py\n",
    "\n",
    "gym.register_envs(ale_py)\n",
    "\n",
    "env = gym.make(\"ALE/SpaceInvaders-v5\", render_mode=\"rgb_array\")\n",
    "play(env, keys_to_action={\"a\": 3, \"d\": 2, \"w\": 1})  # Map keys to actions"
   ]
  },
  {
   "cell_type": "code",
   "execution_count": null,
   "id": "56135e0a-5f1c-4025-8440-16841635a9f2",
   "metadata": {},
   "outputs": [],
   "source": []
  }
 ],
 "metadata": {
  "kernelspec": {
   "display_name": "Python (a_myenv313)",
   "language": "python",
   "name": "myenv313"
  },
  "language_info": {
   "codemirror_mode": {
    "name": "ipython",
    "version": 3
   },
   "file_extension": ".py",
   "mimetype": "text/x-python",
   "name": "python",
   "nbconvert_exporter": "python",
   "pygments_lexer": "ipython3",
   "version": "3.13.1"
  }
 },
 "nbformat": 4,
 "nbformat_minor": 5
}
