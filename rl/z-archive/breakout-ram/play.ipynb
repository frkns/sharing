{
 "cells": [
  {
   "cell_type": "code",
   "execution_count": 5,
   "id": "49acf306-0063-4c82-832d-381958e23f27",
   "metadata": {},
   "outputs": [],
   "source": [
    "from IPython.display import clear_output\n",
    "import matplotlib.pyplot as plt\n",
    "from collections import deque\n",
    "from pathlib import Path\n",
    "import gymnasium as gym\n",
    "import numpy as np\n",
    "import random\n",
    "import ale_py\n",
    "import time\n",
    "import os\n",
    "import torch\n",
    "import torch.nn as nn\n",
    "import torch.nn.functional as F"
   ]
  },
  {
   "cell_type": "code",
   "execution_count": 2,
   "id": "4d47ec7b-95ac-4f6e-9f21-eae837c123e0",
   "metadata": {},
   "outputs": [],
   "source": [
    "def remake_env(render_mode=None):\n",
    "    global env\n",
    "    if 'env' in globals(): \n",
    "        env.reset(), env.close()\n",
    "        del env\n",
    "    env = gym.make('Breakout-ramDeterministic-v4', render_mode=render_mode)  # default Breakout-ramDeterministic-v4 has frameskip of 4\n",
    "    return env.reset()"
   ]
  },
  {
   "cell_type": "code",
   "execution_count": 3,
   "id": "23d6842b-4231-4839-a635-5b860ddc365f",
   "metadata": {},
   "outputs": [],
   "source": [
    "def get_checkpoint(v=-1, path='./checkpoints'):\n",
    "    ''' If found returns (file_name, version). Otherwise, returns (None, 0). '''\n",
    "    ls = os.listdir(path) \n",
    "    if not ls: return (None, 0)\n",
    "    mx = -1\n",
    "    mx_file = ''\n",
    "    for f in ls:\n",
    "        try: cur = int(f.split('-')[0])  # might be a 'mem-...' file\n",
    "        except: continue\n",
    "        if cur > mx:\n",
    "            mx = cur\n",
    "            mx_file = f \n",
    "        if cur == v: return f, v\n",
    "    return mx_file, mx"
   ]
  },
  {
   "cell_type": "code",
   "execution_count": 6,
   "id": "05150d74-daba-4317-9fde-7f6a671d0355",
   "metadata": {},
   "outputs": [],
   "source": [
    "class QNetwork(nn.Module):\n",
    "    def __init__(self):\n",
    "        super().__init__()\n",
    "        self.fc1 = nn.Linear(128, 512)\n",
    "        self.fc2 = nn.Linear(512, 256)\n",
    "        self.fc3 = nn.Linear(256, 64)\n",
    "        self.fc4 = nn.Linear(64, 4)\n",
    "        \n",
    "    def forward(self, x):  # expect uint8 tensor as input\n",
    "        x = x / 255.0\n",
    "        x = F.leaky_relu(self.fc1(x))\n",
    "        x = F.leaky_relu(self.fc2(x))\n",
    "        x = F.leaky_relu(self.fc3(x))\n",
    "        x = self.fc4(x)\n",
    "        return x"
   ]
  },
  {
   "cell_type": "code",
   "execution_count": 8,
   "id": "8e90945a-0635-419d-8c1f-5e91b2525bf8",
   "metadata": {},
   "outputs": [
    {
     "name": "stdout",
     "output_type": "stream",
     "text": [
      "device: cpu\n"
     ]
    }
   ],
   "source": [
    "device = torch.device('cuda' if torch.cuda.is_available() else 'cpu')\n",
    "print(f\"device: {device}\")"
   ]
  },
  {
   "cell_type": "code",
   "execution_count": 10,
   "id": "d3800d6a-568a-4a89-a402-e1117115846f",
   "metadata": {},
   "outputs": [],
   "source": [
    "online_net = QNetwork()"
   ]
  },
  {
   "cell_type": "code",
   "execution_count": 21,
   "id": "87c869f4-13d1-4378-91b5-0580b511235a",
   "metadata": {},
   "outputs": [
    {
     "name": "stdout",
     "output_type": "stream",
     "text": [
      "loaded 6-breakout-ram_03-03-3000e-791651s.pth\n"
     ]
    }
   ],
   "source": [
    "# load latest checkpoint file if there is one, set step_count, episode_count\n",
    "proj_name = 'breakout-ram_03-03'\n",
    "\n",
    "checkpoint_file, checkpoint_version = get_checkpoint()\n",
    "# checkpoint_version = 12\n",
    "if checkpoint_file is not None:\n",
    "    checkpoint = torch.load('./checkpoints/' + checkpoint_file, weights_only=False, map_location=torch.device(device))\n",
    "    online_net.load_state_dict(checkpoint['online_state_dict'])\n",
    "    print('loaded', checkpoint_file)\n",
    "else: \n",
    "    episode_count, step_count = 0, 0\n",
    "    print('no checkpoint found')"
   ]
  },
  {
   "cell_type": "code",
   "execution_count": 22,
   "id": "f15142fe-8f40-4431-ad52-33b8ca1e4fdd",
   "metadata": {},
   "outputs": [],
   "source": [
    "def greedy(s):\n",
    "    with torch.no_grad():\n",
    "        s = torch.tensor(s, dtype=torch.float)\n",
    "        return online_net(s).argmax().item()"
   ]
  },
  {
   "cell_type": "code",
   "execution_count": 23,
   "id": "d807d2e6-0457-4b69-b1a7-6929830407f3",
   "metadata": {},
   "outputs": [],
   "source": [
    "reward_clip = (-1, 1)"
   ]
  },
  {
   "cell_type": "code",
   "execution_count": 24,
   "id": "d4779648-9e9f-4d3f-9865-c4084aef76ee",
   "metadata": {},
   "outputs": [
    {
     "name": "stdout",
     "output_type": "stream",
     "text": [
      "step 416, took action 3, got raw reward 0.0 (clipped 0.0)\n"
     ]
    }
   ],
   "source": [
    "step = 0\n",
    "state, info = remake_env('human')\n",
    "\n",
    "try:\n",
    "    t0 = time.time()\n",
    "    while True:\n",
    "        step += 1\n",
    "        \n",
    "        action = greedy(state)\n",
    "        state, raw_reward, terminated, truncated, info = env.step(action)\n",
    "        reward = np.clip(raw_reward, *reward_clip)\n",
    "    \n",
    "        clear_output(wait=True)\n",
    "        print(f'step {step}, took action {action}, got raw reward {raw_reward} (clipped {reward})')\n",
    "        \n",
    "        if terminated or truncated:\n",
    "            break\n",
    "except KeyboardInterrupt:\n",
    "    print('keyboard interrupt')\n",
    "finally:\n",
    "    remake_env(None)\n",
    "    env.reset()\n",
    "    env.close()"
   ]
  },
  {
   "cell_type": "code",
   "execution_count": null,
   "id": "547644fa-eee8-4c09-8e9f-54b5cefb90ad",
   "metadata": {},
   "outputs": [],
   "source": []
  }
 ],
 "metadata": {
  "kernelspec": {
   "display_name": "kaggleenv310",
   "language": "python",
   "name": "kaggle310"
  },
  "language_info": {
   "codemirror_mode": {
    "name": "ipython",
    "version": 3
   },
   "file_extension": ".py",
   "mimetype": "text/x-python",
   "name": "python",
   "nbconvert_exporter": "python",
   "pygments_lexer": "ipython3",
   "version": "3.10.12"
  }
 },
 "nbformat": 4,
 "nbformat_minor": 5
}
