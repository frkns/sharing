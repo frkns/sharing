{
 "cells": [
  {
   "cell_type": "code",
   "execution_count": 1,
   "id": "8ad196e2-a08c-4936-b396-86bff9289769",
   "metadata": {},
   "outputs": [],
   "source": [
    "import torch\n",
    "import torch.nn as nn\n",
    "import torch.optim as optim\n",
    "import torch.nn.functional as F\n",
    "from torch.distributions import Categorical"
   ]
  },
  {
   "cell_type": "code",
   "execution_count": 8,
   "id": "b0499513-5333-4b18-be4c-0ba981cfc844",
   "metadata": {},
   "outputs": [
    {
     "data": {
      "text/plain": [
       "tensor([0.0588, 0.0588, 0.8824])"
      ]
     },
     "execution_count": 8,
     "metadata": {},
     "output_type": "execute_result"
    }
   ],
   "source": [
    "prob_ratio = [1, 1, 15]\n",
    "prob_ratio = torch.as_tensor(prob_ratio)\n",
    "probs = prob_ratio / prob_ratio.sum()\n",
    "probs"
   ]
  },
  {
   "cell_type": "code",
   "execution_count": 20,
   "id": "9a5e3d0d-7222-4bff-99cf-d1fec1892738",
   "metadata": {},
   "outputs": [
    {
     "data": {
      "text/plain": [
       "0.4437572956085205"
      ]
     },
     "execution_count": 20,
     "metadata": {},
     "output_type": "execute_result"
    }
   ],
   "source": [
    "dist = Categorical(probs=probs)\n",
    "dist.entropy().item()"
   ]
  },
  {
   "cell_type": "code",
   "execution_count": 21,
   "id": "ca1aa00b-1135-46c7-97da-28ff6a6f4310",
   "metadata": {},
   "outputs": [
    {
     "data": {
      "text/plain": [
       "0.4437572956085205"
      ]
     },
     "execution_count": 21,
     "metadata": {},
     "output_type": "execute_result"
    }
   ],
   "source": [
    "# sum {over p} -p log p\n",
    "(-probs * torch.log(probs)).sum().item()"
   ]
  },
  {
   "cell_type": "code",
   "execution_count": 22,
   "id": "fab79489-ca30-4f3e-8ed3-5328c1838a70",
   "metadata": {},
   "outputs": [
    {
     "data": {
      "text/plain": [
       "0.0001"
      ]
     },
     "execution_count": 22,
     "metadata": {},
     "output_type": "execute_result"
    }
   ],
   "source": [
    "1e-4"
   ]
  }
 ],
 "metadata": {
  "kernelspec": {
   "display_name": "kaggleenv310",
   "language": "python",
   "name": "kaggle310"
  },
  "language_info": {
   "codemirror_mode": {
    "name": "ipython",
    "version": 3
   },
   "file_extension": ".py",
   "mimetype": "text/x-python",
   "name": "python",
   "nbconvert_exporter": "python",
   "pygments_lexer": "ipython3",
   "version": "3.10.12"
  }
 },
 "nbformat": 4,
 "nbformat_minor": 5
}
