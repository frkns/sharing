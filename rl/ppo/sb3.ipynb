{
 "cells": [
  {
   "cell_type": "raw",
   "id": "b076e7a6-4e8f-47b5-83a7-b14dcd0f9f37",
   "metadata": {},
   "source": [
    "after 100k timesteps\n",
    "normal\n",
    "    fps: 378\n",
    "10 vec envs\n",
    "    fps: 585  (also worse reward performance)"
   ]
  },
  {
   "cell_type": "code",
   "execution_count": 1,
   "id": "945f2f37-d03d-49af-b610-4bef5688577b",
   "metadata": {},
   "outputs": [],
   "source": [
    "import gymnasium as gym\n",
    "from stable_baselines3 import PPO\n",
    "from stable_baselines3.common.vec_env import SubprocVecEnv\n",
    "\n",
    "env_name = 'LunarLander-v3'\n",
    "def make_env(render_mode=None):\n",
    "    return gym.make(env_name, render_mode=render_mode, enable_wind=False)"
   ]
  },
  {
   "cell_type": "code",
   "execution_count": 2,
   "id": "647db344-4ba5-4db2-a13e-c7d3b2555e99",
   "metadata": {},
   "outputs": [
    {
     "name": "stdout",
     "output_type": "stream",
     "text": [
      "Using cpu device\n"
     ]
    }
   ],
   "source": [
    "num_envs = 10\n",
    "envs = SubprocVecEnv([lambda: make_env() for _ in range(num_envs)])\n",
    "\n",
    "# model = PPO('MlpPolicy', env, verbose=2)\n",
    "model = PPO('MlpPolicy', envs, verbose=2)"
   ]
  },
  {
   "cell_type": "code",
   "execution_count": 3,
   "id": "26464a46-cbbb-4e70-aff5-7c13ab9ea13c",
   "metadata": {},
   "outputs": [
    {
     "name": "stdout",
     "output_type": "stream",
     "text": [
      "------------------------------\n",
      "| time/              |       |\n",
      "|    fps             | 2079  |\n",
      "|    iterations      | 1     |\n",
      "|    time_elapsed    | 9     |\n",
      "|    total_timesteps | 20480 |\n",
      "------------------------------\n",
      "-----------------------------------------\n",
      "| time/                   |             |\n",
      "|    fps                  | 783         |\n",
      "|    iterations           | 2           |\n",
      "|    time_elapsed         | 52          |\n",
      "|    total_timesteps      | 40960       |\n",
      "| train/                  |             |\n",
      "|    approx_kl            | 0.008029947 |\n",
      "|    clip_fraction        | 0.0672      |\n",
      "|    clip_range           | 0.2         |\n",
      "|    entropy_loss         | -1.38       |\n",
      "|    explained_variance   | -0.00197    |\n",
      "|    learning_rate        | 0.0003      |\n",
      "|    loss                 | 262         |\n",
      "|    n_updates            | 10          |\n",
      "|    policy_gradient_loss | -0.00702    |\n",
      "|    value_loss           | 848         |\n",
      "-----------------------------------------\n",
      "-----------------------------------------\n",
      "| time/                   |             |\n",
      "|    fps                  | 660         |\n",
      "|    iterations           | 3           |\n",
      "|    time_elapsed         | 92          |\n",
      "|    total_timesteps      | 61440       |\n",
      "| train/                  |             |\n",
      "|    approx_kl            | 0.011108014 |\n",
      "|    clip_fraction        | 0.135       |\n",
      "|    clip_range           | 0.2         |\n",
      "|    entropy_loss         | -1.36       |\n",
      "|    explained_variance   | 0.391       |\n",
      "|    learning_rate        | 0.0003      |\n",
      "|    loss                 | 135         |\n",
      "|    n_updates            | 20          |\n",
      "|    policy_gradient_loss | -0.0134     |\n",
      "|    value_loss           | 313         |\n",
      "-----------------------------------------\n",
      "----------------------------------------\n",
      "| time/                   |            |\n",
      "|    fps                  | 610        |\n",
      "|    iterations           | 4          |\n",
      "|    time_elapsed         | 134        |\n",
      "|    total_timesteps      | 81920      |\n",
      "| train/                  |            |\n",
      "|    approx_kl            | 0.01312279 |\n",
      "|    clip_fraction        | 0.18       |\n",
      "|    clip_range           | 0.2        |\n",
      "|    entropy_loss         | -1.32      |\n",
      "|    explained_variance   | 0.514      |\n",
      "|    learning_rate        | 0.0003     |\n",
      "|    loss                 | 32.5       |\n",
      "|    n_updates            | 30         |\n",
      "|    policy_gradient_loss | -0.0166    |\n",
      "|    value_loss           | 208        |\n",
      "----------------------------------------\n",
      "-----------------------------------------\n",
      "| time/                   |             |\n",
      "|    fps                  | 585         |\n",
      "|    iterations           | 5           |\n",
      "|    time_elapsed         | 174         |\n",
      "|    total_timesteps      | 102400      |\n",
      "| train/                  |             |\n",
      "|    approx_kl            | 0.014062258 |\n",
      "|    clip_fraction        | 0.206       |\n",
      "|    clip_range           | 0.2         |\n",
      "|    entropy_loss         | -1.27       |\n",
      "|    explained_variance   | 0.582       |\n",
      "|    learning_rate        | 0.0003      |\n",
      "|    loss                 | 183         |\n",
      "|    n_updates            | 40          |\n",
      "|    policy_gradient_loss | -0.0186     |\n",
      "|    value_loss           | 184         |\n",
      "-----------------------------------------\n"
     ]
    },
    {
     "data": {
      "text/plain": [
       "<stable_baselines3.ppo.ppo.PPO at 0x2b1943420b0>"
      ]
     },
     "execution_count": 3,
     "metadata": {},
     "output_type": "execute_result"
    }
   ],
   "source": [
    "model.learn(total_timesteps=100_000)"
   ]
  },
  {
   "cell_type": "code",
   "execution_count": 4,
   "id": "c1065ef3-c420-48b3-bc05-2e0cfbecd21d",
   "metadata": {},
   "outputs": [],
   "source": [
    "envs.close()"
   ]
  },
  {
   "cell_type": "code",
   "execution_count": 10,
   "id": "7626da60-59da-463e-b5e6-e76aa5c7da53",
   "metadata": {},
   "outputs": [
    {
     "name": "stdout",
     "output_type": "stream",
     "text": [
      "mean rewards: -757.9061837000002, std: 230.04724271008084\n"
     ]
    }
   ],
   "source": [
    "from stable_baselines3.common.evaluation import evaluate_policy\n",
    "from stable_baselines3.common.monitor import Monitor\n",
    "\n",
    "env = make_env()\n",
    "env = Monitor(env)\n",
    "\n",
    "mean_reward, std_reward = evaluate_policy(model, env, n_eval_episodes=10)\n",
    "print(f'mean rewards: {mean_reward}, std: {std_reward}')\n",
    "\n",
    "env.close()"
   ]
  },
  {
   "cell_type": "code",
   "execution_count": 12,
   "id": "9b80840c-853c-4fa8-9497-f814425db209",
   "metadata": {},
   "outputs": [],
   "source": [
    "env = make_env('human')\n",
    "state, _ = env.reset()\n",
    "while True:\n",
    "    action, _ = model.predict(state)\n",
    "    state, reward, terminated, truncated, _ = env.step(action)\n",
    "    if terminated or truncated:\n",
    "        break\n",
    "        \n",
    "env.close()"
   ]
  },
  {
   "cell_type": "code",
   "execution_count": 7,
   "id": "89bfe995-acff-4ad3-a0c7-d66e790b8eaf",
   "metadata": {},
   "outputs": [],
   "source": [
    "model.save('./saved/sb3-' + env_name)"
   ]
  },
  {
   "cell_type": "code",
   "execution_count": null,
   "id": "6481ba0c-0b06-4577-ba80-0cb52b21364c",
   "metadata": {},
   "outputs": [],
   "source": []
  }
 ],
 "metadata": {
  "kernelspec": {
   "display_name": "kaggleenv310",
   "language": "python",
   "name": "kaggle310"
  },
  "language_info": {
   "codemirror_mode": {
    "name": "ipython",
    "version": 3
   },
   "file_extension": ".py",
   "mimetype": "text/x-python",
   "name": "python",
   "nbconvert_exporter": "python",
   "pygments_lexer": "ipython3",
   "version": "3.10.12"
  }
 },
 "nbformat": 4,
 "nbformat_minor": 5
}
