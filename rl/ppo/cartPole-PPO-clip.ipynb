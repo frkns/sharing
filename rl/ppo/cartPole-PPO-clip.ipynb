{
 "cells": [
  {
   "cell_type": "code",
   "execution_count": 1,
   "id": "d7993116-5dcb-42f7-8fe6-970989dc7771",
   "metadata": {},
   "outputs": [],
   "source": [
    "from collections import defaultdict, deque\n",
    "from gymnasium.wrappers import Autoreset\n",
    "from IPython.display import clear_output\n",
    "import matplotlib.pyplot as plt\n",
    "import gymnasium as gym\n",
    "import numpy as np\n",
    "import random\n",
    "import wandb\n",
    "import time\n",
    "import torch\n",
    "import torch.nn as nn\n",
    "import torch.optim as optim\n",
    "import torch.nn.functional as F\n",
    "from torch.distributions import Categorical"
   ]
  },
  {
   "cell_type": "code",
   "execution_count": 2,
   "id": "170e4f10-e7b2-49e9-a398-c0d5891d4511",
   "metadata": {},
   "outputs": [],
   "source": [
    "class ActorCritic(nn.Module):\n",
    "    def __init__(self, n_in, n_out):\n",
    "        super().__init__()\n",
    "        self.fc1 = nn.Linear(n_in, 64)\n",
    "        self.fc2 = nn.Linear(64, 64)   # test out shared backbone for policy/value\n",
    "        self.g1 = nn.SiLU()\n",
    "        self.g2 = nn.SiLU()\n",
    "        self.policy_head = nn.Linear(64, n_out)\n",
    "        self.value_head = nn.Linear(64, 1)\n",
    "        # nn.init.zeros_(self.policy_head.weight)  # might help to init to 0 for uniform random policy at start\n",
    "        # nn.init.zeros_(self.policy_head.bias)    # although may cause undesirable symmetry breaking\n",
    "\n",
    "    def value_only(self, x):\n",
    "        x = self.g1(self.fc1(x))\n",
    "        x = self.g2(self.fc2(x))\n",
    "        value = self.value_head(x)\n",
    "        return value\n",
    "        \n",
    "    def logits_only(self, x):\n",
    "        x = self.g1(self.fc1(x))\n",
    "        x = self.g2(self.fc2(x))\n",
    "        logits = self.policy_head(x)\n",
    "        return logits\n",
    "\n",
    "    def forward(self, x):\n",
    "        x = self.g1(self.fc1(x))\n",
    "        x = self.g2(self.fc2(x))\n",
    "        logits = self.policy_head(x)\n",
    "        value = self.value_head(x)\n",
    "        return logits, value\n",
    "\n",
    "    def sample(self, state, stochastic=True):\n",
    "        logits, value = self.forward(state)\n",
    "        dist = Categorical(logits=logits)\n",
    "        if stochastic:\n",
    "            action = dist.sample()\n",
    "        else:\n",
    "            action = torch.argmax(logits, dim=-1)\n",
    "        log_prob = dist.log_prob(action)\n",
    "        return action, log_prob, value"
   ]
  },
  {
   "cell_type": "code",
   "execution_count": 3,
   "id": "025715db-68f9-4266-8ba8-a03c67b7069d",
   "metadata": {},
   "outputs": [],
   "source": [
    "env_name = 'CartPole-v1'\n",
    "def make_env(render_mode=None):\n",
    "    env = gym.make(env_name, render_mode=render_mode)\n",
    "    env = Autoreset(env)\n",
    "    return env"
   ]
  },
  {
   "cell_type": "code",
   "execution_count": 4,
   "id": "828b6db4-d6fd-4864-b5b4-fae00f0acc95",
   "metadata": {},
   "outputs": [],
   "source": [
    "@torch.no_grad()\n",
    "def collect_rollout(env, network: ActorCritic, min_steps):\n",
    "    states, actions, rewards, terminateds, log_probs, values = [], [], [], [], [], []\n",
    "    state = torch.as_tensor(env.reset()[0])\n",
    "    step = 0\n",
    "    while True:\n",
    "        step += 1\n",
    "        action, log_prob, value = network.sample(state)\n",
    "        next_state, reward, terminated, truncated, _ = env.step(action.numpy())\n",
    "        next_state = torch.as_tensor(next_state)\n",
    "        states.append(state)\n",
    "        actions.append(action)\n",
    "        rewards.append(reward)\n",
    "        terminateds.append(terminated)\n",
    "        log_probs.append(log_prob)\n",
    "        values.append(value)\n",
    "        state = next_state\n",
    "        if step >= min_steps and (terminated or truncated):\n",
    "            break\n",
    "    values.append(network.value_only(state))  # add the last value, we now have T+1 values in total\n",
    "        \n",
    "    states = torch.stack(states)                                                  # [T, |s|], |s| = dimension of the state vector\n",
    "    actions = torch.stack(actions).reshape(step, -1)                              # [T, |a|], |a| = dimension of the action vector\n",
    "    rewards = torch.as_tensor(rewards, dtype=torch.float).reshape(-1, 1)          # [T, 1]\n",
    "    terminateds = torch.as_tensor(terminateds, dtype=torch.float).reshape(-1, 1)  # [T, 1]\n",
    "    log_probs = torch.stack(log_probs).reshape(-1, 1)                             # [T, 1]\n",
    "    values = torch.stack(values)                                                  # [T+1, 1], T = num_steps\n",
    "    \n",
    "    return states, actions, rewards, terminateds, log_probs, values"
   ]
  },
  {
   "cell_type": "code",
   "execution_count": 5,
   "id": "d54aa200-3589-458c-bb59-6113e406ba9a",
   "metadata": {},
   "outputs": [],
   "source": [
    "@torch.no_grad()\n",
    "def evaluate(network: ActorCritic, stochastic=False, render_mode=None, graph=False):\n",
    "    _env = make_env(render_mode)\n",
    "    state = torch.as_tensor(_env.reset()[0])\n",
    "    sum_rewards = 0\n",
    "    if graph:\n",
    "        values = []\n",
    "        immediate_reward = []\n",
    "        rewards_collected = []\n",
    "        values_plus_rewards = []\n",
    "    step = 0\n",
    "    while True:\n",
    "        step += 1\n",
    "        action, log_prob, value = network.sample(state, stochastic=stochastic)\n",
    "        next_state, reward, terminated, truncated, _ = _env.step(action.numpy())\n",
    "        sum_rewards += reward\n",
    "        if graph:\n",
    "            values += [value.item()]\n",
    "            immediate_reward += [reward]\n",
    "            rewards_collected += [sum_rewards]\n",
    "            values_plus_rewards += [value.item() + sum_rewards]\n",
    "            if step % 20 == 0 or terminated or truncated:\n",
    "                plt.plot(values, label='values')\n",
    "                plt.plot(immediate_reward, label='immediate reward')\n",
    "                plt.plot(rewards_collected, label='rewards collected')\n",
    "                plt.plot(values_plus_rewards, label='rewards + values')\n",
    "                plt.legend()\n",
    "                clear_output(wait=True)\n",
    "                plt.show()\n",
    "        state = torch.as_tensor(next_state)\n",
    "        if terminated or truncated:\n",
    "            break\n",
    "    _env.close()\n",
    "    return sum_rewards"
   ]
  },
  {
   "cell_type": "code",
   "execution_count": 6,
   "id": "6c89b972-5d16-4b40-80a6-b33f37bea6ba",
   "metadata": {},
   "outputs": [],
   "source": [
    "def gae(rewards, terminateds, values, gamma, lambda_):\n",
    "    td_errors = rewards + gamma * values[1:] * (1 - terminateds) - values[:-1]  # TD-errors = TD-targets - V(s)\n",
    "    advantages = torch.zeros_like(td_errors)\n",
    "    advantage = 0\n",
    "    for t in reversed(range(len(td_errors))):\n",
    "        advantage = lambda_ * gamma * advantage * (1 - terminateds[t]) + td_errors[t]  # gamma is being applied twice to discount far away TD-errors\n",
    "        advantages[t] = advantage                                                      # also note (1 - terminateds[t]) is absolutely critical\n",
    "        \n",
    "    return advantages  # [T, 1], once trained, advantages should be close to 0"
   ]
  },
  {
   "cell_type": "code",
   "execution_count": 7,
   "id": "a5f8a065-cc28-4536-8e7a-04b48e2321e9",
   "metadata": {},
   "outputs": [],
   "source": [
    "def explained_variance(returns, values):  # measure of critic's accuracy: 0 = random guessing, 1 = perfect\n",
    "    var_returns = torch.var(returns)\n",
    "    var_residuals = torch.var(returns - values)\n",
    "    if var_returns == 0: return 0.0 if var_residuals == 0 else -float('inf')\n",
    "    return (1 - var_residuals / var_returns).item()"
   ]
  },
  {
   "cell_type": "code",
   "execution_count": 8,
   "id": "c055d6db-7f80-4943-85a2-f9b2b6a5427e",
   "metadata": {},
   "outputs": [
    {
     "name": "stderr",
     "output_type": "stream",
     "text": [
      "Failed to detect the name of this notebook, you can set it manually with the WANDB_NOTEBOOK_NAME environment variable to enable code saving.\n",
      "\u001b[34m\u001b[1mwandb\u001b[0m: Using wandb-core as the SDK backend.  Please refer to https://wandb.me/wandb-core for more information.\n",
      "\u001b[34m\u001b[1mwandb\u001b[0m: Currently logged in as: \u001b[33mkchau\u001b[0m (\u001b[33mkchau-university-of-calgary-in-alberta\u001b[0m) to \u001b[32mhttps://api.wandb.ai\u001b[0m. Use \u001b[1m`wandb login --relogin`\u001b[0m to force relogin\n"
     ]
    },
    {
     "data": {
      "text/html": [
       "Tracking run with wandb version 0.19.8"
      ],
      "text/plain": [
       "<IPython.core.display.HTML object>"
      ]
     },
     "metadata": {},
     "output_type": "display_data"
    },
    {
     "data": {
      "text/html": [
       "Run data is saved locally in <code>C:\\Users\\flame\\wlink\\rl\\ppo\\wandb\\run-20250319_112958-sgs4rhdc</code>"
      ],
      "text/plain": [
       "<IPython.core.display.HTML object>"
      ]
     },
     "metadata": {},
     "output_type": "display_data"
    },
    {
     "data": {
      "text/html": [
       "Syncing run <strong><a href='https://wandb.ai/kchau-university-of-calgary-in-alberta/PPO-CartPole-v1/runs/sgs4rhdc' target=\"_blank\">w/ swish! (NO 0 init)</a></strong> to <a href='https://wandb.ai/kchau-university-of-calgary-in-alberta/PPO-CartPole-v1' target=\"_blank\">Weights & Biases</a> (<a href='https://wandb.me/developer-guide' target=\"_blank\">docs</a>)<br>"
      ],
      "text/plain": [
       "<IPython.core.display.HTML object>"
      ]
     },
     "metadata": {},
     "output_type": "display_data"
    },
    {
     "data": {
      "text/html": [
       " View project at <a href='https://wandb.ai/kchau-university-of-calgary-in-alberta/PPO-CartPole-v1' target=\"_blank\">https://wandb.ai/kchau-university-of-calgary-in-alberta/PPO-CartPole-v1</a>"
      ],
      "text/plain": [
       "<IPython.core.display.HTML object>"
      ]
     },
     "metadata": {},
     "output_type": "display_data"
    },
    {
     "data": {
      "text/html": [
       " View run at <a href='https://wandb.ai/kchau-university-of-calgary-in-alberta/PPO-CartPole-v1/runs/sgs4rhdc' target=\"_blank\">https://wandb.ai/kchau-university-of-calgary-in-alberta/PPO-CartPole-v1/runs/sgs4rhdc</a>"
      ],
      "text/plain": [
       "<IPython.core.display.HTML object>"
      ]
     },
     "metadata": {},
     "output_type": "display_data"
    }
   ],
   "source": [
    "batch_size = 64\n",
    "num_steps = 2048  # steps per rollout\n",
    "num_epochs = 10   # epochs per iteration\n",
    "gae_lambda = 0.95      # GAE(lambda): 0 is same as TD-error, 1 is same as Monte Carlo return\n",
    "value_weight = 0.5     # weight of value loss (vs policy loss)\n",
    "entropy_bonus = 0.01   # entropy regularization coefficient in loss, may need to manually adjust with reward scale\n",
    "clip_eps = 0.2         # policy ratio clipping radius\n",
    "gamma = 0.99\n",
    "policy_lr = 3e-4\n",
    "value_lr = 1e-3\n",
    "backbone_lr = 1e-3  # lr for the shared backbone, OpenAI's Spinning Up implicity uses same lr as critic\n",
    "\n",
    "eval_freq = 3\n",
    "\n",
    "try: env.reset(), env.close()\n",
    "except: pass\n",
    "env = make_env()\n",
    "state_dim = env.observation_space.shape[0]\n",
    "action_dim = env.action_space.n\n",
    "\n",
    "network = ActorCritic(state_dim, action_dim)\n",
    "\n",
    "shared_backbone_params = list(network.fc1.parameters()) + list(network.fc2.parameters()) + list(network.g1.parameters()) + list(network.g2.parameters())\n",
    "policy_head_params = list(network.policy_head.parameters())\n",
    "value_head_params = list(network.value_head.parameters())\n",
    "\n",
    "optimizer = torch.optim.Adam([  # single optimizer, avoids ambiguity in lr of backbone that is present in Spinning Up\n",
    "    {'params': policy_head_params, 'lr': policy_lr},\n",
    "    {'params': value_head_params, 'lr': value_lr},\n",
    "    {'params': shared_backbone_params, 'lr': backbone_lr},\n",
    "])\n",
    "\n",
    "wandb.finish()\n",
    "wandb.init(\n",
    "    project='PPO-' + env_name,\n",
    "    name='w/ swish! (NO 0 init)',\n",
    "    # mode='disabled',\n",
    "    config={\n",
    "        'batch_size': batch_size,\n",
    "        'num_steps': num_steps,\n",
    "        'num_epochs': num_epochs,\n",
    "        'gae_lambda': gae_lambda,\n",
    "        'value_weight': value_weight,\n",
    "        'entropy_bonus': entropy_bonus,\n",
    "        'clip_eps': clip_eps,\n",
    "        'gamma': gamma,\n",
    "        'policy_lr': policy_lr,\n",
    "        'value_lr': value_lr,\n",
    "        'backbone_lr': backbone_lr,\n",
    "        'env_name': env_name,\n",
    "    }\n",
    ")\n",
    "\n",
    "history = {'step_count': 0}"
   ]
  },
  {
   "cell_type": "code",
   "execution_count": 9,
   "id": "b99f1dbc-6cc3-4287-ba4e-6c38b1dd5951",
   "metadata": {},
   "outputs": [],
   "source": [
    "def train(env, num_updates, history):\n",
    "    t_start = time.time()\n",
    "    for update in range(1, num_updates+1):\n",
    "        t0 = time.time()\n",
    "        states, actions, rewards, terminateds, log_probs, values = collect_rollout(env, network, num_steps) \n",
    "        advantages = gae(rewards, terminateds, values, gamma, gae_lambda)\n",
    "        returns = values[:-1] + advantages  # discounted rewards-to-go\n",
    "        actual_steps = len(states)  # actual steps taken \n",
    "        for _ in range(num_epochs):\n",
    "            indices = torch.randperm(actual_steps)\n",
    "            for begin in range(0, actual_steps, batch_size):\n",
    "                end = begin + batch_size\n",
    "                batch_indices = indices[begin:end]\n",
    "                \n",
    "                states_b = states[batch_indices]\n",
    "                actions_b = actions[batch_indices]\n",
    "                returns_b = returns[batch_indices]\n",
    "                advantages_b = advantages[batch_indices]\n",
    "                old_log_probs = log_probs[batch_indices]\n",
    "                \n",
    "                logits, values_b = network(states_b)\n",
    "                dist = Categorical(logits=logits)\n",
    "                entropy = dist.entropy().mean()\n",
    "                cur_log_probs = dist.log_prob(actions_b.squeeze()).reshape(old_log_probs.shape)\n",
    "            \n",
    "                # policy loss\n",
    "                ratio = torch.exp(cur_log_probs - old_log_probs)  # same as cur_probs/old_probs, just with logs\n",
    "                fst_surrogate = ratio * advantages_b\n",
    "                snd_surrogate = torch.clip(ratio, 1 - clip_eps, 1 + clip_eps) * advantages_b\n",
    "                policy_loss = -torch.min(fst_surrogate, snd_surrogate).mean() - entropy_bonus * entropy\n",
    "                \n",
    "                # value loss\n",
    "                value_loss = F.mse_loss(values_b, returns_b, reduction='mean') * value_weight\n",
    "\n",
    "                cum_loss = policy_loss + value_loss\n",
    "                optimizer.zero_grad()\n",
    "                cum_loss.backward()\n",
    "                optimizer.step()\n",
    "        history['step_count'] += actual_steps\n",
    "        \n",
    "        update_time = time.time() - t0\n",
    "        wall_time = time.time() - t_start\n",
    "\n",
    "        with torch.no_grad():\n",
    "            exp_var = explained_variance(returns, values[:-1])\n",
    "            approx_kl = (old_log_probs - cur_log_probs).mean().item()  # 1st order approximation\n",
    "\n",
    "        log = {\n",
    "            'update': update,\n",
    "            'step_count': history['step_count'],\n",
    "            'wall_time': wall_time,\n",
    "            'update_time': update_time,\n",
    "            'advantage': advantages.mean().item(),\n",
    "            'entropy': entropy.item(),\n",
    "            'explained_variance': exp_var,\n",
    "            'approx_kl': approx_kl,\n",
    "        }\n",
    "\n",
    "        if update % eval_freq == 0 or update == num_updates:\n",
    "            t0 = time.time()\n",
    "            eval_rewards = evaluate(network)\n",
    "            eval_time = time.time() - t0\n",
    "            log.update({\n",
    "                'eval_time': eval_time,\n",
    "                'eval_rewards': eval_rewards,\n",
    "            })\n",
    "\n",
    "            clear_output(wait=True)\n",
    "            print(f'wall time {wall_time:.2f} s')\n",
    "            print(f'update {update}')\n",
    "            print(f'step {history[\"step_count\"]}')\n",
    "            print(f'eval return {eval_rewards:.5f}')\n",
    "\n",
    "        try: wandb.log(log)\n",
    "        except: print(f'[warning] wandb log failed')"
   ]
  },
  {
   "cell_type": "code",
   "execution_count": 10,
   "id": "efc3b900-ac98-4fae-9ee6-a55153156d76",
   "metadata": {},
   "outputs": [
    {
     "name": "stdout",
     "output_type": "stream",
     "text": [
      "wall time 81.77 s\n",
      "update 12\n",
      "step 26186\n",
      "eval return 500.00000\n",
      "keyboard interrupt. stopping...\n",
      "done.\n",
      "*actual* time taken: 87.17 s\n"
     ]
    }
   ],
   "source": [
    "t0 = time.time()\n",
    "try:\n",
    "    train(env, 50, history)\n",
    "except KeyboardInterrupt:\n",
    "    print('keyboard interrupt. stopping...')\n",
    "finally:\n",
    "    print(f'done.\\n*actual* time taken: {time.time() - t0:.2f} s')"
   ]
  },
  {
   "cell_type": "code",
   "execution_count": 132,
   "id": "8028e771-3cc2-42f5-905e-0d3cbbe1e172",
   "metadata": {},
   "outputs": [
    {
     "data": {
      "image/png": "[encoded data removed]",
      "text/plain": [
       "<Figure size 640x480 with 1 Axes>"
      ]
     },
     "metadata": {},
     "output_type": "display_data"
    },
    {
     "data": {
      "text/plain": [
       "500.0"
      ]
     },
     "execution_count": 132,
     "metadata": {},
     "output_type": "execute_result"
    }
   ],
   "source": [
    "evaluate(network, stochastic=True, render_mode='human', graph=True)"
   ]
  },
  {
   "cell_type": "code",
   "execution_count": 133,
   "id": "09785024-8345-4fcc-8ce7-d202518e70ba",
   "metadata": {},
   "outputs": [
    {
     "name": "stdout",
     "output_type": "stream",
     "text": [
      "[]\n",
      "[]\n"
     ]
    }
   ],
   "source": [
    "print(list(network.g1.parameters()))  # for prelu\n",
    "print(list(network.g2.parameters()))"
   ]
  },
  {
   "cell_type": "code",
   "execution_count": 134,
   "id": "98b86091-a12a-4d75-8d9f-8cbeedba1c0d",
   "metadata": {},
   "outputs": [
    {
     "data": {
      "image/png": "[encoded data removed]",
      "text/plain": [
       "<Figure size 1600x400 with 4 Axes>"
      ]
     },
     "metadata": {},
     "output_type": "display_data"
    },
    {
     "name": "stdout",
     "output_type": "stream",
     "text": [
      "fc1 [-0.7299498   0.5343914  -0.4238537  -0.33251607  0.66042405 -0.7714595\n",
      "  0.24925837  0.5359434  -0.43632692 -0.532125   -0.5027625   0.68714184\n",
      "  0.8648926  -0.4649007   0.71709895 -0.38054222  0.6206803   0.64019614\n",
      "  0.40614423  0.72017074  0.6452915  -0.09200108 -0.35033703 -0.70443183\n",
      "  0.80936605 -0.52067447  0.6296662  -0.5171878  -0.63215333 -0.76463306\n",
      " -0.46714392  0.89393574 -0.5334778   0.6569031  -0.8041955   0.5599346\n",
      "  0.5018047   0.6746595   0.6064766   0.7130703  -0.60860217 -0.42446887\n",
      "  0.8078047  -0.6502389   0.5086012   0.86182135  0.6321944   0.50364065\n",
      " -0.5559826   0.6944705  -0.52805954  0.59020245  0.50242066  0.47077894\n",
      " -0.68920463  0.51334006  0.6034917  -0.42910492 -0.50452125  0.8116068\n",
      "  0.45735058 -0.41010615  0.6474779  -0.41236776]\n",
      "fc2 [ 7.137705    7.321625    7.5723696   7.626692    6.5377774  -6.0880723\n",
      " -1.6331666   7.356553    7.4287767  -2.823136    6.820693   -2.9235258\n",
      "  6.981755    7.184386   -4.589196    7.203211    6.9107227  -3.4589446\n",
      " -4.5766706  -5.7510386   2.5238924  -3.096426    7.300178   -3.3971012\n",
      " -1.2429051   2.1650236   1.1428779   8.032847    3.194212    7.180791\n",
      "  3.696807    7.266161   -2.0115077   6.925429    7.1914268   2.5732138\n",
      "  7.308482    7.115636    7.061912   -5.538348    0.40332484 -1.2144382\n",
      "  2.6347299  -1.5402842   6.883797    7.473391    6.5728955  -3.3218076\n",
      "  7.1868663   1.5460695   1.8729845   1.6403145   7.1933694  -3.0931895\n",
      "  7.3253984   7.5540032   1.5733968   0.9100074   0.35735053  7.086612\n",
      " -6.1409492  -0.10397423  7.177917   -6.903472  ]\n",
      "policy_head [-2.7880485 -2.937855 ]\n",
      "value_head [99.995026]\n",
      "\n"
     ]
    }
   ],
   "source": [
    "def plot_activations(model, x, print_=True):\n",
    "    activations = {}\n",
    "    def hook_fn(module, inp, out, name):\n",
    "        activations[name] = out.detach().cpu().numpy()\n",
    "    hooks = []\n",
    "    for name, layer in model.named_children():\n",
    "        if isinstance(layer, torch.nn.Linear):  # capture only linear layers\n",
    "            hooks.append(layer.register_forward_hook(lambda m, inp, out, n=name: hook_fn(m, inp, out, n)))\n",
    "    with torch.no_grad():\n",
    "        model(x)\n",
    "    for hook in hooks:\n",
    "        hook.remove()\n",
    "    num_plots = len(activations)\n",
    "    fig, axes = plt.subplots(1, num_plots, figsize=(4 * num_plots, 4))\n",
    "    if num_plots == 1:\n",
    "        axes = [axes]\n",
    "    sout = ''\n",
    "    for ax, (name, act) in zip(axes, activations.items()):\n",
    "        sout += name + ' ' + str(act) + '\\n'\n",
    "        if act.ndim == 1:\n",
    "            act = act.reshape(1, -1)\n",
    "        ax.imshow(act.T, aspect='auto', cmap='viridis')\n",
    "        ax.set_title(name)\n",
    "        ax.set_xlabel('Batch Index')\n",
    "        ax.set_ylabel('Neuron Index')\n",
    "    plt.tight_layout()\n",
    "    plt.show()\n",
    "    if print_: print(sout)\n",
    "\n",
    "state, _ = env.reset()\n",
    "state = torch.as_tensor(state)\n",
    "plot_activations(network, torch.as_tensor(state))"
   ]
  },
  {
   "cell_type": "code",
   "execution_count": 135,
   "id": "dc34bd4e-022c-45ff-94ad-f4dbd8c18697",
   "metadata": {},
   "outputs": [
    {
     "name": "stdout",
     "output_type": "stream",
     "text": [
      "saved.\n"
     ]
    }
   ],
   "source": [
    "import os\n",
    "os.makedirs('./saved', exist_ok=True)\n",
    "torch.save(network.state_dict(), f'./saved/{env_name}-actor-critic.pth')\n",
    "print('saved.')"
   ]
  },
  {
   "cell_type": "code",
   "execution_count": null,
   "id": "46ffcc51-80a0-4893-8395-592acb427c3d",
   "metadata": {},
   "outputs": [],
   "source": []
  }
 ],
 "metadata": {
  "kernelspec": {
   "display_name": "kaggleenv310",
   "language": "python",
   "name": "kaggle310"
  },
  "language_info": {
   "codemirror_mode": {
    "name": "ipython",
    "version": 3
   },
   "file_extension": ".py",
   "mimetype": "text/x-python",
   "name": "python",
   "nbconvert_exporter": "python",
   "pygments_lexer": "ipython3",
   "version": "3.10.12"
  }
 },
 "nbformat": 4,
 "nbformat_minor": 5
}
