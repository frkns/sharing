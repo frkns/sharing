{
 "cells": [
  {
   "cell_type": "code",
   "execution_count": 341,
   "id": "d7993116-5dcb-42f7-8fe6-970989dc7771",
   "metadata": {},
   "outputs": [],
   "source": [
    "from collections import defaultdict, deque\n",
    "from gymnasium.wrappers import Autoreset\n",
    "from IPython.display import clear_output\n",
    "import matplotlib.pyplot as plt\n",
    "import gymnasium as gym\n",
    "import numpy as np\n",
    "import random\n",
    "import wandb\n",
    "import time\n",
    "import torch\n",
    "import torch.nn as nn\n",
    "import torch.optim as optim\n",
    "import torch.nn.functional as F\n",
    "from torch.distributions import Normal"
   ]
  },
  {
   "cell_type": "code",
   "execution_count": 386,
   "id": "170e4f10-e7b2-49e9-a398-c0d5891d4511",
   "metadata": {},
   "outputs": [],
   "source": [
    "class ActorCritic(nn.Module):\n",
    "    def __init__(self, n_in, n_out, max_action):\n",
    "        super().__init__()\n",
    "        self.max_action = max_action\n",
    "        self.fc1 = nn.Linear(n_in, 64)\n",
    "        self.fc2 = nn.Linear(64, 64)\n",
    "        self.g1 = nn.SiLU()\n",
    "        self.g2 = nn.SiLU()\n",
    "        # self.g1 = nn.ReLU()\n",
    "        # self.g2 = nn.ReLU()\n",
    "        self.value_head = nn.Linear(64, 1)\n",
    "        self.mean_head = nn.Linear(64, n_out)\n",
    "        self.log_std_head = nn.Linear(64, n_out)\n",
    "        \n",
    "        with torch.no_grad():  # scale down\n",
    "            self.mean_head.weight.multiply_(0.1)\n",
    "            self.mean_head.bias.multiply_(0.1)\n",
    "            self.log_std_head.weight.multiply_(0.1)\n",
    "            self.log_std_head.bias.multiply_(0.1)\n",
    "\n",
    "    def value_only(self, x):\n",
    "        x = self.g1(self.fc1(x))\n",
    "        x = self.g2(self.fc2(x))\n",
    "        value = self.value_head(x)\n",
    "        return value\n",
    "        \n",
    "\n",
    "    def forward(self, x):\n",
    "        x = self.g1(self.fc1(x))\n",
    "        x = self.g2(self.fc2(x))\n",
    "        value = self.value_head(x)\n",
    "        mean = self.mean_head(x)\n",
    "        # mean = mean.clip(-1, 1)\n",
    "        # mean = torch.tanh(mean)\n",
    "        log_std = self.log_std_head(x)\n",
    "        log_std = log_std.clip(-20, 2)\n",
    "        # log_std = torch.tanh(log_std) * 2\n",
    "        \n",
    "        return value, mean, log_std\n",
    "    \n",
    "    def sample(self, state, stochastic=True):\n",
    "        value, mean, log_std = self.forward(state)\n",
    "        \n",
    "        if stochastic:\n",
    "            std = log_std.exp()\n",
    "            normal = Normal(mean, std)\n",
    "            action = normal.sample()\n",
    "            log_prob = normal.log_prob(action)\n",
    "            log_prob = log_prob.sum(dim=-1, keepdim=True)\n",
    "        else:\n",
    "            action = mean\n",
    "            log_prob = torch.zeros_like(action).sum(dim=-1, keepdim=True)\n",
    "            \n",
    "        return action, log_prob, value"
   ]
  },
  {
   "cell_type": "code",
   "execution_count": 387,
   "id": "025715db-68f9-4266-8ba8-a03c67b7069d",
   "metadata": {},
   "outputs": [],
   "source": [
    "env_name = 'LunarLander-v3'\n",
    "def make_env(render_mode=None):\n",
    "    env = gym.make(env_name, render_mode=render_mode, continuous=True, enable_wind=True, max_episode_steps=1000)\n",
    "    env = Autoreset(env)\n",
    "    return env"
   ]
  },
  {
   "cell_type": "code",
   "execution_count": 388,
   "id": "828b6db4-d6fd-4864-b5b4-fae00f0acc95",
   "metadata": {},
   "outputs": [],
   "source": [
    "@torch.no_grad()\n",
    "def collect_rollout(env, network: ActorCritic, min_steps):\n",
    "    states, actions, rewards, terminateds, log_probs, values = [], [], [], [], [], []\n",
    "    state = torch.as_tensor(env.reset()[0])\n",
    "    step = 0\n",
    "    while True:\n",
    "        step += 1\n",
    "        action, log_prob, value = network.sample(state)\n",
    "        next_state, reward, terminated, truncated, _ = env.step(np.tanh(action.numpy()) * network.max_action)\n",
    "        next_state = torch.as_tensor(next_state)\n",
    "        states.append(state)\n",
    "        actions.append(action)\n",
    "        rewards.append(reward)\n",
    "        terminateds.append(terminated)\n",
    "        log_probs.append(log_prob)\n",
    "        values.append(value)\n",
    "        state = next_state\n",
    "        if step >= min_steps and (terminated or truncated):\n",
    "            break\n",
    "    values.append(network.value_only(state))  # add the last value, we now have T+1 values in total\n",
    "        \n",
    "    states = torch.stack(states)                                                  # [T, |s|], |s| = dimension of the state vector\n",
    "    actions = torch.stack(actions).reshape(step, -1)                              # [T, |a|], |a| = dimension of the action vector\n",
    "    rewards = torch.as_tensor(rewards, dtype=torch.float).reshape(-1, 1)          # [T, 1]\n",
    "    terminateds = torch.as_tensor(terminateds, dtype=torch.float).reshape(-1, 1)  # [T, 1]\n",
    "    log_probs = torch.stack(log_probs).reshape(-1, 1)                             # [T, 1], sum of log probs for these specific actions\n",
    "    values = torch.stack(values)                                                  # [T+1, 1], T = num_steps\n",
    "    \n",
    "    return states, actions, rewards, terminateds, log_probs, values"
   ]
  },
  {
   "cell_type": "code",
   "execution_count": 389,
   "id": "d54aa200-3589-458c-bb59-6113e406ba9a",
   "metadata": {},
   "outputs": [],
   "source": [
    "@torch.no_grad()\n",
    "def evaluate(network: ActorCritic, stochastic=False, render_mode=None, graph=False):\n",
    "    _env = make_env(render_mode)\n",
    "    state = torch.as_tensor(_env.reset()[0])\n",
    "    sum_rewards = 0\n",
    "    if graph:\n",
    "        values = []\n",
    "        immediate_reward = []\n",
    "        rewards_collected = []\n",
    "        values_plus_rewards = []\n",
    "    step = 0\n",
    "    while True:\n",
    "        step += 1\n",
    "        action, log_prob, value = network.sample(state, stochastic=stochastic)\n",
    "        next_state, reward, terminated, truncated, _ = _env.step(np.tanh(action.numpy()) * network.max_action)\n",
    "        sum_rewards += reward\n",
    "        if graph:\n",
    "            values += [value.item()]\n",
    "            immediate_reward += [reward]\n",
    "            rewards_collected += [sum_rewards]\n",
    "            values_plus_rewards += [value.item() + sum_rewards - reward]\n",
    "            if step % 20 == 0 or terminated or truncated:\n",
    "                plt.plot(values, label='values')\n",
    "                plt.plot(immediate_reward, label='immediate reward')\n",
    "                plt.plot(rewards_collected, label='rewards collected')\n",
    "                plt.plot(values_plus_rewards, label='rewards + values')\n",
    "                plt.legend()\n",
    "                clear_output(wait=True)\n",
    "                plt.show()\n",
    "        state = torch.as_tensor(next_state)\n",
    "        if terminated or truncated:\n",
    "            break\n",
    "    _env.close()\n",
    "    return sum_rewards"
   ]
  },
  {
   "cell_type": "code",
   "execution_count": 390,
   "id": "6c89b972-5d16-4b40-80a6-b33f37bea6ba",
   "metadata": {},
   "outputs": [],
   "source": [
    "def gae(rewards, terminateds, values, gamma, lambda_):\n",
    "    td_errors = rewards + gamma * values[1:] * (1 - terminateds) - values[:-1]  # TD-errors = TD-targets - V(s)\n",
    "    advantages = torch.zeros_like(td_errors)\n",
    "    advantage = 0\n",
    "    for t in reversed(range(len(td_errors))):\n",
    "        advantage = lambda_ * gamma * advantage * (1 - terminateds[t]) + td_errors[t]  # gamma is being applied twice to discount far away TD-errors\n",
    "        advantages[t] = advantage                                                      # also note (1 - terminateds[t]) is absolutely critical\n",
    "        \n",
    "    return advantages  # [T, 1], once trained, advantages should be close to 0"
   ]
  },
  {
   "cell_type": "code",
   "execution_count": 391,
   "id": "a5f8a065-cc28-4536-8e7a-04b48e2321e9",
   "metadata": {},
   "outputs": [],
   "source": [
    "def explained_variance(returns, values):  # measure of critic's accuracy: 0 = random guessing, 1 = perfect\n",
    "    var_returns = torch.var(returns)\n",
    "    var_residuals = torch.var(returns - values)\n",
    "    if var_returns == 0: return 0.0 if var_residuals == 0 else -float('inf')\n",
    "    return (1 - var_residuals / var_returns).item()"
   ]
  },
  {
   "cell_type": "code",
   "execution_count": 397,
   "id": "c055d6db-7f80-4943-85a2-f9b2b6a5427e",
   "metadata": {},
   "outputs": [
    {
     "data": {
      "text/html": [],
      "text/plain": [
       "<IPython.core.display.HTML object>"
      ]
     },
     "metadata": {},
     "output_type": "display_data"
    },
    {
     "data": {
      "text/html": [
       "<br>    <style><br>        .wandb-row {<br>            display: flex;<br>            flex-direction: row;<br>            flex-wrap: wrap;<br>            justify-content: flex-start;<br>            width: 100%;<br>        }<br>        .wandb-col {<br>            display: flex;<br>            flex-direction: column;<br>            flex-basis: 100%;<br>            flex: 1;<br>            padding: 10px;<br>        }<br>    </style><br><div class=\"wandb-row\"><div class=\"wandb-col\"><h3>Run history:</h3><br/><table class=\"wandb\"><tr><td>advantage</td><td>█▂▄▄▂▁▃▃▃▃▃</td></tr><tr><td>approx_kl</td><td>▁█▅▅▂▅▄▄▅▃▄</td></tr><tr><td>entropy</td><td>▇█▇▆▇▇██▄▄▁</td></tr><tr><td>eval_rewards (deterministic)</td><td>▁█▅</td></tr><tr><td>eval_rewards (stochastic)</td><td>█▆▁</td></tr><tr><td>eval_time</td><td>▁▂█</td></tr><tr><td>explained_variance</td><td>▁▅▆▇▇██████</td></tr><tr><td>mean</td><td>▅▄▃▃▁▆▄▁▃▃█</td></tr><tr><td>policy_loss</td><td>▂▅█▄▅▃▅▁▂▄▅</td></tr><tr><td>raw_ratio</td><td>▇▁██▆▂█▅▅▅█</td></tr><tr><td>stats_time</td><td>▅▂▄▇▅▁▆▁▃▄█</td></tr><tr><td>std</td><td>▅▆▆▅▆▅▇█▄▄▁</td></tr><tr><td>step_count</td><td>▁▂▂▃▄▄▅▆▇▇█</td></tr><tr><td>update</td><td>▁▂▂▃▄▅▅▆▇▇█</td></tr><tr><td>update_time</td><td>█▃▅▃▂▁▅▄▆▄▄</td></tr><tr><td>value_loss</td><td>▃▆▂▁█▁▆▃▄▂▃</td></tr><tr><td>wall_time</td><td>▁▂▂▃▄▄▅▆▇▇█</td></tr></table><br/></div><div class=\"wandb-col\"><h3>Run summary:</h3><br/><table class=\"wandb\"><tr><td>advantage</td><td>0.0</td></tr><tr><td>approx_kl</td><td>0.01506</td></tr><tr><td>entropy</td><td>1.21334</td></tr><tr><td>eval_rewards (deterministic)</td><td>-195.50036</td></tr><tr><td>eval_rewards (stochastic)</td><td>-233.87588</td></tr><tr><td>eval_time</td><td>0.2248</td></tr><tr><td>explained_variance</td><td>0.96945</td></tr><tr><td>mean</td><td>0.06398</td></tr><tr><td>policy_loss</td><td>0.10776</td></tr><tr><td>raw_ratio</td><td>1.00093</td></tr><tr><td>stats_time</td><td>0.00496</td></tr><tr><td>std</td><td>0.85714</td></tr><tr><td>step_count</td><td>23314</td></tr><tr><td>update</td><td>11</td></tr><tr><td>update_time</td><td>3.30694</td></tr><tr><td>value_loss</td><td>0.05503</td></tr><tr><td>wall_time</td><td>37.444</td></tr></table><br/></div></div>"
      ],
      "text/plain": [
       "<IPython.core.display.HTML object>"
      ]
     },
     "metadata": {},
     "output_type": "display_data"
    },
    {
     "data": {
      "text/html": [
       " View run <strong style=\"color:#cdcd00\">back to swish</strong> at: <a href='https://wandb.ai/kchau-university-of-calgary-in-alberta/PPO-LunarLander-v3/runs/t3h0y2iv' target=\"_blank\">https://wandb.ai/kchau-university-of-calgary-in-alberta/PPO-LunarLander-v3/runs/t3h0y2iv</a><br> View project at: <a href='https://wandb.ai/kchau-university-of-calgary-in-alberta/PPO-LunarLander-v3' target=\"_blank\">https://wandb.ai/kchau-university-of-calgary-in-alberta/PPO-LunarLander-v3</a><br>Synced 5 W&B file(s), 0 media file(s), 0 artifact file(s) and 0 other file(s)"
      ],
      "text/plain": [
       "<IPython.core.display.HTML object>"
      ]
     },
     "metadata": {},
     "output_type": "display_data"
    },
    {
     "data": {
      "text/html": [
       "Find logs at: <code>.\\wandb\\run-20250318_171352-t3h0y2iv\\logs</code>"
      ],
      "text/plain": [
       "<IPython.core.display.HTML object>"
      ]
     },
     "metadata": {},
     "output_type": "display_data"
    },
    {
     "data": {
      "text/html": [
       "Tracking run with wandb version 0.19.8"
      ],
      "text/plain": [
       "<IPython.core.display.HTML object>"
      ]
     },
     "metadata": {},
     "output_type": "display_data"
    },
    {
     "data": {
      "text/html": [
       "Run data is saved locally in <code>C:\\Users\\flame\\wlink\\rl\\ppo\\wandb\\run-20250318_171452-19zlg74j</code>"
      ],
      "text/plain": [
       "<IPython.core.display.HTML object>"
      ]
     },
     "metadata": {},
     "output_type": "display_data"
    },
    {
     "data": {
      "text/html": [
       "Syncing run <strong><a href='https://wandb.ai/kchau-university-of-calgary-in-alberta/PPO-LunarLander-v3/runs/19zlg74j' target=\"_blank\">harder0</a></strong> to <a href='https://wandb.ai/kchau-university-of-calgary-in-alberta/PPO-LunarLander-v3' target=\"_blank\">Weights & Biases</a> (<a href='https://wandb.me/developer-guide' target=\"_blank\">docs</a>)<br>"
      ],
      "text/plain": [
       "<IPython.core.display.HTML object>"
      ]
     },
     "metadata": {},
     "output_type": "display_data"
    },
    {
     "data": {
      "text/html": [
       " View project at <a href='https://wandb.ai/kchau-university-of-calgary-in-alberta/PPO-LunarLander-v3' target=\"_blank\">https://wandb.ai/kchau-university-of-calgary-in-alberta/PPO-LunarLander-v3</a>"
      ],
      "text/plain": [
       "<IPython.core.display.HTML object>"
      ]
     },
     "metadata": {},
     "output_type": "display_data"
    },
    {
     "data": {
      "text/html": [
       " View run at <a href='https://wandb.ai/kchau-university-of-calgary-in-alberta/PPO-LunarLander-v3/runs/19zlg74j' target=\"_blank\">https://wandb.ai/kchau-university-of-calgary-in-alberta/PPO-LunarLander-v3/runs/19zlg74j</a>"
      ],
      "text/plain": [
       "<IPython.core.display.HTML object>"
      ]
     },
     "metadata": {},
     "output_type": "display_data"
    }
   ],
   "source": [
    "batch_size = 64\n",
    "num_steps = 2048  # steps per rollout\n",
    "num_epochs = 5    # epochs per iteration\n",
    "gae_lambda = 0.97      # GAE(lambda): 0 is same as TD-error, 1 is same as Monte Carlo return\n",
    "value_weight = 0.5     # weight of value loss (vs policy loss)\n",
    "entropy_bonus = 0.01 * 0.1  # entropy regularization coefficient in loss, may need to manually adjust with reward scale\n",
    "clip_eps = 0.2         # policy ratio clipping radius\n",
    "gamma = 0.99\n",
    "policy_lr = 3e-4\n",
    "value_lr = 1e-3\n",
    "backbone_lr = 1e-3  # lr for the shared backbone, OpenAI's Spinning Up implicity uses same lr as critic\n",
    "\n",
    "eval_freq = 3\n",
    "\n",
    "try: env.reset(), env.close()\n",
    "except: pass\n",
    "env = make_env()\n",
    "state_dim = env.observation_space.shape[0]\n",
    "action_dim = env.action_space.shape[0]\n",
    "max_action = env.action_space.high\n",
    "\n",
    "network = ActorCritic(state_dim, action_dim, max_action)\n",
    "\n",
    "shared_backbone_params = list(network.fc1.parameters()) + list(network.fc2.parameters()) + list(network.g1.parameters()) + list(network.g2.parameters())\n",
    "policy_head_params = list(network.mean_head.parameters()) + list(network.log_std_head.parameters())\n",
    "value_head_params = list(network.value_head.parameters())\n",
    "\n",
    "optimizer = torch.optim.Adam([  # single optimizer, avoids ambiguity in lr of backbone that is present in Spinning Up\n",
    "    {'params': policy_head_params, 'lr': policy_lr},\n",
    "    {'params': value_head_params, 'lr': value_lr},\n",
    "    {'params': shared_backbone_params, 'lr': backbone_lr},\n",
    "])\n",
    "\n",
    "wandb.finish()\n",
    "wandb.init(\n",
    "    project='PPO-' + env_name,\n",
    "    name='harder0',\n",
    "    # mode='disabled',\n",
    "    config={\n",
    "        'batch_size': batch_size,\n",
    "        'num_steps': num_steps,\n",
    "        'num_epochs': num_epochs,\n",
    "        'gae_lambda': gae_lambda,\n",
    "        'value_weight': value_weight,\n",
    "        'entropy_bonus': entropy_bonus,\n",
    "        'clip_eps': clip_eps,\n",
    "        'gamma': gamma,\n",
    "        'policy_lr': policy_lr,\n",
    "        'value_lr': value_lr,\n",
    "        'backbone_lr': backbone_lr,\n",
    "        'env_name': env_name,\n",
    "    }\n",
    ")\n",
    "\n",
    "history = {'step_count': 0}"
   ]
  },
  {
   "cell_type": "code",
   "execution_count": 398,
   "id": "b99f1dbc-6cc3-4287-ba4e-6c38b1dd5951",
   "metadata": {},
   "outputs": [],
   "source": [
    "def train(env, num_updates, history):\n",
    "    t_start = time.time()\n",
    "    for update in range(1, num_updates+1):\n",
    "        t0 = time.time()\n",
    "        states, actions, rewards, terminateds, log_probs, values = collect_rollout(env, network, num_steps) \n",
    "        advantages = gae(rewards, terminateds, values, gamma, gae_lambda)\n",
    "        advantages = (advantages - advantages.mean()) / (advantages.std() + 1e-7)\n",
    "        returns = values[:-1] + advantages  # discounted rewards-to-go\n",
    "        actual_steps = len(states)  # actual steps taken \n",
    "        for _ in range(num_epochs):\n",
    "            indices = torch.randperm(actual_steps)\n",
    "            for begin in range(0, actual_steps, batch_size):\n",
    "                end = begin + batch_size\n",
    "                batch_indices = indices[begin:end]\n",
    "                \n",
    "                states_b = states[batch_indices]\n",
    "                actions_b = actions[batch_indices]\n",
    "                returns_b = returns[batch_indices]\n",
    "                advantages_b = advantages[batch_indices]\n",
    "                old_log_probs = log_probs[batch_indices]\n",
    "                \n",
    "                values_b, means, log_stds = network(states_b)\n",
    "                stds = log_stds.exp()\n",
    "                dist = Normal(means, stds)\n",
    "                entropy = dist.entropy().mean()\n",
    "                cur_log_probs = dist.log_prob(actions_b).sum(1, keepdim=True)\n",
    "            \n",
    "                # policy loss\n",
    "                assert cur_log_probs.shape == old_log_probs.shape\n",
    "                ratio = torch.exp(cur_log_probs - old_log_probs)  # same as cur_probs/old_probs, just with logs\n",
    "                fst_surrogate = ratio * advantages_b\n",
    "                snd_surrogate = torch.clip(ratio, 1 - clip_eps, 1 + clip_eps) * advantages_b\n",
    "                policy_loss = -torch.min(fst_surrogate, snd_surrogate).mean() - entropy_bonus * entropy\n",
    "                \n",
    "                # value loss\n",
    "                value_loss = F.huber_loss(values_b, returns_b, reduction='mean') * value_weight\n",
    "\n",
    "                cum_loss = policy_loss + value_loss\n",
    "                optimizer.zero_grad()\n",
    "                cum_loss.backward()\n",
    "                optimizer.step()\n",
    "        history['step_count'] += actual_steps\n",
    "        \n",
    "        update_time = time.time() - t0\n",
    "        wall_time = time.time() - t_start\n",
    "\n",
    "        t0 = time.time()\n",
    "        with torch.no_grad():\n",
    "            # recompute\n",
    "            values_full, means_full, log_stds_full = network(states)\n",
    "            stds_full = log_stds_full.exp()\n",
    "            dist_full = Normal(means_full, stds_full)\n",
    "            cur_log_probs_full = dist_full.log_prob(actions).sum(1, keepdim=True)\n",
    "            approx_kl = (log_probs - cur_log_probs_full)\n",
    "            entropy_full = dist_full.entropy()\n",
    "            exp_var = explained_variance(returns, values[:-1])\n",
    "            ratio_full = torch.exp(cur_log_probs_full - log_probs)\n",
    "        stats_time = time.time() - t0\n",
    "            \n",
    "        log = {\n",
    "            'update': update,\n",
    "            'step_count': history['step_count'],\n",
    "            'wall_time': wall_time,\n",
    "            'update_time': update_time,\n",
    "            'stats_time': stats_time,\n",
    "            'advantage': advantages.mean().item(),\n",
    "            'entropy': entropy_full.mean().item(),\n",
    "            'explained_variance': exp_var,\n",
    "            'approx_kl': approx_kl.mean().item(),\n",
    "            'std': stds_full.mean().item(),\n",
    "            'mean': means_full.mean().item(),\n",
    "            'policy_loss': policy_loss.item(),\n",
    "            'value_loss': value_loss.item(),\n",
    "            'raw_ratio': ratio_full.mean().item(),\n",
    "        }\n",
    "\n",
    "        if update % eval_freq == 0 or update == num_updates:\n",
    "            t0 = time.time()\n",
    "            eval_rewards_d = evaluate(network, stochastic=False)\n",
    "            eval_rewards_s = evaluate(network, stochastic=True)\n",
    "            eval_time = time.time() - t0\n",
    "            log.update({\n",
    "                'eval_time': eval_time,\n",
    "                'eval_rewards (deterministic)': eval_rewards_d,\n",
    "                'eval_rewards (stochastic)': eval_rewards_s,\n",
    "            })\n",
    "\n",
    "            clear_output(wait=True)\n",
    "            print(f'wall time {wall_time:.2f} s')\n",
    "            print(f'update {update}')\n",
    "            print(f'step {history[\"step_count\"]}')\n",
    "            print(f'eval rewards (deterministic) {eval_rewards_d:.5f}')\n",
    "\n",
    "        try: wandb.log(log)\n",
    "        except: print(f'[warning] wandb log failed')"
   ]
  },
  {
   "cell_type": "code",
   "execution_count": 399,
   "id": "c2c50ca1-130f-490e-a010-4310d8219d18",
   "metadata": {},
   "outputs": [
    {
     "data": {
      "text/plain": [
       "(tensor([-0.0530], grad_fn=<ViewBackward0>),\n",
       " tensor([ 0.0142, -0.0148], grad_fn=<ViewBackward0>),\n",
       " tensor([ 0.0093, -0.0075], grad_fn=<ClampBackward1>))"
      ]
     },
     "execution_count": 399,
     "metadata": {},
     "output_type": "execute_result"
    }
   ],
   "source": [
    "state, _ = env.reset()\n",
    "s = torch.as_tensor(state)\n",
    "action, _, _ = network.sample(s)\n",
    "network(s)"
   ]
  },
  {
   "cell_type": "code",
   "execution_count": 414,
   "id": "efc3b900-ac98-4fae-9ee6-a55153156d76",
   "metadata": {},
   "outputs": [
    {
     "name": "stdout",
     "output_type": "stream",
     "text": [
      "wall time 878.04 s\n",
      "update 250\n",
      "step 1774719\n",
      "eval rewards (deterministic) 206.59330\n",
      "done.\n",
      "*actual* time taken: 878.72 s\n"
     ]
    }
   ],
   "source": [
    "t0 = time.time()\n",
    "try:\n",
    "    # torch.autograd.set_detect_anomaly(False)\n",
    "    train(env, 250, history)\n",
    "except KeyboardInterrupt:\n",
    "    print('keyboard interrupt. stopping...')\n",
    "finally:\n",
    "    print(f'done.\\n*actual* time taken: {time.time() - t0:.2f} s')"
   ]
  },
  {
   "cell_type": "code",
   "execution_count": 418,
   "id": "8028e771-3cc2-42f5-905e-0d3cbbe1e172",
   "metadata": {},
   "outputs": [
    {
     "data": {
      "image/png": "[encoded data removed]",
      "text/plain": [
       "<Figure size 640x480 with 1 Axes>"
      ]
     },
     "metadata": {},
     "output_type": "display_data"
    },
    {
     "data": {
      "text/plain": [
       "np.float64(270.8545689163089)"
      ]
     },
     "execution_count": 418,
     "metadata": {},
     "output_type": "execute_result"
    }
   ],
   "source": [
    "evaluate(network, stochastic=False, render_mode='human', graph=True)"
   ]
  },
  {
   "cell_type": "code",
   "execution_count": 419,
   "id": "09785024-8345-4fcc-8ce7-d202518e70ba",
   "metadata": {},
   "outputs": [
    {
     "name": "stdout",
     "output_type": "stream",
     "text": [
      "[]\n",
      "[]\n"
     ]
    }
   ],
   "source": [
    "print(list(network.g1.parameters()))  # for prelu\n",
    "print(list(network.g2.parameters()))"
   ]
  },
  {
   "cell_type": "code",
   "execution_count": 420,
   "id": "98b86091-a12a-4d75-8d9f-8cbeedba1c0d",
   "metadata": {},
   "outputs": [
    {
     "data": {
      "image/png": "[encoded data removed]",
      "text/plain": [
       "<Figure size 2000x400 with 5 Axes>"
      ]
     },
     "metadata": {},
     "output_type": "display_data"
    },
    {
     "name": "stdout",
     "output_type": "stream",
     "text": [
      "fc1 [ 8.8750362e-01  9.6074998e-01  1.3924211e-02 -1.4688575e+00\n",
      " -2.5375590e-01  8.6851466e-01  2.1713700e+00 -1.1035758e+00\n",
      " -4.3646982e-01 -1.2232026e+00 -7.0320427e-01 -2.9199834e+00\n",
      "  1.2311705e+00  2.2540092e-03 -1.1106396e+00 -1.9881439e-01\n",
      " -4.4832796e-01 -1.6849159e+00 -3.3055809e-01  6.8729979e-01\n",
      " -9.8843741e-01 -6.9907904e-02  8.3540636e-01  6.7889974e-02\n",
      "  7.7717370e-01 -2.3237593e+00  1.9637880e+00 -1.2364319e-01\n",
      "  1.7045072e+00  6.0032666e-01  8.6835217e-01 -1.6694171e+00\n",
      " -6.9849086e-01  7.2199106e-02 -1.5061042e+00  1.1977829e+00\n",
      "  1.3035144e+00  2.8561411e+00 -2.3181787e+00 -1.2427073e+00\n",
      " -1.1865216e+00 -4.7515830e-01  5.5617523e-01  1.6428267e+00\n",
      " -7.1621287e-01  1.1086707e+00  1.4608721e+00  1.9217004e+00\n",
      " -2.7633017e-01  5.4474533e-01 -3.5791242e-01  9.6445608e-01\n",
      "  8.2265466e-01  8.2724869e-01 -2.6114190e-01 -1.4532541e+00\n",
      " -7.5334659e+00 -1.3496842e+00  2.3855741e+00  1.7942382e+00\n",
      "  1.3474793e+00  6.7209661e-01 -2.5692195e-01 -7.1667588e-01]\n",
      "fc2 [-1.6739786e-02  1.0144379e+01 -3.4246069e-01  6.5084705e+00\n",
      " -3.0010519e+00 -2.6048713e+00 -4.5223536e+00 -1.3093815e+01\n",
      "  1.3004607e+00 -3.3053174e+00  6.2993641e+00  3.2766738e+00\n",
      " -7.6569977e+00 -6.2958364e+00 -1.8767978e+00 -6.9471989e+00\n",
      "  1.7942204e+00 -1.9209399e+00 -3.1010981e+00  1.7620384e+00\n",
      "  1.8834339e+00 -1.5818750e+01  3.1507010e+00 -2.8242958e+00\n",
      " -7.4651718e-01 -4.9407458e+00 -5.2644420e+00  2.7626388e+00\n",
      " -1.4080526e+00  9.7373838e+00  7.9498607e-01  1.2542522e+00\n",
      " -8.9416103e+00  1.1483935e+01 -1.7306117e+00  6.2968659e+00\n",
      "  9.9430904e+00 -6.4104879e-01 -1.8714433e+00  1.4491952e+01\n",
      "  1.4758022e+01  3.0868099e+00  5.7832813e+00  3.1871578e-01\n",
      "  5.8721757e+00 -1.1926523e+00  7.2182860e+00 -4.8993430e+00\n",
      "  4.5922408e+00  2.5111475e+00 -5.9553890e+00 -3.4644749e+00\n",
      " -2.0253988e+01  2.0394073e+00 -5.9250145e+00  2.6824758e+00\n",
      "  4.4566369e+00 -8.5947580e+00  1.3743357e+01 -1.4248297e+01\n",
      " -2.0657558e+00 -7.8280306e+00 -1.8247936e+01 -2.7545118e+00]\n",
      "value_head [114.562416]\n",
      "mean_head [-1.4587355  7.685554 ]\n",
      "log_std_head [-0.7377765  -0.05417138]\n",
      "\n"
     ]
    }
   ],
   "source": [
    "def plot_activations(model, x, print_=True):\n",
    "    activations = {}\n",
    "    def hook_fn(module, inp, out, name):\n",
    "        activations[name] = out.detach().cpu().numpy()\n",
    "    hooks = []\n",
    "    for name, layer in model.named_children():\n",
    "        if isinstance(layer, torch.nn.Linear):  # capture only linear layers\n",
    "            hooks.append(layer.register_forward_hook(lambda m, inp, out, n=name: hook_fn(m, inp, out, n)))\n",
    "    with torch.no_grad():\n",
    "        model(x)\n",
    "    for hook in hooks:\n",
    "        hook.remove()\n",
    "    num_plots = len(activations)\n",
    "    fig, axes = plt.subplots(1, num_plots, figsize=(4 * num_plots, 4))\n",
    "    if num_plots == 1:\n",
    "        axes = [axes]\n",
    "    sout = ''\n",
    "    for ax, (name, act) in zip(axes, activations.items()):\n",
    "        sout += name + ' ' + str(act) + '\\n'\n",
    "        if act.ndim == 1:\n",
    "            act = act.reshape(1, -1)\n",
    "        ax.imshow(act.T, aspect='auto', cmap='viridis')\n",
    "        ax.set_title(name)\n",
    "        ax.set_xlabel('Batch Index')\n",
    "        ax.set_ylabel('Neuron Index')\n",
    "    plt.tight_layout()\n",
    "    plt.show()\n",
    "    if print_: print(sout)\n",
    "\n",
    "state, _ = env.reset()\n",
    "state = torch.as_tensor(state)\n",
    "plot_activations(network, torch.as_tensor(state))"
   ]
  },
  {
   "cell_type": "code",
   "execution_count": 421,
   "id": "dc34bd4e-022c-45ff-94ad-f4dbd8c18697",
   "metadata": {},
   "outputs": [
    {
     "name": "stdout",
     "output_type": "stream",
     "text": [
      "saved.\n"
     ]
    }
   ],
   "source": [
    "import os\n",
    "os.makedirs('./saved', exist_ok=True)\n",
    "torch.save(network.state_dict(), f'./saved/{env_name}-actor-critic.pth')\n",
    "print('saved.')"
   ]
  },
  {
   "cell_type": "code",
   "execution_count": null,
   "id": "74c00bcd-e968-4c40-9e82-f9dd1f5074c9",
   "metadata": {},
   "outputs": [],
   "source": []
  }
 ],
 "metadata": {
  "kernelspec": {
   "display_name": "kaggleenv310",
   "language": "python",
   "name": "kaggle310"
  },
  "language_info": {
   "codemirror_mode": {
    "name": "ipython",
    "version": 3
   },
   "file_extension": ".py",
   "mimetype": "text/x-python",
   "name": "python",
   "nbconvert_exporter": "python",
   "pygments_lexer": "ipython3",
   "version": "3.10.12"
  }
 },
 "nbformat": 4,
 "nbformat_minor": 5
}
