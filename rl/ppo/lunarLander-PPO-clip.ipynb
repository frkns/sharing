{
 "cells": [
  {
   "cell_type": "markdown",
   "id": "6d0bb850-ef86-4e3f-ab62-a8a922a72e4f",
   "metadata": {},
   "source": [
    "LunarLander: training PPO without wind then pausing training to add it helped"
   ]
  },
  {
   "cell_type": "code",
   "execution_count": 85,
   "id": "d7993116-5dcb-42f7-8fe6-970989dc7771",
   "metadata": {},
   "outputs": [],
   "source": [
    "from gymnasium.wrappers import Autoreset, TimeAwareObservation\n",
    "from collections import defaultdict, deque\n",
    "from IPython.display import clear_output\n",
    "import matplotlib.pyplot as plt\n",
    "import gymnasium as gym\n",
    "import numpy as np\n",
    "import random\n",
    "import wandb\n",
    "import time\n",
    "import torch\n",
    "import torch.nn as nn\n",
    "import torch.optim as optim\n",
    "import torch.nn.functional as F\n",
    "from torch.distributions import Categorical"
   ]
  },
  {
   "cell_type": "code",
   "execution_count": 86,
   "id": "170e4f10-e7b2-49e9-a398-c0d5891d4511",
   "metadata": {},
   "outputs": [],
   "source": [
    "class ActorCritic(nn.Module):\n",
    "    def __init__(self, n_in, n_out):\n",
    "        super().__init__()\n",
    "        self.fc1 = nn.Linear(n_in, 64)\n",
    "        self.fc2 = nn.Linear(64, 64)\n",
    "        self.g1 = nn.SiLU()\n",
    "        self.g2 = nn.SiLU()\n",
    "        self.policy_head = nn.Linear(64, n_out)\n",
    "        self.value_head = nn.Linear(64, 1)\n",
    "        \n",
    "        nn.init.orthogonal_(self.fc1.weight, gain=torch.nn.init.calculate_gain('relu'))  # 'relu' gain = sqrt(2)\n",
    "        nn.init.orthogonal_(self.fc2.weight, gain=torch.nn.init.calculate_gain('relu'))\n",
    "        nn.init.orthogonal_(self.policy_head.weight, gain=0.01)  # uniform policy\n",
    "        nn.init.orthogonal_(self.value_head.weight, gain=1.0)\n",
    "        \n",
    "        nn.init.constant_(self.fc1.bias, 0.0)\n",
    "        nn.init.constant_(self.fc2.bias, 0.0)\n",
    "        nn.init.constant_(self.policy_head.bias, 0.0)\n",
    "        nn.init.constant_(self.value_head.bias, 0.0)\n",
    "\n",
    "    def value_only(self, x):\n",
    "        x = self.g1(self.fc1(x))\n",
    "        x = self.g2(self.fc2(x))\n",
    "        value = self.value_head(x)\n",
    "        return value\n",
    "\n",
    "    def forward(self, x):\n",
    "        x = self.g1(self.fc1(x))\n",
    "        x = self.g2(self.fc2(x))\n",
    "        logits = self.policy_head(x)\n",
    "        value = self.value_head(x)\n",
    "        return logits, value\n",
    "\n",
    "    def sample(self, state, stochastic=True):\n",
    "        logits, value = self.forward(state)\n",
    "        dist = Categorical(logits=logits)\n",
    "        if stochastic:\n",
    "            action = dist.sample()\n",
    "        else:\n",
    "            action = torch.argmax(logits, dim=-1)\n",
    "        log_prob = dist.log_prob(action)\n",
    "        return action, log_prob, value"
   ]
  },
  {
   "cell_type": "code",
   "execution_count": 198,
   "id": "025715db-68f9-4266-8ba8-a03c67b7069d",
   "metadata": {},
   "outputs": [],
   "source": [
    "env_name = 'LunarLander-v3'\n",
    "def make_env(render_mode=None):\n",
    "    env = gym.make(env_name, render_mode=render_mode, max_episode_steps=500, enable_wind=True)\n",
    "    # env = TimeAwareObservation(env)\n",
    "    env = Autoreset(env)  # TimeAwareObservation before Autoreset or else timestep tracking will be erroneous!!\n",
    "    return env"
   ]
  },
  {
   "cell_type": "code",
   "execution_count": 162,
   "id": "2d15ed1a-f99a-48f4-8c3f-f15c85fe55d1",
   "metadata": {},
   "outputs": [
    {
     "name": "stdout",
     "output_type": "stream",
     "text": [
      "iter 490 tensor([ 0.2515,  0.3472,  0.5087, -1.6000, -0.2842, -0.1135,  0.0000,  0.0000])\n",
      "iter 491 tensor([ 0.2566,  0.3106,  0.5087, -1.6266, -0.2899, -0.1135,  0.0000,  0.0000])\n",
      "iter 492 tensor([ 0.2616,  0.2734,  0.5087, -1.6533, -0.2956, -0.1135,  0.0000,  0.0000])\n",
      "iter 493 tensor([ 0.2666,  0.2356,  0.5087, -1.6800, -0.3013, -0.1135,  0.0000,  0.0000])\n",
      "iter 494 tensor([ 0.2717,  0.1973,  0.5087, -1.7066, -0.3070, -0.1135,  0.0000,  0.0000])\n",
      "iter 495 tensor([ 0.2767,  0.1583,  0.5087, -1.7333, -0.3126, -0.1135,  0.0000,  0.0000])\n",
      "iter 496 tensor([ 0.2817,  0.1187,  0.5087, -1.7600, -0.3183, -0.1135,  0.0000,  0.0000])\n",
      "iter 497 tensor([ 0.2868,  0.0786,  0.5087, -1.7867, -0.3240, -0.1135,  1.0000,  0.0000])\n",
      "iter 498 tensor([ 0.2907,  0.0401,  0.3838, -1.7091, -0.3191,  0.0955,  1.0000,  0.0000])\n",
      "iter 499 tensor([ 0.2889,  0.0307, -0.3860, -0.3924, -0.1058,  4.1732,  1.0000,  0.0000])\n",
      "terminated\n"
     ]
    }
   ],
   "source": [
    "def scope():  # check env is set up correctly\n",
    "    e = make_env()\n",
    "    e.reset()\n",
    "    for i in range(500):\n",
    "        if i % 10 == 0:\n",
    "            clear_output(wait=True)\n",
    "        s, r, term, trunc, _ = e.step(0)\n",
    "        print('iter', i, torch.as_tensor(s, dtype=torch.float))\n",
    "        if term or trunc:\n",
    "            sout = ''\n",
    "            if term: sout += 'terminated'\n",
    "            if trunc: sout += 'truncated'  # truncates at max_episode_steps\n",
    "            print(sout)\n",
    "    e.close()\n",
    "scope()"
   ]
  },
  {
   "cell_type": "code",
   "execution_count": 163,
   "id": "828b6db4-d6fd-4864-b5b4-fae00f0acc95",
   "metadata": {},
   "outputs": [],
   "source": [
    "@torch.no_grad()\n",
    "def collect_rollout(env, network: ActorCritic, min_steps):\n",
    "    states, actions, rewards, terminateds, truncateds, log_probs, values = [], [], [], [], [], [], []\n",
    "    state = torch.as_tensor(env.reset()[0], dtype=torch.float)\n",
    "    step = 0\n",
    "    while True:\n",
    "        step += 1\n",
    "        action, log_prob, value = network.sample(state)\n",
    "        next_state, reward, terminated, truncated, _ = env.step(action.numpy())\n",
    "        next_state = torch.as_tensor(next_state, dtype=torch.float)\n",
    "        states.append(state)\n",
    "        actions.append(action)\n",
    "        rewards.append(reward)\n",
    "        terminateds.append(terminated)\n",
    "        truncateds.append(truncated)\n",
    "        log_probs.append(log_prob)\n",
    "        values.append(value)\n",
    "        state = next_state\n",
    "        if step >= min_steps and (terminated or truncated):\n",
    "            break\n",
    "    values.append(network.value_only(state))  # add the last value, we now have T+1 values in total\n",
    "        \n",
    "    states = torch.stack(states)                                                  # [T, |s|], |s| = dimension of the state vector\n",
    "    actions = torch.stack(actions).reshape(step, -1)                              # [T, |a|], |a| = dimension of the action vector\n",
    "    rewards = torch.as_tensor(rewards, dtype=torch.float).reshape(-1, 1)          # [T, 1]\n",
    "    terminateds = torch.as_tensor(terminateds, dtype=torch.float).reshape(-1, 1)  # [T, 1]\n",
    "    truncateds = torch.as_tensor(truncateds, dtype=torch.float).reshape(-1, 1)    # [T, 1]\n",
    "    log_probs = torch.stack(log_probs).reshape(-1, 1)                             # [T, 1]\n",
    "    values = torch.stack(values)                                                  # [T+1, 1], T = num_steps\n",
    "    \n",
    "    return states, actions, rewards, terminateds, truncateds, log_probs, values"
   ]
  },
  {
   "cell_type": "code",
   "execution_count": 164,
   "id": "d54aa200-3589-458c-bb59-6113e406ba9a",
   "metadata": {},
   "outputs": [],
   "source": [
    "@torch.no_grad()\n",
    "def evaluate(network: ActorCritic, stochastic=False, render_mode=None, graph=False):\n",
    "    _env = make_env(render_mode)\n",
    "    state = torch.as_tensor(_env.reset()[0], dtype=torch.float)\n",
    "    sum_rewards = 0\n",
    "    if graph:\n",
    "        values = []\n",
    "        immediate_reward = []\n",
    "        rewards_collected = []\n",
    "        values_plus_rewards = []\n",
    "    step = 0\n",
    "    while True:\n",
    "        step += 1\n",
    "        action, log_prob, value = network.sample(state, stochastic=stochastic)\n",
    "        next_state, reward, terminated, truncated, _ = _env.step(action.numpy())\n",
    "        sum_rewards += reward\n",
    "        if graph:\n",
    "            values += [value.item()]\n",
    "            immediate_reward += [reward]\n",
    "            rewards_collected += [sum_rewards]\n",
    "            values_plus_rewards += [value.item() + sum_rewards - reward]\n",
    "            if step % 20 == 0 or terminated or truncated:\n",
    "                plt.plot(values, label='values')\n",
    "                plt.plot(immediate_reward, label='immediate reward')\n",
    "                plt.plot(rewards_collected, label='rewards collected')\n",
    "                plt.plot(values_plus_rewards, label='rewards + values')\n",
    "                plt.legend()\n",
    "                clear_output(wait=True)\n",
    "                plt.show()\n",
    "        state = torch.as_tensor(next_state, dtype=torch.float)\n",
    "        if terminated or truncated:\n",
    "            break\n",
    "    _env.close()\n",
    "    return sum_rewards"
   ]
  },
  {
   "cell_type": "code",
   "execution_count": 165,
   "id": "6c89b972-5d16-4b40-80a6-b33f37bea6ba",
   "metadata": {},
   "outputs": [],
   "source": [
    "def gae(rewards, terminateds, truncateds, values, gamma, lambda_):\n",
    "    dones = torch.max(terminateds, truncateds)  # also reset gae on truncation\n",
    "    td_errors = rewards + gamma * values[1:] * (1 - dones) - values[:-1]  # TD-errors = TD-targets - V(s)\n",
    "    advantages = torch.zeros_like(td_errors)\n",
    "    advantage = 0\n",
    "    for t in reversed(range(len(td_errors))):\n",
    "        advantage = lambda_ * gamma * advantage * (1 - dones[t]) + td_errors[t]    # gamma is being applied twice to discount far away TD-errors\n",
    "        advantages[t] = advantage                                                  # also note (1 - terminateds[t]) is absolutely critical\n",
    "        \n",
    "    return advantages  # [T, 1], once trained, advantages should be close to 0"
   ]
  },
  {
   "cell_type": "code",
   "execution_count": 177,
   "id": "a5f8a065-cc28-4536-8e7a-04b48e2321e9",
   "metadata": {},
   "outputs": [],
   "source": [
    "def explained_variance(returns, values):  # measure of critic's accuracy: 0 = random guessing, 1 = perfect\n",
    "    var_returns = torch.var(returns)\n",
    "    var_residuals = torch.var(returns - values)\n",
    "    if var_returns == 0: return 0.0 if var_residuals == 0 else -float('inf')\n",
    "    return (1 - var_residuals / var_returns).item()"
   ]
  },
  {
   "cell_type": "code",
   "execution_count": 215,
   "id": "c055d6db-7f80-4943-85a2-f9b2b6a5427e",
   "metadata": {},
   "outputs": [
    {
     "data": {
      "text/html": [],
      "text/plain": [
       "<IPython.core.display.HTML object>"
      ]
     },
     "metadata": {},
     "output_type": "display_data"
    },
    {
     "data": {
      "text/html": [
       "<br>    <style><br>        .wandb-row {<br>            display: flex;<br>            flex-direction: row;<br>            flex-wrap: wrap;<br>            justify-content: flex-start;<br>            width: 100%;<br>        }<br>        .wandb-col {<br>            display: flex;<br>            flex-direction: column;<br>            flex-basis: 100%;<br>            flex: 1;<br>            padding: 10px;<br>        }<br>    </style><br><div class=\"wandb-row\"><div class=\"wandb-col\"><h3>Run history:</h3><br/><table class=\"wandb\"><tr><td>advantage</td><td>▂▁▄▆▅▅▆▆▅▅▅▅▅▄▆▆▆▆▆▇▇█▆▆▇█▆██▅▄▃▃▅▄▅▆▆▆▅</td></tr><tr><td>approx_kl</td><td>▁▃▂▅▂▃▂▄▄▃▃█▆▂▃▅▁▁▄▅▃▄▁▆▃▂▂▆▂▂▃▃▂▂▃▃▅▂▃▄</td></tr><tr><td>clip_fraction</td><td>▅▂▁▂▂▂▂▂▂▃▁▂▃█▄▂▂▃▂▃▂▃▃▃▂▃▂▂▂▄▃▃▃▃▃▃▃▃▂▃</td></tr><tr><td>entropy</td><td>█▆▆▅▅▄▄▄▃▃▄▃▃▃▃▂▃▂▂▂▂▂▂▂▂▂▂▂▂▁▂▁▁▁▂▁▁▂▁▂</td></tr><tr><td>eval_rewards (deterministic)</td><td>▁▆▅▇▆▆▇▇█████▇████████▇█▆██▆▇▇████▇█████</td></tr><tr><td>eval_rewards (stochastic)</td><td>▁▄▄▃▄▆▆▅▆▄▄█▄▇▇▃█▇█▅▇▇█▇▅▅▄▅▄▃▄▄▄▃▇▇▄███</td></tr><tr><td>eval_time</td><td>▂▃▄▄▄▃█▆▇█▇▄▅▄▄▂▃▆▃▄▅▂▅▃▄▅▃▆▄▂▃▁▁▂▃▃▂▄▂▂</td></tr><tr><td>explained_variance</td><td>▁▄▇▇▇▇▇▆▆▇▇▇▇███████████████████████████</td></tr><tr><td>global_l2_norm</td><td>▁▂▂▃▃▄▃▄▄▃▃▄▅▅▆▅▆▆▆▅▅▅▅▅▇▅▆▅▇▆█▆▇▇█▇▇▇▇▇</td></tr><tr><td>loss_cum</td><td>▂▆▃▂▂▃▁▃▅▃▃▃▁▂▃▄▂▃▅▅▂█▆▅▇▆▅▄▁▄▂█▅▄▆▅▇▆▂▆</td></tr><tr><td>loss_entropy</td><td>▁▁▂▂▃▄▅▅▇▇▆▆▆▆▇▆▆▆▅▆▇▇▇▇▇█▇▇▇█▇▇▇█▇██▇█▇</td></tr><tr><td>loss_policy</td><td>▄▃▃▃▂▄▄▂▃▃▆▁▇▇█▆▇▆▇▇▆▆▆▇▇▇▆▇▆▇▆▇▆▇▆▇▆██▇</td></tr><tr><td>loss_value</td><td>▅▄▂▂▇▄▅█▅▃▅▆▂▄▆▃▆▆▅▇▆▆▅▃▇█▆▇▇▁▄▁▄▄▅▇▆▅▄▅</td></tr><tr><td>step_count</td><td>▁▁▁▂▂▂▂▂▃▃▃▃▃▃▄▄▄▄▄▅▅▅▆▆▆▆▆▆▆▇▇▇▇▇▇▇████</td></tr><tr><td>time_stats</td><td>▁▁▁▁▁▁▄▅▅▁▁▅▁▁▁▅▁▁▁▅▁▁▅▁▅▄█▁▁█▁▁▁▄▅▆▅▁▁▅</td></tr><tr><td>time_update</td><td>▂▂▂▃▃▃▆▂▆▂▄▄▄▂▅▃▅▃▅▂▃▄▃▃▁█▁▁▂▃▂▃▂▂▂▂▅▅▂▆</td></tr><tr><td>time_wall</td><td>▂▂▃▃▃▄▅▅▅▆▇█▁▁▂▂▂▃▄▄▅▆▆▁▁▂▂▁▂▂▃▃▃▄▄▅▅▇▇▇</td></tr><tr><td>update</td><td>▂▂▂▂▃▃▄▅▅▅▇▇▇██▁▂▂▂▁▃▄▄▄▄▅▅▆▂▂▂▂▃▁▄▅▅▇▇█</td></tr></table><br/></div><div class=\"wandb-col\"><h3>Run summary:</h3><br/><table class=\"wandb\"><tr><td>advantage</td><td>4.35261</td></tr><tr><td>approx_kl</td><td>0.00169</td></tr><tr><td>clip_fraction</td><td>0.02022</td></tr><tr><td>entropy</td><td>0.37343</td></tr><tr><td>eval_rewards (deterministic)</td><td>248.45856</td></tr><tr><td>eval_rewards (stochastic)</td><td>231.49585</td></tr><tr><td>eval_time</td><td>0.3726</td></tr><tr><td>explained_variance</td><td>0.99821</td></tr><tr><td>global_l2_norm</td><td>2.98795</td></tr><tr><td>loss_cum</td><td>0.10891</td></tr><tr><td>loss_entropy</td><td>-0.00373</td></tr><tr><td>loss_policy</td><td>-0.0049</td></tr><tr><td>loss_value</td><td>0.1138</td></tr><tr><td>step_count</td><td>717900</td></tr><tr><td>time_stats</td><td>0</td></tr><tr><td>time_update</td><td>3.62593</td></tr><tr><td>time_wall</td><td>369.63474</td></tr><tr><td>update</td><td>100</td></tr></table><br/></div></div>"
      ],
      "text/plain": [
       "<IPython.core.display.HTML object>"
      ]
     },
     "metadata": {},
     "output_type": "display_data"
    },
    {
     "data": {
      "text/html": [
       " View run <strong style=\"color:#cdcd00\">value clip ablated</strong> at: <a href='https://wandb.ai/kchau-university-of-calgary-in-alberta/PPO-LunarLander-v3%20%28discrete%29/runs/devimilf' target=\"_blank\">https://wandb.ai/kchau-university-of-calgary-in-alberta/PPO-LunarLander-v3%20%28discrete%29/runs/devimilf</a><br> View project at: <a href='https://wandb.ai/kchau-university-of-calgary-in-alberta/PPO-LunarLander-v3%20%28discrete%29' target=\"_blank\">https://wandb.ai/kchau-university-of-calgary-in-alberta/PPO-LunarLander-v3%20%28discrete%29</a><br>Synced 5 W&B file(s), 0 media file(s), 0 artifact file(s) and 0 other file(s)"
      ],
      "text/plain": [
       "<IPython.core.display.HTML object>"
      ]
     },
     "metadata": {},
     "output_type": "display_data"
    },
    {
     "data": {
      "text/html": [
       "Find logs at: <code>.\\wandb\\run-20250320_165342-devimilf\\logs</code>"
      ],
      "text/plain": [
       "<IPython.core.display.HTML object>"
      ]
     },
     "metadata": {},
     "output_type": "display_data"
    },
    {
     "data": {
      "text/html": [
       "Tracking run with wandb version 0.19.8"
      ],
      "text/plain": [
       "<IPython.core.display.HTML object>"
      ]
     },
     "metadata": {},
     "output_type": "display_data"
    },
    {
     "data": {
      "text/html": [
       "Run data is saved locally in <code>C:\\Users\\flame\\wlink\\rl\\ppo\\wandb\\run-20250320_213750-9xjazcfe</code>"
      ],
      "text/plain": [
       "<IPython.core.display.HTML object>"
      ]
     },
     "metadata": {},
     "output_type": "display_data"
    },
    {
     "data": {
      "text/html": [
       "Syncing run <strong><a href='https://wandb.ai/kchau-university-of-calgary-in-alberta/PPO-LunarLander-v3%20%28discrete%29/runs/9xjazcfe' target=\"_blank\">value clip ablated</a></strong> to <a href='https://wandb.ai/kchau-university-of-calgary-in-alberta/PPO-LunarLander-v3%20%28discrete%29' target=\"_blank\">Weights & Biases</a> (<a href='https://wandb.me/developer-guide' target=\"_blank\">docs</a>)<br>"
      ],
      "text/plain": [
       "<IPython.core.display.HTML object>"
      ]
     },
     "metadata": {},
     "output_type": "display_data"
    },
    {
     "data": {
      "text/html": [
       " View project at <a href='https://wandb.ai/kchau-university-of-calgary-in-alberta/PPO-LunarLander-v3%20%28discrete%29' target=\"_blank\">https://wandb.ai/kchau-university-of-calgary-in-alberta/PPO-LunarLander-v3%20%28discrete%29</a>"
      ],
      "text/plain": [
       "<IPython.core.display.HTML object>"
      ]
     },
     "metadata": {},
     "output_type": "display_data"
    },
    {
     "data": {
      "text/html": [
       " View run at <a href='https://wandb.ai/kchau-university-of-calgary-in-alberta/PPO-LunarLander-v3%20%28discrete%29/runs/9xjazcfe' target=\"_blank\">https://wandb.ai/kchau-university-of-calgary-in-alberta/PPO-LunarLander-v3%20%28discrete%29/runs/9xjazcfe</a>"
      ],
      "text/plain": [
       "<IPython.core.display.HTML object>"
      ]
     },
     "metadata": {},
     "output_type": "display_data"
    }
   ],
   "source": [
    "batch_size = 64\n",
    "num_steps = 2048  # steps per rollout\n",
    "num_epochs = 5   # epochs per iteration\n",
    "gae_lambda = 0.95      # GAE(lambda): 0 is same as TD-error, 1 is same as Monte Carlo return\n",
    "value_weight = 0.5     # weight of value loss (vs policy loss)\n",
    "entropy_bonus = 0.01 * 1.0  # entropy regularization coefficient in loss, may need to manually adjust with reward scale\n",
    "clip_eps = 0.2         # policy ratio clipping radius\n",
    "clip_eps_value = None   # value clipping radius\n",
    "gamma = 0.99\n",
    "policy_lr = 3e-4\n",
    "value_lr = 1e-3\n",
    "backbone_lr = 3e-4  # lr for the shared backbone, OpenAI's Spinning Up implicity uses same lr as critic\n",
    "max_norm = 0.5\n",
    "\n",
    "eval_freq = 2\n",
    "\n",
    "try: env.reset(), env.close()\n",
    "except: pass\n",
    "env = make_env()\n",
    "state_dim = env.observation_space.shape[0]\n",
    "action_dim = env.action_space.n\n",
    "\n",
    "network = ActorCritic(state_dim, action_dim)\n",
    "\n",
    "# if compiling\n",
    "# import cl_fix\n",
    "# network = torch.compile(network)\n",
    "\n",
    "shared_backbone_params = list(network.fc1.parameters()) + list(network.fc2.parameters()) + list(network.g1.parameters()) + list(network.g2.parameters())\n",
    "policy_head_params = list(network.policy_head.parameters())\n",
    "value_head_params = list(network.value_head.parameters())\n",
    "\n",
    "optimizer = torch.optim.Adam([  # single optimizer, avoids ambiguity in lr of backbone that is present in Spinning Up\n",
    "    {'params': policy_head_params, 'lr': policy_lr},\n",
    "    {'params': value_head_params, 'lr': value_lr},\n",
    "    {'params': shared_backbone_params, 'lr': backbone_lr},\n",
    "])\n",
    "\n",
    "wandb.finish()\n",
    "wandb.init(\n",
    "    project='PPO-' + env_name + ' (discrete)',\n",
    "    name='value clip ablated',\n",
    "    # mode='disabled',\n",
    "    config={\n",
    "        'batch_size': batch_size,\n",
    "        'num_steps': num_steps,\n",
    "        'num_epochs': num_epochs,\n",
    "        'max_norm': max_norm,\n",
    "        'gae_lambda': gae_lambda,\n",
    "        'value_weight': value_weight,\n",
    "        'entropy_bonus': entropy_bonus,\n",
    "        'clip_eps': clip_eps,\n",
    "        'clip_eps_value': clip_eps_value,\n",
    "        'gamma': gamma,\n",
    "        'policy_lr': policy_lr,\n",
    "        'value_lr': value_lr,\n",
    "        'backbone_lr': backbone_lr,\n",
    "        'env_name': env_name,\n",
    "    }\n",
    ")\n",
    "\n",
    "history = {'step_count': 0}"
   ]
  },
  {
   "cell_type": "code",
   "execution_count": 216,
   "id": "b99f1dbc-6cc3-4287-ba4e-6c38b1dd5951",
   "metadata": {},
   "outputs": [],
   "source": [
    "def train(env, num_updates, history):\n",
    "    t_start = time.time()\n",
    "    for update in range(1, num_updates+1):\n",
    "        t0 = time.time()\n",
    "        states, actions, rewards, terminateds, truncateds, log_probs, values = collect_rollout(env, network, num_steps) \n",
    "        gae_advantages = gae(rewards, terminateds, truncateds, values, gamma, gae_lambda)\n",
    "        advantages = (gae_advantages - gae_advantages.mean()) / (gae_advantages.std() + 1e-7)\n",
    "        returns = values[:-1] + advantages  # discounted rewards-to-go\n",
    "        actual_steps = len(states)  # actual steps taken \n",
    "        \n",
    "        # stats across all minibatches\n",
    "        mb_policy_losses = []\n",
    "        mb_value_losses = []\n",
    "        mb_entropies = []\n",
    "        mb_kls = []\n",
    "        mb_clip_fractions = []\n",
    "        mb_global_l2_norms = []\n",
    "        \n",
    "        for _ in range(num_epochs):\n",
    "            indices = torch.randperm(actual_steps)\n",
    "            for begin in range(0, actual_steps, batch_size):\n",
    "                end = begin + batch_size\n",
    "                batch_indices = indices[begin:end]\n",
    "                \n",
    "                states_b = states[batch_indices]\n",
    "                actions_b = actions[batch_indices]\n",
    "                returns_b = returns[batch_indices]\n",
    "                advantages_b = advantages[batch_indices]\n",
    "                old_log_probs = log_probs[batch_indices]\n",
    "                \n",
    "                logits, values_b = network(states_b)\n",
    "                dist = Categorical(logits=logits)\n",
    "                entropy = dist.entropy().mean()\n",
    "                cur_log_probs = dist.log_prob(actions_b.squeeze()).reshape(old_log_probs.shape)\n",
    "            \n",
    "                # policy loss\n",
    "                ratio = torch.exp(cur_log_probs - old_log_probs)  # same as cur_probs/old_probs, just with logs\n",
    "                fst_surrogate = ratio * advantages_b\n",
    "                snd_surrogate = torch.clip(ratio, 1 - clip_eps, 1 + clip_eps) * advantages_b\n",
    "                policy_loss = -torch.min(fst_surrogate, snd_surrogate).mean() - entropy_bonus * entropy\n",
    "                \n",
    "                # value loss\n",
    "                if clip_eps_value is not None:\n",
    "                    old_values_b = values[batch_indices]\n",
    "                    values_clipped = old_values_b + (values_b - old_values_b).clip(-clip_eps_value, clip_eps_value)\n",
    "                    fst_loss = F.huber_loss(values_clipped, returns_b, reduction='none')\n",
    "                    snd_loss = F.huber_loss(values_b, returns_b, reduction='none')\n",
    "                    value_loss = value_weight * torch.max(fst_loss, snd_loss).mean()  # take the more conservative one\n",
    "                else:\n",
    "                    value_loss = value_weight * F.huber_loss(values_b, returns_b, reduction='mean')\n",
    "\n",
    "                cum_loss = policy_loss + value_loss\n",
    "                optimizer.zero_grad()\n",
    "                cum_loss.backward()\n",
    "                global_l2_norm = nn.utils.clip_grad_norm_(network.parameters(), max_norm)\n",
    "                optimizer.step()\n",
    "                \n",
    "                # Track statistics for this minibatch\n",
    "                mb_policy_losses.append(policy_loss.item())\n",
    "                mb_value_losses.append(value_loss.item())\n",
    "                mb_entropies.append(entropy.item())\n",
    "                mb_kls.append((old_log_probs - cur_log_probs).mean().item())\n",
    "                clip_fraction = ((ratio > 1 + clip_eps) | (ratio < 1 - clip_eps)).float().mean().item()\n",
    "                mb_clip_fractions.append(clip_fraction)\n",
    "                mb_global_l2_norms.append(global_l2_norm)\n",
    "                \n",
    "        # average stats across minibatches\n",
    "        avg_policy_loss = sum(mb_policy_losses) / len(mb_policy_losses)\n",
    "        avg_value_loss = sum(mb_value_losses) / len(mb_value_losses)\n",
    "        avg_entropy = sum(mb_entropies) / len(mb_entropies)\n",
    "        avg_kl = sum(mb_kls) / len(mb_kls)\n",
    "        avg_clip_fraction = sum(mb_clip_fractions) / len(mb_clip_fractions)\n",
    "        avg_global_l2_norm = sum(mb_global_l2_norms) / len(mb_global_l2_norms)\n",
    "        \n",
    "        history['step_count'] += actual_steps        \n",
    "        \n",
    "        update_time = time.time() - t0\n",
    "        wall_time = time.time() - t_start\n",
    "\n",
    "        t0 = time.time()\n",
    "        with torch.no_grad():\n",
    "            exp_var = explained_variance(returns, values[:-1])\n",
    "        stats_time = time.time() - t0\n",
    "            \n",
    "        log = {\n",
    "            'update': update,\n",
    "            'step_count': history['step_count'],\n",
    "            'time_wall': wall_time,\n",
    "            'time_update': update_time,\n",
    "            'time_stats': stats_time,\n",
    "            'advantage': gae_advantages.mean().item(),  # pre standardization\n",
    "            'entropy': avg_entropy,\n",
    "            'explained_variance': exp_var,\n",
    "            'loss_policy': avg_policy_loss,  # entropy bonus incl.\n",
    "            'loss_value': avg_value_loss,\n",
    "            'loss_entropy': -entropy_bonus * avg_entropy,\n",
    "            'loss_cum': avg_policy_loss + avg_value_loss,\n",
    "            'approx_kl': avg_kl,  # average across all minibatches\n",
    "            'clip_fraction': avg_clip_fraction,  # (policy ratio)\n",
    "            'global_l2_norm': avg_global_l2_norm,\n",
    "        }\n",
    "\n",
    "        if update % eval_freq == 0 or update == num_updates:\n",
    "            t0 = time.time()\n",
    "            eval_rewards_d = evaluate(network, stochastic=False)\n",
    "            eval_rewards_s = evaluate(network, stochastic=True)\n",
    "            eval_time = time.time() - t0\n",
    "            log.update({\n",
    "                'eval_time': eval_time,\n",
    "                'eval_rewards (deterministic)': eval_rewards_d,\n",
    "                'eval_rewards (stochastic)': eval_rewards_s,\n",
    "            })\n",
    "\n",
    "            clear_output(wait=True)\n",
    "            print(f'wall time {wall_time:.2f} s')\n",
    "            print(f'update {update}')\n",
    "            print(f'step {history[\"step_count\"]}')\n",
    "            print(f'eval rewards (deterministic) {eval_rewards_d:.5f}')\n",
    "\n",
    "        try: wandb.log(log)\n",
    "        except: print(f'[warning] wandb log failed')"
   ]
  },
  {
   "cell_type": "code",
   "execution_count": 217,
   "id": "70d756e2-83db-4e81-b7fd-7bdecf268f73",
   "metadata": {},
   "outputs": [
    {
     "data": {
      "text/plain": [
       "(array([0.250094, 0.249840, 0.250021, 0.250045], dtype=float32),\n",
       " 1.3862942457199097)"
      ]
     },
     "execution_count": 217,
     "metadata": {},
     "output_type": "execute_result"
    }
   ],
   "source": [
    "np.set_printoptions(suppress=True, floatmode='fixed', precision=6)\n",
    "with torch.no_grad():\n",
    "    state, _ = env.reset()\n",
    "    state = torch.as_tensor(state)\n",
    "    logits, value = network(state)\n",
    "    dist = Categorical(logits=logits)\n",
    "dist.probs.numpy(), dist.entropy().item()"
   ]
  },
  {
   "cell_type": "code",
   "execution_count": 218,
   "id": "c9e65b3c-4d07-44d4-854f-c2bc19ae9f3d",
   "metadata": {},
   "outputs": [
    {
     "name": "stdout",
     "output_type": "stream",
     "text": [
      "wall time 446.74 s\n",
      "update 100\n",
      "step 219120\n",
      "eval rewards (deterministic) 153.04819\n",
      "done.\n",
      "*actual* time taken: 447.00 s\n"
     ]
    }
   ],
   "source": [
    "try: env.reset(), env.close()\n",
    "except: pass\n",
    "env = make_env()\n",
    "\n",
    "t0 = time.time()\n",
    "try:\n",
    "    # torch.autograd.set_detect_anomaly(False)\n",
    "    train(env, 100, history)\n",
    "except KeyboardInterrupt:\n",
    "        print('keyboard interrupt. stopping...')\n",
    "finally:\n",
    "    print(f'done.\\n*actual* time taken: {time.time() - t0:.2f} s')"
   ]
  },
  {
   "cell_type": "code",
   "execution_count": 202,
   "id": "f1c259bd-778f-4723-a329-5a560eaef23f",
   "metadata": {},
   "outputs": [
    {
     "name": "stdout",
     "output_type": "stream",
     "text": [
      "tensor([[11.2289],\n",
      "        [11.7618],\n",
      "        [12.1113],\n",
      "        ...,\n",
      "        [-1.0391],\n",
      "        [-0.8662],\n",
      "        [-2.0958]])\n",
      "\n",
      "tensor([[11.9028],\n",
      "        [12.3599],\n",
      "        [12.6335],\n",
      "        ...,\n",
      "        [-1.5269],\n",
      "        [-0.9871],\n",
      "        [-0.8674]])\n"
     ]
    }
   ],
   "source": [
    "states, actions, rewards, terminateds, truncateds, log_probs, values = collect_rollout(env, network, num_steps) \n",
    "gae_advantages = gae(rewards, terminateds, truncateds, values, gamma, gae_lambda)\n",
    "advantages = (gae_advantages - gae_advantages.mean()) / (gae_advantages.std() + 1e-7)\n",
    "returns = values[:-1] + advantages  # discounted rewards-to-go\n",
    "print(values, end='\\n\\n')  # no time step information hurts value estimation\n",
    "print(returns)  # keep in mind standardization if done as well as time dependent obs"
   ]
  },
  {
   "cell_type": "code",
   "execution_count": 211,
   "id": "8028e771-3cc2-42f5-905e-0d3cbbe1e172",
   "metadata": {},
   "outputs": [
    {
     "data": {
      "image/png": "[encoded data removed]",
      "text/plain": [
       "<Figure size 640x480 with 1 Axes>"
      ]
     },
     "metadata": {},
     "output_type": "display_data"
    },
    {
     "data": {
      "text/plain": [
       "np.float64(273.8623111876872)"
      ]
     },
     "execution_count": 211,
     "metadata": {},
     "output_type": "execute_result"
    }
   ],
   "source": [
    "evaluate(network, stochastic=True, render_mode='human', graph=True)"
   ]
  },
  {
   "cell_type": "code",
   "execution_count": 212,
   "id": "09785024-8345-4fcc-8ce7-d202518e70ba",
   "metadata": {},
   "outputs": [
    {
     "name": "stdout",
     "output_type": "stream",
     "text": [
      "[]\n",
      "[]\n"
     ]
    }
   ],
   "source": [
    "print(list(network.g1.parameters()))  # for prelu\n",
    "print(list(network.g2.parameters()))"
   ]
  },
  {
   "cell_type": "code",
   "execution_count": 213,
   "id": "98b86091-a12a-4d75-8d9f-8cbeedba1c0d",
   "metadata": {},
   "outputs": [
    {
     "data": {
      "image/png": "[encoded data removed]",
      "text/plain": [
       "<Figure size 1600x400 with 4 Axes>"
      ]
     },
     "metadata": {},
     "output_type": "display_data"
    },
    {
     "name": "stdout",
     "output_type": "stream",
     "text": [
      "fc1 [ 0.539691  1.175566  0.295779 -1.229914  0.702287  1.127923  0.962652\n",
      "  1.421259  1.317758 -0.191120 -1.883826 -0.788968  0.282480  0.438021\n",
      "  0.452892  0.506639  0.799696  0.585076  0.752114 -0.700878  1.505089\n",
      "  1.411699 -0.532699  0.789569  1.417185 -0.667549 -0.004287 -0.411854\n",
      "  0.839035  0.896528 -1.999547  1.034287 -1.291082 -2.120607  0.510293\n",
      " -1.676283 -0.218482 -0.183413  0.741788  1.128517 -0.836619 -0.702855\n",
      " -0.937773  0.207851  2.304274  1.058239 -1.016454  1.332742  0.280184\n",
      " -0.611991  1.139585  0.285317  0.648578  0.576448  0.555111 -1.091455\n",
      "  1.113720 -0.095809  0.554444  0.863845  1.831734  0.385772  1.059337\n",
      " -0.129130]\n",
      "fc2 [ -2.282971  -2.600139  -1.094724   3.677897  -5.090747  -8.738877\n",
      "  -3.133336  -9.152798 -14.102837  -2.179009  -5.613461  -3.392790\n",
      "  -0.654182  -6.328395 -14.606815   0.520717  -2.375417 -10.773468\n",
      "  -6.613972  -1.297754  -2.077740  -0.326749   0.579532 -21.885275\n",
      "  -2.822437  -0.459772  -0.180859  -0.663682   4.733888   4.832385\n",
      "  -3.314662  -1.074464  -1.027577   3.294158  -3.979625  -1.607291\n",
      "   9.272290 -13.587133   0.830679   1.578290  -1.944833  -5.215395\n",
      "  -8.133240  -1.577971  -2.220570  -2.247227  -6.027411  -6.215053\n",
      "   4.968695  -6.346493  -5.733742  -1.024662  -8.825271   0.120127\n",
      " -10.537414 -12.330429  -6.240255   1.620045  -6.869312  -0.614377\n",
      "  -0.605590  -1.099295   6.155544   0.866605]\n",
      "policy_head [ 3.769938  4.091733 -6.671835 -5.251606]\n",
      "value_head [13.151255]\n",
      "\n"
     ]
    }
   ],
   "source": [
    "def plot_activations(model, x, print_=True):\n",
    "    activations = {}\n",
    "    def hook_fn(module, inp, out, name):\n",
    "        activations[name] = out.detach().cpu().numpy()\n",
    "    hooks = []\n",
    "    for name, layer in model.named_children():\n",
    "        if isinstance(layer, torch.nn.Linear):  # capture only linear layers\n",
    "            hooks.append(layer.register_forward_hook(lambda m, inp, out, n=name: hook_fn(m, inp, out, n)))\n",
    "    with torch.no_grad():\n",
    "        model(x)\n",
    "    for hook in hooks:\n",
    "        hook.remove()\n",
    "    num_plots = len(activations)\n",
    "    fig, axes = plt.subplots(1, num_plots, figsize=(4 * num_plots, 4))\n",
    "    if num_plots == 1:\n",
    "        axes = [axes]\n",
    "    sout = ''\n",
    "    for ax, (name, act) in zip(axes, activations.items()):\n",
    "        sout += name + ' ' + str(act) + '\\n'\n",
    "        if act.ndim == 1:\n",
    "            act = act.reshape(1, -1)\n",
    "        ax.imshow(act.T, aspect='auto', cmap='viridis')\n",
    "        ax.set_title(name)\n",
    "        ax.set_xlabel('Batch Index')\n",
    "        ax.set_ylabel('Neuron Index')\n",
    "        # fig.colorbar(None, ax=ax, orientation='vertical')  # doesnt work negatives\n",
    "    plt.tight_layout()\n",
    "    plt.show()\n",
    "    if print_: print(sout)\n",
    "\n",
    "state, _ = env.reset()\n",
    "state = torch.as_tensor(state, dtype=torch.float)\n",
    "plot_activations(network, state)  # doesnt work directly with compile, OK"
   ]
  },
  {
   "cell_type": "code",
   "execution_count": 214,
   "id": "dc34bd4e-022c-45ff-94ad-f4dbd8c18697",
   "metadata": {},
   "outputs": [
    {
     "name": "stdout",
     "output_type": "stream",
     "text": [
      "saved.\n"
     ]
    }
   ],
   "source": [
    "import os\n",
    "os.makedirs('./saved', exist_ok=True)\n",
    "torch.save(network.state_dict(), f'./saved/{env_name}-discrete-actor-critic.pth')\n",
    "print('saved.')"
   ]
  },
  {
   "cell_type": "code",
   "execution_count": null,
   "id": "642ea9ee-bdd9-455b-a4b8-0c5113c10c01",
   "metadata": {},
   "outputs": [],
   "source": []
  }
 ],
 "metadata": {
  "kernelspec": {
   "display_name": "kaggleenv310",
   "language": "python",
   "name": "kaggle310"
  },
  "language_info": {
   "codemirror_mode": {
    "name": "ipython",
    "version": 3
   },
   "file_extension": ".py",
   "mimetype": "text/x-python",
   "name": "python",
   "nbconvert_exporter": "python",
   "pygments_lexer": "ipython3",
   "version": "3.10.12"
  }
 },
 "nbformat": 4,
 "nbformat_minor": 5
}
