{
 "cells": [
  {
   "cell_type": "code",
   "execution_count": 1,
   "id": "d7993116-5dcb-42f7-8fe6-970989dc7771",
   "metadata": {},
   "outputs": [],
   "source": [
    "from collections import defaultdict, deque\n",
    "from gymnasium.wrappers import Autoreset\n",
    "from IPython.display import clear_output\n",
    "import matplotlib.pyplot as plt\n",
    "import gymnasium as gym\n",
    "import numpy as np\n",
    "import random\n",
    "import wandb\n",
    "import time\n",
    "import torch\n",
    "import torch.nn as nn\n",
    "import torch.optim as optim\n",
    "import torch.nn.functional as F\n",
    "from torch.distributions import Normal"
   ]
  },
  {
   "cell_type": "code",
   "execution_count": 2,
   "id": "170e4f10-e7b2-49e9-a398-c0d5891d4511",
   "metadata": {},
   "outputs": [],
   "source": [
    "class ActorCritic(nn.Module):\n",
    "    def __init__(self, n_in, n_out, max_action):\n",
    "        super().__init__()\n",
    "        self.max_action = torch.tensor(max_action)\n",
    "        self.fc1 = nn.Linear(n_in, 64)\n",
    "        self.fc2 = nn.Linear(64, 64)\n",
    "        self.g1 = nn.SiLU()\n",
    "        self.g2 = nn.SiLU()\n",
    "        self.value_head = nn.Linear(64, 1)\n",
    "        self.mean_head = nn.Linear(64, n_out)\n",
    "        self.log_std_head = nn.Linear(64, n_out)\n",
    "        nn.init.zeros_(self.log_std_head.weight)  # start std off at 1.\n",
    "        nn.init.zeros_(self.log_std_head.bias)\n",
    "\n",
    "    def value_only(self, x):\n",
    "        x = self.g1(self.fc1(x))\n",
    "        x = self.g2(self.fc2(x))\n",
    "        value = self.value_head(x)\n",
    "        return value\n",
    "        \n",
    "    def forward(self, x):\n",
    "        log_std_radius = 10  # log_std bounded by [-r, r]\n",
    "        \n",
    "        x = self.g1(self.fc1(x))\n",
    "        x = self.g2(self.fc2(x))\n",
    "        value = self.value_head(x)\n",
    "        mean = self.mean_head(x)\n",
    "        log_std = self.log_std_head(x)\n",
    "        log_std = torch.tanh(log_std) * log_std_radius  # [-1, 1] * radius\n",
    "        \n",
    "        return value, mean, log_std\n",
    "\n",
    "    def sample(self, state, stochastic=True):\n",
    "        value, mean, log_std = self.forward(state)\n",
    "        if stochastic:\n",
    "            std = log_std.exp()\n",
    "            normal = Normal(mean, std)\n",
    "            x_t = normal.rsample()  # rsample does reparameterization trick, so we can backprop\n",
    "            action = torch.tanh(x_t)\n",
    "            log_prob = normal.log_prob(x_t)\n",
    "            log_prob -= 2 * (torch.log(torch.tensor(2.0)) - x_t - F.softplus(-2 * x_t))  # <-- tanh derivative rewritten for numerical stability\n",
    "        else:\n",
    "            action = mean\n",
    "            log_prob = torch.zeros_like(action)\n",
    "        action *= self.max_action\n",
    "            \n",
    "        assert action.shape == log_prob.shape\n",
    "        return action, log_prob, value"
   ]
  },
  {
   "cell_type": "code",
   "execution_count": 6,
   "id": "025715db-68f9-4266-8ba8-a03c67b7069d",
   "metadata": {},
   "outputs": [],
   "source": [
    "env_name = 'Pendulum-v1'\n",
    "def make_env(render_mode=None):\n",
    "    env = gym.make(env_name, render_mode=render_mode)\n",
    "    env = Autoreset(env)\n",
    "    return env"
   ]
  },
  {
   "cell_type": "code",
   "execution_count": 8,
   "id": "076c7e57-e6b4-41b2-b71b-77d269e492fc",
   "metadata": {},
   "outputs": [],
   "source": [
    "env = make_env()"
   ]
  },
  {
   "cell_type": "code",
   "execution_count": 10,
   "id": "828b6db4-d6fd-4864-b5b4-fae00f0acc95",
   "metadata": {},
   "outputs": [],
   "source": [
    "@torch.no_grad()\n",
    "def collect_rollout(env, network: ActorCritic, min_steps):\n",
    "    states, actions, rewards, terminateds, log_probs, values = [], [], [], [], [], []\n",
    "    state = torch.as_tensor(env.reset()[0])\n",
    "    step = 0\n",
    "    while True:\n",
    "        step += 1\n",
    "        action, log_prob, value = network.sample(state)\n",
    "        next_state, reward, terminated, truncated, _ = env.step(action.numpy())\n",
    "        next_state = torch.as_tensor(next_state)\n",
    "        states.append(state)\n",
    "        actions.append(action)\n",
    "        rewards.append(reward)\n",
    "        terminateds.append(terminated)\n",
    "        log_probs.append(log_prob)\n",
    "        values.append(value)\n",
    "        state = next_state\n",
    "        if step >= min_steps and (terminated or truncated):\n",
    "            break\n",
    "    values.append(network.value_only(state))  # add the last value, we now have T+1 values in total\n",
    "        \n",
    "    states = torch.stack(states)                                                  # [T, |s|], |s| = dimension of the state vector\n",
    "    actions = torch.stack(actions).reshape(step, -1)                              # [T, |a|], |a| = dimension of the action vector\n",
    "    rewards = torch.as_tensor(rewards).reshape(-1, 1)                             # [T, 1]\n",
    "    terminateds = torch.as_tensor(terminateds, dtype=torch.float).reshape(-1, 1)  # [T, 1]\n",
    "    log_probs = torch.stack(log_probs).reshape(step, -1)                          # [T, |a|], we need 1 normal dist for each action\n",
    "    values = torch.stack(values)                                                  # [T+1, 1], T = num_steps\n",
    "    \n",
    "    return states, actions, rewards, terminateds, log_probs, values"
   ]
  },
  {
   "cell_type": "code",
   "execution_count": 11,
   "id": "d54aa200-3589-458c-bb59-6113e406ba9a",
   "metadata": {},
   "outputs": [],
   "source": [
    "@torch.no_grad()\n",
    "def evaluate(network: ActorCritic, stochastic=False, render_mode=None, graph=False):\n",
    "    _env = make_env(render_mode)\n",
    "    state = torch.as_tensor(_env.reset()[0])\n",
    "    sum_rewards = 0\n",
    "    if graph:\n",
    "        values = []\n",
    "        immediate_reward = []\n",
    "        rewards_collected = []\n",
    "        values_plus_rewards = []\n",
    "    step = 0\n",
    "    while True:\n",
    "        step += 1\n",
    "        action, log_prob, value = network.sample(state, stochastic=stochastic)\n",
    "        next_state, reward, terminated, truncated, _ = _env.step(action.numpy())\n",
    "        sum_rewards += reward\n",
    "        if graph:\n",
    "            values += [value.item()]\n",
    "            immediate_reward += [reward]\n",
    "            rewards_collected += [sum_rewards]\n",
    "            values_plus_rewards += [value.item() + sum_rewards]\n",
    "            if step % 20 == 0 or terminated or truncated:\n",
    "                plt.plot(values, label='values')\n",
    "                plt.plot(immediate_reward, label='immediate reward')\n",
    "                plt.plot(rewards_collected, label='rewards collected')\n",
    "                plt.plot(values_plus_rewards, label='rewards + values')\n",
    "                plt.legend()\n",
    "                clear_output(wait=True)\n",
    "                plt.show()\n",
    "        state = torch.as_tensor(next_state)\n",
    "        if terminated or truncated:\n",
    "            break\n",
    "    _env.close()\n",
    "    return sum_rewards"
   ]
  },
  {
   "cell_type": "code",
   "execution_count": 12,
   "id": "6c89b972-5d16-4b40-80a6-b33f37bea6ba",
   "metadata": {},
   "outputs": [],
   "source": [
    "def gae(rewards, terminateds, values, gamma, lambda_):\n",
    "    td_errors = rewards + gamma * values[1:] * (1 - terminateds) - values[:-1]  # TD-errors = TD-targets - V(s)\n",
    "    advantages = torch.zeros_like(td_errors)\n",
    "    advantage = 0\n",
    "    for t in reversed(range(len(td_errors))):\n",
    "        advantage = lambda_ * gamma * advantage * (1 - terminateds[t]) + td_errors[t]  # gamma is being applied twice to discount far away TD-errors\n",
    "        advantages[t] = advantage                                                      # also note (1 - terminateds[t]) is absolutely critical\n",
    "        \n",
    "    return advantages  # [T, 1], once trained, advantages should be close to 0"
   ]
  },
  {
   "cell_type": "code",
   "execution_count": 13,
   "id": "a5f8a065-cc28-4536-8e7a-04b48e2321e9",
   "metadata": {},
   "outputs": [],
   "source": [
    "def explained_variance(returns, values):  # measure of critic's accuracy: 0 = random guessing, 1 = perfect\n",
    "    var_returns = torch.var(returns)\n",
    "    var_residuals = torch.var(returns - values)\n",
    "    if var_returns == 0: return 0.0 if var_residuals == 0 else -float('inf')\n",
    "    return (1 - var_residuals / var_returns).item()"
   ]
  },
  {
   "cell_type": "code",
   "execution_count": 14,
   "id": "c055d6db-7f80-4943-85a2-f9b2b6a5427e",
   "metadata": {},
   "outputs": [
    {
     "name": "stderr",
     "output_type": "stream",
     "text": [
      "Failed to detect the name of this notebook, you can set it manually with the WANDB_NOTEBOOK_NAME environment variable to enable code saving.\n",
      "\u001b[34m\u001b[1mwandb\u001b[0m: Using wandb-core as the SDK backend.  Please refer to https://wandb.me/wandb-core for more information.\n",
      "\u001b[34m\u001b[1mwandb\u001b[0m: Currently logged in as: \u001b[33mkchau\u001b[0m (\u001b[33mkchau-university-of-calgary-in-alberta\u001b[0m) to \u001b[32mhttps://api.wandb.ai\u001b[0m. Use \u001b[1m`wandb login --relogin`\u001b[0m to force relogin\n"
     ]
    },
    {
     "data": {
      "text/html": [
       "Tracking run with wandb version 0.19.8"
      ],
      "text/plain": [
       "<IPython.core.display.HTML object>"
      ]
     },
     "metadata": {},
     "output_type": "display_data"
    },
    {
     "data": {
      "text/html": [
       "Run data is saved locally in <code>C:\\Users\\flame\\wlink\\rl\\ppo\\wandb\\run-20250317_213047-hd30vt8g</code>"
      ],
      "text/plain": [
       "<IPython.core.display.HTML object>"
      ]
     },
     "metadata": {},
     "output_type": "display_data"
    },
    {
     "data": {
      "text/html": [
       "Syncing run <strong><a href='https://wandb.ai/kchau-university-of-calgary-in-alberta/PPO-Pendulum-v1/runs/hd30vt8g' target=\"_blank\">w/ swish!</a></strong> to <a href='https://wandb.ai/kchau-university-of-calgary-in-alberta/PPO-Pendulum-v1' target=\"_blank\">Weights & Biases</a> (<a href='https://wandb.me/developer-guide' target=\"_blank\">docs</a>)<br>"
      ],
      "text/plain": [
       "<IPython.core.display.HTML object>"
      ]
     },
     "metadata": {},
     "output_type": "display_data"
    },
    {
     "data": {
      "text/html": [
       " View project at <a href='https://wandb.ai/kchau-university-of-calgary-in-alberta/PPO-Pendulum-v1' target=\"_blank\">https://wandb.ai/kchau-university-of-calgary-in-alberta/PPO-Pendulum-v1</a>"
      ],
      "text/plain": [
       "<IPython.core.display.HTML object>"
      ]
     },
     "metadata": {},
     "output_type": "display_data"
    },
    {
     "data": {
      "text/html": [
       " View run at <a href='https://wandb.ai/kchau-university-of-calgary-in-alberta/PPO-Pendulum-v1/runs/hd30vt8g' target=\"_blank\">https://wandb.ai/kchau-university-of-calgary-in-alberta/PPO-Pendulum-v1/runs/hd30vt8g</a>"
      ],
      "text/plain": [
       "<IPython.core.display.HTML object>"
      ]
     },
     "metadata": {},
     "output_type": "display_data"
    }
   ],
   "source": [
    "batch_size = 64\n",
    "num_steps = 2048  # steps per rollout\n",
    "num_epochs = 10   # epochs per iteration\n",
    "gae_lambda = 0.95      # GAE(lambda): 0 is same as TD-error, 1 is same as Monte Carlo return\n",
    "value_weight = 0.5     # weight of value loss (vs policy loss)\n",
    "entropy_bonus = 0.01   # entropy regularization coefficient in loss, may need to manually adjust with reward scale\n",
    "clip_eps = 0.2         # policy ratio clipping radius\n",
    "gamma = 0.99\n",
    "policy_lr = 3e-4\n",
    "value_lr = 1e-3\n",
    "backbone_lr = 1e-3  # lr for the shared backbone, OpenAI's Spinning Up implicity uses same lr as critic\n",
    "\n",
    "eval_freq = 3\n",
    "\n",
    "try: env.reset(), env.close()\n",
    "except: pass\n",
    "env = make_env()\n",
    "state_dim = env.observation_space.shape[0]\n",
    "action_dim = env.action_space.shape[0]\n",
    "max_action = env.action_space.high\n",
    "\n",
    "network = ActorCritic(state_dim, action_dim, max_action)\n",
    "\n",
    "shared_backbone_params = list(network.fc1.parameters()) + list(network.fc2.parameters()) + list(network.g1.parameters()) + list(network.g2.parameters())\n",
    "policy_head_params = list(network.mean_head.parameters()) + list(network.log_std_head.parameters())\n",
    "value_head_params = list(network.value_head.parameters())\n",
    "\n",
    "optimizer = torch.optim.Adam([  # single optimizer, avoids ambiguity in lr of backbone that is present in Spinning Up\n",
    "    {'params': policy_head_params, 'lr': policy_lr},\n",
    "    {'params': value_head_params, 'lr': value_lr},\n",
    "    {'params': shared_backbone_params, 'lr': backbone_lr},\n",
    "])\n",
    "\n",
    "wandb.finish()\n",
    "wandb.init(\n",
    "    project='PPO-' + env_name,\n",
    "    name='w/ swish!',\n",
    "    # mode='disabled',\n",
    "    config={\n",
    "        'batch_size': batch_size,\n",
    "        'num_steps': num_steps,\n",
    "        'num_epochs': num_epochs,\n",
    "        'gae_lambda': gae_lambda,\n",
    "        'value_weight': value_weight,\n",
    "        'entropy_bonus': entropy_bonus,\n",
    "        'clip_eps': clip_eps,\n",
    "        'gamma': gamma,\n",
    "        'policy_lr': policy_lr,\n",
    "        'value_lr': value_lr,\n",
    "        'backbone_lr': backbone_lr,\n",
    "        'env_name': env_name,\n",
    "    }\n",
    ")\n",
    "\n",
    "history = {'step_count': 0}"
   ]
  },
  {
   "cell_type": "code",
   "execution_count": 21,
   "id": "c350314b-14bb-4cb0-89fd-874f47ed787c",
   "metadata": {},
   "outputs": [
    {
     "name": "stdout",
     "output_type": "stream",
     "text": [
      "64\n",
      "128\n"
     ]
    },
    {
     "data": {
      "text/plain": [
       "torch.Size([36, 1])"
      ]
     },
     "execution_count": 21,
     "metadata": {},
     "output_type": "execute_result"
    }
   ],
   "source": [
    "num_steps = 100\n",
    "states, actions, rewards, terminateds, log_probs, values = collect_rollout(env, network, num_steps) \n",
    "advantages = gae(rewards, terminateds, values, gamma, gae_lambda)\n",
    "returns = values[:-1] + advantages  # discounted rewards-to-go\n",
    "indices = torch.arange(num_steps)\n",
    "for begin in range(0, num_steps, batch_size):\n",
    "    end = begin + batch_size\n",
    "    print(end)\n",
    "    batch_indices = indices[begin:end]\n",
    "\n",
    "    states_b = states[batch_indices]\n",
    "    actions_b = actions[batch_indices]\n",
    "    returns_b = returns[batch_indices]\n",
    "    advantages_b = advantages[batch_indices]\n",
    "    old_log_probs = log_probs[batch_indices]\n",
    "\n",
    "values_b, means, log_stds = network(states_b)\n",
    "dist = Normal(means, log_stds.exp())\n",
    "\n",
    "cur_log_probs = dist.log_prob(actions_b)\n",
    "# ratio = torch.exp(cur_log_probs - old_log_probs)\n",
    "# advantages_b.shape\n",
    "# ratio.shape\n",
    "old_log_probs.shape\n",
    "cur_log_probs.shape"
   ]
  },
  {
   "cell_type": "code",
   "execution_count": 160,
   "id": "03802334-39fa-485d-bf55-c1d11e5c2a68",
   "metadata": {},
   "outputs": [
    {
     "data": {
      "text/plain": [
       "(tensor([0.0101], grad_fn=<ViewBackward0>),\n",
       " tensor([ 0.0606, -0.0605], grad_fn=<ViewBackward0>),\n",
       " tensor([0., 0.], grad_fn=<MulBackward0>))"
      ]
     },
     "execution_count": 160,
     "metadata": {},
     "output_type": "execute_result"
    }
   ],
   "source": [
    "state, _ = env.reset()\n",
    "state = torch.as_tensor(state)\n",
    "network(state)"
   ]
  },
  {
   "cell_type": "code",
   "execution_count": 71,
   "id": "b99f1dbc-6cc3-4287-ba4e-6c38b1dd5951",
   "metadata": {},
   "outputs": [],
   "source": [
    "def train(env, num_updates, history):\n",
    "    t_start = time.time()\n",
    "    for update in range(1, num_updates+1):\n",
    "        t0 = time.time()\n",
    "        states, actions, rewards, terminateds, log_probs, values = collect_rollout(env, network, num_steps) \n",
    "        advantages = gae(rewards, terminateds, values, gamma, gae_lambda)\n",
    "        returns = values[:-1] + advantages  # discounted rewards-to-go\n",
    "        actual_steps = len(states)  # actual steps taken \n",
    "        for _ in range(num_epochs):\n",
    "            indices = torch.randperm(actual_steps)\n",
    "            for begin in range(0, actual_steps, batch_size):\n",
    "                end = begin + batch_size\n",
    "                batch_indices = indices[begin:end]\n",
    "                \n",
    "                states_b = states[batch_indices]\n",
    "                actions_b = actions[batch_indices]\n",
    "                returns_b = returns[batch_indices]\n",
    "                advantages_b = advantages[batch_indices]\n",
    "                old_log_probs = log_probs[batch_indices]\n",
    "                \n",
    "                logits, values_b = network(states_b)\n",
    "                dist = Categorical(logits=logits)\n",
    "                entropy = dist.entropy().mean()\n",
    "                cur_log_probs = dist.log_prob(actions_b.squeeze()).reshape(old_log_probs.shape)\n",
    "            \n",
    "                # policy loss\n",
    "                ratio = torch.exp(cur_log_probs - old_log_probs)  # same as cur_probs/old_probs, just with logs\n",
    "                fst_surrogate = ratio * advantages_b\n",
    "                snd_surrogate = torch.clip(ratio, 1 - clip_eps, 1 + clip_eps) * advantages_b\n",
    "                policy_loss = -torch.min(fst_surrogate, snd_surrogate).mean() - entropy_bonus * entropy\n",
    "                \n",
    "                # value loss\n",
    "                value_loss = F.mse_loss(values_b, returns_b, reduction='mean') * value_weight\n",
    "\n",
    "                cum_loss = policy_loss + value_loss\n",
    "                optimizer.zero_grad()\n",
    "                cum_loss.backward()\n",
    "                optimizer.step()\n",
    "        history['step_count'] += actual_steps\n",
    "        \n",
    "        update_time = time.time() - t0\n",
    "        wall_time = time.time() - t_start\n",
    "\n",
    "        with torch.no_grad():\n",
    "            exp_var = explained_variance(returns, values[:-1])\n",
    "            approx_kl = (old_log_probs - cur_log_probs).mean().item()  # 1st order approximation\n",
    "\n",
    "        log = {\n",
    "            'update': update,\n",
    "            'step_count': history['step_count'],\n",
    "            'wall_time': wall_time,\n",
    "            'update_time': update_time,\n",
    "            'advantage': advantages.mean().item(),\n",
    "            'entropy': entropy.item(),\n",
    "            'explained_variance': exp_var,\n",
    "            'approx_kl': approx_kl,\n",
    "        }\n",
    "\n",
    "        if update % eval_freq == 0 or update == num_updates:\n",
    "            t0 = time.time()\n",
    "            eval_rewards = evaluate(network)\n",
    "            eval_time = time.time() - t0\n",
    "            log.update({\n",
    "                'eval_time': eval_time,\n",
    "                'eval_rewards': eval_rewards,\n",
    "            })\n",
    "\n",
    "            clear_output(wait=True)\n",
    "            print(f'wall time {wall_time:.2f} s')\n",
    "            print(f'update {update}')\n",
    "            print(f'step {history[\"step_count\"]}')\n",
    "            print(f'eval return {eval_rewards:.5f}')\n",
    "\n",
    "        try: wandb.log(log)\n",
    "        except: print(f'[warning] wandb log failed')"
   ]
  },
  {
   "cell_type": "code",
   "execution_count": 73,
   "id": "efc3b900-ac98-4fae-9ee6-a55153156d76",
   "metadata": {},
   "outputs": [
    {
     "name": "stdout",
     "output_type": "stream",
     "text": [
      "wall time 223.41 s\n",
      "update 50\n",
      "step 204800\n",
      "eval return 500.00000\n",
      "done.\n",
      "*actual* time taken: 223.89 s\n"
     ]
    }
   ],
   "source": [
    "t0 = time.time()\n",
    "try:\n",
    "    train(env, 50, history)\n",
    "except KeyboardInterrupt:\n",
    "    print('keyboard interrupt. stopping...')\n",
    "finally:\n",
    "    print(f'done.\\n*actual* time taken: {time.time() - t0:.2f} s')"
   ]
  },
  {
   "cell_type": "code",
   "execution_count": 74,
   "id": "8028e771-3cc2-42f5-905e-0d3cbbe1e172",
   "metadata": {},
   "outputs": [
    {
     "data": {
      "image/png": "[encoded data removed]",
      "text/plain": [
       "<Figure size 640x480 with 1 Axes>"
      ]
     },
     "metadata": {},
     "output_type": "display_data"
    },
    {
     "data": {
      "text/plain": [
       "500.0"
      ]
     },
     "execution_count": 74,
     "metadata": {},
     "output_type": "execute_result"
    }
   ],
   "source": [
    "evaluate(network, stochastic=True, render_mode='human', graph=True)"
   ]
  },
  {
   "cell_type": "code",
   "execution_count": 75,
   "id": "09785024-8345-4fcc-8ce7-d202518e70ba",
   "metadata": {},
   "outputs": [
    {
     "name": "stdout",
     "output_type": "stream",
     "text": [
      "[]\n",
      "[]\n"
     ]
    }
   ],
   "source": [
    "print(list(network.g1.parameters()))  # for prelu\n",
    "print(list(network.g2.parameters()))"
   ]
  },
  {
   "cell_type": "code",
   "execution_count": 76,
   "id": "98b86091-a12a-4d75-8d9f-8cbeedba1c0d",
   "metadata": {},
   "outputs": [
    {
     "data": {
      "image/png": "[encoded data removed]",
      "text/plain": [
       "<Figure size 1600x400 with 4 Axes>"
      ]
     },
     "metadata": {},
     "output_type": "display_data"
    },
    {
     "name": "stdout",
     "output_type": "stream",
     "text": [
      "fc1 [-0.552763   -0.52349865  0.7410354   0.7568286   0.60381603  0.7459245\n",
      "  0.826619   -0.11631504 -0.5443609  -0.40916455 -0.69503987 -0.6564159\n",
      "  0.7487649  -0.6648636   1.2660403  -0.6040347   0.8849282   0.36523056\n",
      " -0.35934478 -0.7334785   0.6165218  -0.44305593  0.75079954 -0.8515429\n",
      " -0.31315646  0.96272635  0.9227844  -0.68455523  0.6038405  -0.10936819\n",
      "  0.8826949  -0.49052405  0.74768025 -0.4353761   0.8907737  -0.29700062\n",
      " -0.7058539  -0.37352332 -0.43198162 -0.6876314  -0.6662407   1.0242432\n",
      " -0.31309554 -0.6390803   0.89447623 -0.5637202  -0.4807899   0.7127922\n",
      "  0.78826404  0.88981533  0.75324386 -0.448233   -0.22872543 -0.617108\n",
      " -0.67915416  0.6238027   0.65205896  0.37217045 -0.6330074  -0.2909698\n",
      "  0.7523092   0.3151616  -0.50407267 -0.3976528 ]\n",
      "fc2 [ -3.8203514  -2.2464175  -4.3339624  -4.4692435   5.547409    8.201872\n",
      "  -1.4590513  -4.4474277   5.55406     5.6771708   8.853319    7.8144636\n",
      "   9.417504    7.627388    5.5396333  -4.48308     7.83626    -3.4139454\n",
      "   8.770183   -5.2482123   7.373051    7.8346043  -4.8085184  -3.9172564\n",
      "   7.868317    7.515188    7.535074   -3.4278374   7.901711   -4.2546625\n",
      "  -3.3164492   7.9348273   3.1793807  -3.7573535  -5.141085    7.38807\n",
      "  -5.215017   -3.7373366   7.65462     7.8129954  -4.461182    7.847431\n",
      " -12.9666195   5.3182197  -9.838227   -4.749386   -4.8525395   7.2188706\n",
      "   6.293744    7.338702    5.156601    7.524971   -3.499229    5.414128\n",
      "   8.207259    8.262983    7.1720176  -3.8716938  -4.264689    7.958132\n",
      "  -5.206114    4.22239    -3.0505521  -4.815013 ]\n",
      "policy_head [-0.29736713  0.29735792]\n",
      "value_head [99.34816]\n",
      "\n"
     ]
    }
   ],
   "source": [
    "def plot_activations(model, x, print_=True):\n",
    "    activations = {}\n",
    "    def hook_fn(module, inp, out, name):\n",
    "        activations[name] = out.detach().cpu().numpy()\n",
    "    hooks = []\n",
    "    for name, layer in model.named_children():\n",
    "        if isinstance(layer, torch.nn.Linear):  # capture only linear layers\n",
    "            hooks.append(layer.register_forward_hook(lambda m, inp, out, n=name: hook_fn(m, inp, out, n)))\n",
    "    with torch.no_grad():\n",
    "        model(x)\n",
    "    for hook in hooks:\n",
    "        hook.remove()\n",
    "    num_plots = len(activations)\n",
    "    fig, axes = plt.subplots(1, num_plots, figsize=(4 * num_plots, 4))\n",
    "    if num_plots == 1:\n",
    "        axes = [axes]\n",
    "    sout = ''\n",
    "    for ax, (name, act) in zip(axes, activations.items()):\n",
    "        sout += name + ' ' + str(act) + '\\n'\n",
    "        if act.ndim == 1:\n",
    "            act = act.reshape(1, -1)\n",
    "        ax.imshow(act.T, aspect='auto', cmap='viridis')\n",
    "        ax.set_title(name)\n",
    "        ax.set_xlabel('Batch Index')\n",
    "        ax.set_ylabel('Neuron Index')\n",
    "    plt.tight_layout()\n",
    "    plt.show()\n",
    "    if print_: print(sout)\n",
    "\n",
    "state, _ = env.reset()\n",
    "state = torch.as_tensor(state)\n",
    "plot_activations(network, torch.as_tensor(state))"
   ]
  },
  {
   "cell_type": "code",
   "execution_count": 77,
   "id": "dc34bd4e-022c-45ff-94ad-f4dbd8c18697",
   "metadata": {},
   "outputs": [
    {
     "name": "stdout",
     "output_type": "stream",
     "text": [
      "saved.\n"
     ]
    }
   ],
   "source": [
    "import os\n",
    "os.makedirs('./saved', exist_ok=True)\n",
    "torch.save(network.state_dict(), f'./saved/{env_name}-actor-critic.pth')\n",
    "print('saved.')"
   ]
  },
  {
   "cell_type": "code",
   "execution_count": null,
   "id": "74c00bcd-e968-4c40-9e82-f9dd1f5074c9",
   "metadata": {},
   "outputs": [],
   "source": []
  }
 ],
 "metadata": {
  "kernelspec": {
   "display_name": "kaggleenv310",
   "language": "python",
   "name": "kaggle310"
  },
  "language_info": {
   "codemirror_mode": {
    "name": "ipython",
    "version": 3
   },
   "file_extension": ".py",
   "mimetype": "text/x-python",
   "name": "python",
   "nbconvert_exporter": "python",
   "pygments_lexer": "ipython3",
   "version": "3.10.12"
  }
 },
 "nbformat": 4,
 "nbformat_minor": 5
}
