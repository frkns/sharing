{
 "cells": [
  {
   "cell_type": "code",
   "execution_count": 20,
   "id": "d7993116-5dcb-42f7-8fe6-970989dc7771",
   "metadata": {},
   "outputs": [],
   "source": [
    "from gymnasium.wrappers import Autoreset, TimeAwareObservation\n",
    "from collections import defaultdict, deque\n",
    "from IPython.display import clear_output\n",
    "import matplotlib.pyplot as plt\n",
    "import gymnasium as gym\n",
    "import numpy as np\n",
    "import random\n",
    "import wandb\n",
    "import time\n",
    "import torch\n",
    "import torch.nn as nn\n",
    "import torch.optim as optim\n",
    "import torch.nn.functional as F\n",
    "from torch.distributions import Categorical"
   ]
  },
  {
   "cell_type": "code",
   "execution_count": 21,
   "id": "170e4f10-e7b2-49e9-a398-c0d5891d4511",
   "metadata": {},
   "outputs": [],
   "source": [
    "class ActorCritic(nn.Module):\n",
    "    def __init__(self, n_in, n_out):\n",
    "        super().__init__()\n",
    "        self.fc1 = nn.Linear(n_in, 64)\n",
    "        self.fc2 = nn.Linear(64, 64)\n",
    "        self.g1 = nn.SiLU()\n",
    "        self.g2 = nn.SiLU()\n",
    "        self.policy_head = nn.Linear(64, n_out)\n",
    "        self.value_head = nn.Linear(64, 1)\n",
    "\n",
    "    def value_only(self, x):\n",
    "        x = self.g1(self.fc1(x))\n",
    "        x = self.g2(self.fc2(x))\n",
    "        value = self.value_head(x)\n",
    "        return value\n",
    "\n",
    "    def forward(self, x):\n",
    "        x = self.g1(self.fc1(x))\n",
    "        x = self.g2(self.fc2(x))\n",
    "        logits = self.policy_head(x)\n",
    "        value = self.value_head(x)\n",
    "        return logits, value\n",
    "\n",
    "    def sample(self, state, stochastic=True):\n",
    "        logits, value = self.forward(state)\n",
    "        dist = Categorical(logits=logits)\n",
    "        if stochastic:\n",
    "            action = dist.sample()\n",
    "        else:\n",
    "            action = torch.argmax(logits, dim=-1)\n",
    "        log_prob = dist.log_prob(action)\n",
    "        return action, log_prob, value"
   ]
  },
  {
   "cell_type": "code",
   "execution_count": 22,
   "id": "025715db-68f9-4266-8ba8-a03c67b7069d",
   "metadata": {},
   "outputs": [],
   "source": [
    "env_name = 'CartPole-v1'\n",
    "def make_env(render_mode=None):\n",
    "    env = gym.make(env_name, render_mode=render_mode, max_episode_steps=500)\n",
    "    env = TimeAwareObservation(env)\n",
    "    env = Autoreset(env)  # TimeAwareObservation before Autoreset or else timestep tracking will be erroneous!!\n",
    "    return env"
   ]
  },
  {
   "cell_type": "code",
   "execution_count": 23,
   "id": "2d15ed1a-f99a-48f4-8c3f-f15c85fe55d1",
   "metadata": {},
   "outputs": [
    {
     "name": "stdout",
     "output_type": "stream",
     "text": [
      "iter 490 tensor([-0.0835, -1.4110,  0.0690,  1.9791,  7.0000])\n",
      "iter 491 tensor([-0.1118, -1.6067,  0.1086,  2.2924,  8.0000])\n",
      "iter 492 tensor([-0.1439, -1.8027,  0.1544,  2.6164,  9.0000])\n",
      "iter 493 tensor([-0.1799, -1.9986,  0.2067,  2.9520, 10.0000])\n",
      "iter 494 tensor([-0.2199, -2.1943,  0.2658,  3.2996, 11.0000])\n",
      "terminated\n",
      "iter 495 tensor([ 0.0384, -0.0357, -0.0362, -0.0018,  0.0000])\n",
      "iter 496 tensor([ 0.0376, -0.2303, -0.0362,  0.2792,  1.0000])\n",
      "iter 497 tensor([ 0.0330, -0.4249, -0.0307,  0.5603,  2.0000])\n",
      "iter 498 tensor([ 0.0245, -0.6196, -0.0194,  0.8432,  3.0000])\n",
      "iter 499 tensor([ 1.2147e-02, -8.1441e-01, -2.5826e-03,  1.1297e+00,  4.0000e+00])\n"
     ]
    }
   ],
   "source": [
    "def scope():  # check env is set up correctly\n",
    "    e = make_env()\n",
    "    e.reset()\n",
    "    for i in range(500):\n",
    "        if i % 10 == 0:\n",
    "            clear_output(wait=True)\n",
    "        s, r, term, trunc, _ = e.step(0)\n",
    "        print('iter', i, torch.as_tensor(s, dtype=torch.float))\n",
    "        if term or trunc:\n",
    "            sout = ''\n",
    "            if term: sout += 'terminated'\n",
    "            if trunc: sout += 'truncated'  # truncates at max_episode_steps\n",
    "            print(sout)\n",
    "    e.close()\n",
    "scope()"
   ]
  },
  {
   "cell_type": "code",
   "execution_count": 24,
   "id": "828b6db4-d6fd-4864-b5b4-fae00f0acc95",
   "metadata": {},
   "outputs": [],
   "source": [
    "@torch.no_grad()\n",
    "def collect_rollout(env, network: ActorCritic, min_steps):\n",
    "    states, actions, rewards, terminateds, log_probs, values = [], [], [], [], [], []\n",
    "    state = torch.as_tensor(env.reset()[0], dtype=torch.float)\n",
    "    step = 0\n",
    "    while True:\n",
    "        step += 1\n",
    "        action, log_prob, value = network.sample(state)\n",
    "        next_state, reward, terminated, truncated, _ = env.step(action.numpy())\n",
    "        next_state = torch.as_tensor(next_state, dtype=torch.float)\n",
    "        states.append(state)\n",
    "        actions.append(action)\n",
    "        rewards.append(reward)\n",
    "        terminateds.append(terminated)\n",
    "        log_probs.append(log_prob)\n",
    "        values.append(value)\n",
    "        state = next_state\n",
    "        if step >= min_steps and (terminated or truncated):\n",
    "            break\n",
    "    values.append(network.value_only(state))  # add the last value, we now have T+1 values in total\n",
    "        \n",
    "    states = torch.stack(states)                                                  # [T, |s|], |s| = dimension of the state vector\n",
    "    actions = torch.stack(actions).reshape(step, -1)                              # [T, |a|], |a| = dimension of the action vector\n",
    "    rewards = torch.as_tensor(rewards, dtype=torch.float).reshape(-1, 1)          # [T, 1]\n",
    "    terminateds = torch.as_tensor(terminateds, dtype=torch.float).reshape(-1, 1)  # [T, 1]\n",
    "    log_probs = torch.stack(log_probs).reshape(-1, 1)                             # [T, 1]\n",
    "    values = torch.stack(values)                                                  # [T+1, 1], T = num_steps\n",
    "    \n",
    "    return states, actions, rewards, terminateds, log_probs, values"
   ]
  },
  {
   "cell_type": "code",
   "execution_count": 25,
   "id": "d54aa200-3589-458c-bb59-6113e406ba9a",
   "metadata": {},
   "outputs": [],
   "source": [
    "@torch.no_grad()\n",
    "def evaluate(network: ActorCritic, stochastic=False, render_mode=None, graph=False):\n",
    "    _env = make_env(render_mode)\n",
    "    state = torch.as_tensor(_env.reset()[0], dtype=torch.float)\n",
    "    sum_rewards = 0\n",
    "    if graph:\n",
    "        values = []\n",
    "        immediate_reward = []\n",
    "        rewards_collected = []\n",
    "        values_plus_rewards = []\n",
    "    step = 0\n",
    "    while True:\n",
    "        step += 1\n",
    "        action, log_prob, value = network.sample(state, stochastic=stochastic)\n",
    "        next_state, reward, terminated, truncated, _ = _env.step(action.numpy())\n",
    "        sum_rewards += reward\n",
    "        if graph:\n",
    "            values += [value.item()]\n",
    "            immediate_reward += [reward]\n",
    "            rewards_collected += [sum_rewards]\n",
    "            values_plus_rewards += [value.item() + sum_rewards - reward]\n",
    "            if step % 20 == 0 or terminated or truncated:\n",
    "                plt.plot(values, label='values')\n",
    "                plt.plot(immediate_reward, label='immediate reward')\n",
    "                plt.plot(rewards_collected, label='rewards collected')\n",
    "                plt.plot(values_plus_rewards, label='rewards + values')\n",
    "                plt.legend()\n",
    "                clear_output(wait=True)\n",
    "                plt.show()\n",
    "        state = torch.as_tensor(next_state, dtype=torch.float)\n",
    "        if terminated or truncated:\n",
    "            break\n",
    "    _env.close()\n",
    "    return sum_rewards"
   ]
  },
  {
   "cell_type": "code",
   "execution_count": 26,
   "id": "6c89b972-5d16-4b40-80a6-b33f37bea6ba",
   "metadata": {},
   "outputs": [],
   "source": [
    "def gae(rewards, terminateds, values, gamma, lambda_):\n",
    "    td_errors = rewards + gamma * values[1:] * (1 - terminateds) - values[:-1]  # TD-errors = TD-targets - V(s)\n",
    "    advantages = torch.zeros_like(td_errors)\n",
    "    advantage = 0\n",
    "    for t in reversed(range(len(td_errors))):\n",
    "        advantage = lambda_ * gamma * advantage * (1 - terminateds[t]) + td_errors[t]  # gamma is being applied twice to discount far away TD-errors\n",
    "        advantages[t] = advantage                                                      # also note (1 - terminateds[t]) is absolutely critical\n",
    "        \n",
    "    return advantages  # [T, 1], once trained, advantages should be close to 0"
   ]
  },
  {
   "cell_type": "code",
   "execution_count": 58,
   "id": "a5f8a065-cc28-4536-8e7a-04b48e2321e9",
   "metadata": {},
   "outputs": [],
   "source": [
    "def explained_variance(returns, values):  # measure of critic's accuracy: 0 = random guessing, 1 = perfect\n",
    "    var_returns = torch.var(returns)\n",
    "    var_residuals = torch.var(returns - values)\n",
    "    if var_returns == 0: return 0.0 if var_residuals == 0 else -float('inf')\n",
    "    return (1 - var_residuals / var_returns).item()"
   ]
  },
  {
   "cell_type": "code",
   "execution_count": 75,
   "id": "c055d6db-7f80-4943-85a2-f9b2b6a5427e",
   "metadata": {},
   "outputs": [
    {
     "data": {
      "text/html": [],
      "text/plain": [
       "<IPython.core.display.HTML object>"
      ]
     },
     "metadata": {},
     "output_type": "display_data"
    },
    {
     "data": {
      "text/html": [
       "<br>    <style><br>        .wandb-row {<br>            display: flex;<br>            flex-direction: row;<br>            flex-wrap: wrap;<br>            justify-content: flex-start;<br>            width: 100%;<br>        }<br>        .wandb-col {<br>            display: flex;<br>            flex-direction: column;<br>            flex-basis: 100%;<br>            flex: 1;<br>            padding: 10px;<br>        }<br>    </style><br><div class=\"wandb-row\"><div class=\"wandb-col\"><h3>Run history:</h3><br/><table class=\"wandb\"><tr><td>advantage</td><td>▁▂▂▃▄▆▇▇▇▇▇███▇▇▇▇▇▇▆▆▇▇▇▇▇▇▇▇███▇████▇█</td></tr><tr><td>approx_kl</td><td>▁▁▁▁▂▁▁▂▁▁▁▂▃▁▁▃▁▂▁▁▁▁▁▁█▁▁▁▂▁▁▁▁▁▁▁▂▁▁▁</td></tr><tr><td>clip_fraction</td><td>▁▂▅▄▅▄▃▁▅▄▆▆▂▂▄▆▇█▂▃▂▂▂▃▂▆▂▂▃▃▃▂▃▄▂▂▅▁▁▁</td></tr><tr><td>entropy</td><td>█▇█▇▄▅▇▆▅▅▄▆▆▆▆▆▇▆▂▆▇▆▆▅▁▅▅▇▇▇▇▇▇▅▅▆▆▆▆▇</td></tr><tr><td>eval_rewards (deterministic)</td><td>▁▁▁▂▂▅▆▆▅██▅▅▆█▅█▆█▂▃▄▄▅▄▇▄▅▆▆██▆█▅█▅█▇▁</td></tr><tr><td>eval_rewards (stochastic)</td><td>▁▁▁▁▂▄▄▄▄▅▆█▅▄▅█▅█▄▅▂▃▃▃▂▆▄▅▅▇▂▁█▆▇▄▆█▆▂</td></tr><tr><td>eval_time</td><td>▁▁▁▁▂▄▄▄▄▅▇▄▅▇▆▆▇▄▅▂▄▃▃▃▂▆▃▄▅▆▄▇▆▄▆▄▆█▅▂</td></tr><tr><td>explained_variance</td><td>▄▆▇██████▇▇█▇▆▅█▇▅▇▇▃█████▆▇▇▇▄▂▅▆▆▂▁▄▇▃</td></tr><tr><td>loss_cum</td><td>█▇▅▆▅▅▃▃▄▄▇▄█▄▂▃▅▅▄▂▁▂▃▄▄▃▄▃▂▃▂▄▄▅▃▃▄▃▄▃</td></tr><tr><td>loss_entropy</td><td>▁▂▃▄▆▅▅▄▄▄▅▅▅▅▅▅▅▇▄▅▅▄▄▄▅█▄▄▄▃▄▅▄▅▅▃▅▅▄▄</td></tr><tr><td>loss_policy</td><td>▂▁▁▁▂▄▄▂▃▅▃▂▂▂▂▅▂▃▄▁▂▂▂▃▂█▂▂▂▂▃▂▄▃▂▂▃▂▄▃</td></tr><tr><td>loss_value</td><td>█▅▇▆▃▄▅▃▂▃▅▂▂▄▃▃▂▁▃▂▂▂▂▄▄▃▂▃▂▃▅▃▄▂▃▃▂▁▃▂</td></tr><tr><td>step_count</td><td>▁▁▁▁▁▂▂▂▂▂▂▃▃▃▃▃▃▃▃▄▄▄▄▅▅▅▅▅▅▆▆▆▆▆▇▇▇▇▇█</td></tr><tr><td>time_stats</td><td>▁▁▃▁▁▁▁▁▁▁█▁█▁▆▁▅▁▁▁▁▁▁▁▁▁▁▁▁▁▁▁▁▃▁▁▁▃▅▄</td></tr><tr><td>time_update</td><td>▂▁▁▁▂▃▅▂▂▃▄▃▃▂▅▁▂█▂▁▅▁▅▃▅▁▂▂▄▂▁▄▄▂▆▄▂▅▂▂</td></tr><tr><td>time_wall</td><td>▁▁▁▂▂▂▃▃▃▃▃▃▃▄▄▄▄▄▅▅▅▅▅▅▅▆▆▆▆▆▆▇▇▇▇▇▇███</td></tr><tr><td>update</td><td>▁▁▁▁▂▂▂▂▂▃▃▃▃▃▄▄▄▄▅▅▅▅▅▅▆▆▆▆▆▆▇▇▇▇▇█████</td></tr></table><br/></div><div class=\"wandb-col\"><h3>Run summary:</h3><br/><table class=\"wandb\"><tr><td>advantage</td><td>17.53044</td></tr><tr><td>approx_kl</td><td>0.00743</td></tr><tr><td>clip_fraction</td><td>0.10061</td></tr><tr><td>entropy</td><td>0.58012</td></tr><tr><td>eval_rewards (deterministic)</td><td>9</td></tr><tr><td>eval_rewards (stochastic)</td><td>120</td></tr><tr><td>eval_time</td><td>0.12952</td></tr><tr><td>explained_variance</td><td>0.45402</td></tr><tr><td>loss_cum</td><td>0.06573</td></tr><tr><td>loss_entropy</td><td>-0.0058</td></tr><tr><td>loss_policy</td><td>-0.00377</td></tr><tr><td>loss_value</td><td>0.0695</td></tr><tr><td>step_count</td><td>220546</td></tr><tr><td>time_stats</td><td>0.00064</td></tr><tr><td>time_update</td><td>4.46944</td></tr><tr><td>time_wall</td><td>491.27694</td></tr><tr><td>update</td><td>100</td></tr></table><br/></div></div>"
      ],
      "text/plain": [
       "<IPython.core.display.HTML object>"
      ]
     },
     "metadata": {},
     "output_type": "display_data"
    },
    {
     "data": {
      "text/html": [
       " View run <strong style=\"color:#cdcd00\">time aware obs + more</strong> at: <a href='https://wandb.ai/kchau-university-of-calgary-in-alberta/PPO-CartPole-v1/runs/fzr54ct2' target=\"_blank\">https://wandb.ai/kchau-university-of-calgary-in-alberta/PPO-CartPole-v1/runs/fzr54ct2</a><br> View project at: <a href='https://wandb.ai/kchau-university-of-calgary-in-alberta/PPO-CartPole-v1' target=\"_blank\">https://wandb.ai/kchau-university-of-calgary-in-alberta/PPO-CartPole-v1</a><br>Synced 5 W&B file(s), 0 media file(s), 0 artifact file(s) and 0 other file(s)"
      ],
      "text/plain": [
       "<IPython.core.display.HTML object>"
      ]
     },
     "metadata": {},
     "output_type": "display_data"
    },
    {
     "data": {
      "text/html": [
       "Find logs at: <code>.\\wandb\\run-20250319_175556-fzr54ct2\\logs</code>"
      ],
      "text/plain": [
       "<IPython.core.display.HTML object>"
      ]
     },
     "metadata": {},
     "output_type": "display_data"
    },
    {
     "data": {
      "text/html": [
       "Tracking run with wandb version 0.19.8"
      ],
      "text/plain": [
       "<IPython.core.display.HTML object>"
      ]
     },
     "metadata": {},
     "output_type": "display_data"
    },
    {
     "data": {
      "text/html": [
       "Run data is saved locally in <code>C:\\Users\\flame\\wlink\\rl\\ppo\\wandb\\run-20250319_180431-id23kwcj</code>"
      ],
      "text/plain": [
       "<IPython.core.display.HTML object>"
      ]
     },
     "metadata": {},
     "output_type": "display_data"
    },
    {
     "data": {
      "text/html": [
       "Syncing run <strong><a href='https://wandb.ai/kchau-university-of-calgary-in-alberta/PPO-CartPole-v1/runs/id23kwcj' target=\"_blank\">time aware obs + more</a></strong> to <a href='https://wandb.ai/kchau-university-of-calgary-in-alberta/PPO-CartPole-v1' target=\"_blank\">Weights & Biases</a> (<a href='https://wandb.me/developer-guide' target=\"_blank\">docs</a>)<br>"
      ],
      "text/plain": [
       "<IPython.core.display.HTML object>"
      ]
     },
     "metadata": {},
     "output_type": "display_data"
    },
    {
     "data": {
      "text/html": [
       " View project at <a href='https://wandb.ai/kchau-university-of-calgary-in-alberta/PPO-CartPole-v1' target=\"_blank\">https://wandb.ai/kchau-university-of-calgary-in-alberta/PPO-CartPole-v1</a>"
      ],
      "text/plain": [
       "<IPython.core.display.HTML object>"
      ]
     },
     "metadata": {},
     "output_type": "display_data"
    },
    {
     "data": {
      "text/html": [
       " View run at <a href='https://wandb.ai/kchau-university-of-calgary-in-alberta/PPO-CartPole-v1/runs/id23kwcj' target=\"_blank\">https://wandb.ai/kchau-university-of-calgary-in-alberta/PPO-CartPole-v1/runs/id23kwcj</a>"
      ],
      "text/plain": [
       "<IPython.core.display.HTML object>"
      ]
     },
     "metadata": {},
     "output_type": "display_data"
    }
   ],
   "source": [
    "batch_size = 64\n",
    "num_steps = 2048  # steps per rollout\n",
    "num_epochs = 10   # epochs per iteration\n",
    "gae_lambda = 0.95      # GAE(lambda): 0 is same as TD-error, 1 is same as Monte Carlo return\n",
    "value_weight = 0.5     # weight of value loss (vs policy loss)\n",
    "entropy_bonus = 0.01 * 1.0  # entropy regularization coefficient in loss, may need to manually adjust with reward scale\n",
    "clip_eps = 0.2         # policy ratio clipping radius\n",
    "gamma = 0.99\n",
    "policy_lr = 3e-4\n",
    "value_lr = 3e-4\n",
    "backbone_lr = 3e-4  # lr for the shared backbone, OpenAI's Spinning Up implicity uses same lr as critic\n",
    "\n",
    "eval_freq = 2\n",
    "\n",
    "try: env.reset(), env.close()\n",
    "except: pass\n",
    "env = make_env()\n",
    "state_dim = env.observation_space.shape[0]\n",
    "action_dim = env.action_space.n\n",
    "\n",
    "network = ActorCritic(state_dim, action_dim)\n",
    "\n",
    "# if compiling\n",
    "# import cl_fix\n",
    "# network = torch.compile(network)\n",
    "\n",
    "shared_backbone_params = list(network.fc1.parameters()) + list(network.fc2.parameters()) + list(network.g1.parameters()) + list(network.g2.parameters())\n",
    "policy_head_params = list(network.policy_head.parameters())\n",
    "value_head_params = list(network.value_head.parameters())\n",
    "\n",
    "optimizer = torch.optim.Adam([  # single optimizer, avoids ambiguity in lr of backbone that is present in Spinning Up\n",
    "    {'params': policy_head_params, 'lr': policy_lr},\n",
    "    {'params': value_head_params, 'lr': value_lr},\n",
    "    {'params': shared_backbone_params, 'lr': backbone_lr},\n",
    "])\n",
    "\n",
    "wandb.finish()\n",
    "wandb.init(\n",
    "    project='PPO-' + env_name,\n",
    "    name='time aware obs + more',\n",
    "    # mode='disabled',\n",
    "    config={\n",
    "        'batch_size': batch_size,\n",
    "        'num_steps': num_steps,\n",
    "        'num_epochs': num_epochs,\n",
    "        'gae_lambda': gae_lambda,\n",
    "        'value_weight': value_weight,\n",
    "        'entropy_bonus': entropy_bonus,\n",
    "        'clip_eps': clip_eps,\n",
    "        'gamma': gamma,\n",
    "        'policy_lr': policy_lr,\n",
    "        'value_lr': value_lr,\n",
    "        'backbone_lr': backbone_lr,\n",
    "        'env_name': env_name,\n",
    "    }\n",
    ")\n",
    "\n",
    "history = {'step_count': 0}"
   ]
  },
  {
   "cell_type": "code",
   "execution_count": 76,
   "id": "b99f1dbc-6cc3-4287-ba4e-6c38b1dd5951",
   "metadata": {},
   "outputs": [],
   "source": [
    "def train(env, num_updates, history):\n",
    "    t_start = time.time()\n",
    "    for update in range(1, num_updates+1):\n",
    "        t0 = time.time()\n",
    "        states, actions, rewards, terminateds, log_probs, values = collect_rollout(env, network, num_steps) \n",
    "        gae_advantages = gae(rewards, terminateds, values, gamma, gae_lambda)\n",
    "        advantages = (gae_advantages - gae_advantages.mean()) / (gae_advantages.std() + 1e-7)\n",
    "        returns = values[:-1] + advantages  # discounted rewards-to-go\n",
    "        actual_steps = len(states)  # actual steps taken \n",
    "        \n",
    "        # stats across all minibatches\n",
    "        mb_policy_losses = []\n",
    "        mb_value_losses = []\n",
    "        mb_entropies = []\n",
    "        mb_kls = []\n",
    "        mb_clip_fractions = []\n",
    "        \n",
    "        for _ in range(num_epochs):\n",
    "            indices = torch.randperm(actual_steps)\n",
    "            for begin in range(0, actual_steps, batch_size):\n",
    "                end = begin + batch_size\n",
    "                batch_indices = indices[begin:end]\n",
    "                \n",
    "                states_b = states[batch_indices]\n",
    "                actions_b = actions[batch_indices]\n",
    "                returns_b = returns[batch_indices]\n",
    "                advantages_b = advantages[batch_indices]\n",
    "                old_log_probs = log_probs[batch_indices]\n",
    "                \n",
    "                logits, values_b = network(states_b)\n",
    "                dist = Categorical(logits=logits)\n",
    "                entropy = dist.entropy().mean()\n",
    "                cur_log_probs = dist.log_prob(actions_b.squeeze()).reshape(old_log_probs.shape)\n",
    "            \n",
    "                # policy loss\n",
    "                ratio = torch.exp(cur_log_probs - old_log_probs)  # same as cur_probs/old_probs, just with logs\n",
    "                fst_surrogate = ratio * advantages_b\n",
    "                snd_surrogate = torch.clip(ratio, 1 - clip_eps, 1 + clip_eps) * advantages_b\n",
    "                policy_loss = -torch.min(fst_surrogate, snd_surrogate).mean() - entropy_bonus * entropy\n",
    "                \n",
    "                # value loss\n",
    "                value_loss = F.huber_loss(values_b, returns_b, reduction='mean') * value_weight\n",
    "\n",
    "                cum_loss = policy_loss + value_loss\n",
    "                optimizer.zero_grad()\n",
    "                cum_loss.backward()\n",
    "                optimizer.step()\n",
    "                \n",
    "                # Track statistics for this minibatch\n",
    "                mb_policy_losses.append(policy_loss.item())\n",
    "                mb_value_losses.append(value_loss.item())\n",
    "                mb_entropies.append(entropy.item())\n",
    "                mb_kls.append((old_log_probs - cur_log_probs).mean().item())\n",
    "                clip_fraction = ((ratio > 1 + clip_eps) | (ratio < 1 - clip_eps)).float().mean().item()\n",
    "                mb_clip_fractions.append(clip_fraction)\n",
    "                \n",
    "        # average stats across minibatches\n",
    "        avg_policy_loss = sum(mb_policy_losses) / len(mb_policy_losses)\n",
    "        avg_value_loss = sum(mb_value_losses) / len(mb_value_losses)\n",
    "        avg_entropy = sum(mb_entropies) / len(mb_entropies)\n",
    "        avg_kl = sum(mb_kls) / len(mb_kls)\n",
    "        avg_clip_fraction = sum(mb_clip_fractions) / len(mb_clip_fractions)\n",
    "        \n",
    "        history['step_count'] += actual_steps        \n",
    "        \n",
    "        update_time = time.time() - t0\n",
    "        wall_time = time.time() - t_start\n",
    "\n",
    "        t0 = time.time()\n",
    "        with torch.no_grad():\n",
    "            exp_var = explained_variance(returns, values[:-1])\n",
    "        stats_time = time.time() - t0\n",
    "            \n",
    "        log = {\n",
    "            'update': update,\n",
    "            'step_count': history['step_count'],\n",
    "            'time_wall': wall_time,\n",
    "            'time_update': update_time,\n",
    "            'time_stats': stats_time,\n",
    "            'advantage': gae_advantages.mean().item(),  # pre standardization\n",
    "            'entropy': avg_entropy,\n",
    "            'explained_variance': exp_var,\n",
    "            'loss_policy': avg_policy_loss,  # entropy bonus incl.\n",
    "            'loss_value': avg_value_loss,\n",
    "            'loss_entropy': -entropy_bonus * avg_entropy,\n",
    "            'loss_cum': avg_policy_loss + avg_value_loss,\n",
    "            'approx_kl': avg_kl,  # average across all minibatches\n",
    "            'clip_fraction': avg_clip_fraction,\n",
    "        }\n",
    "\n",
    "        if update % eval_freq == 0 or update == num_updates:\n",
    "            t0 = time.time()\n",
    "            eval_rewards_d = evaluate(network, stochastic=False)\n",
    "            eval_rewards_s = evaluate(network, stochastic=True)\n",
    "            eval_time = time.time() - t0\n",
    "            log.update({\n",
    "                'eval_time': eval_time,\n",
    "                'eval_rewards (deterministic)': eval_rewards_d,\n",
    "                'eval_rewards (stochastic)': eval_rewards_s,\n",
    "            })\n",
    "\n",
    "            clear_output(wait=True)\n",
    "            print(f'wall time {wall_time:.2f} s')\n",
    "            print(f'update {update}')\n",
    "            print(f'step {history[\"step_count\"]}')\n",
    "            print(f'eval rewards (deterministic) {eval_rewards_d:.5f}')\n",
    "\n",
    "        try: wandb.log(log)\n",
    "        except: print(f'[warning] wandb log failed')"
   ]
  },
  {
   "cell_type": "code",
   "execution_count": 77,
   "id": "efc3b900-ac98-4fae-9ee6-a55153156d76",
   "metadata": {},
   "outputs": [
    {
     "name": "stdout",
     "output_type": "stream",
     "text": [
      "wall time 482.05 s\n",
      "update 100\n",
      "step 221947\n",
      "eval rewards (deterministic) 500.00000\n",
      "done.\n",
      "*actual* time taken: 482.93 s\n"
     ]
    }
   ],
   "source": [
    "t0 = time.time()\n",
    "try:\n",
    "    # torch.autograd.set_detect_anomaly(False)\n",
    "    train(env, 100, history)\n",
    "except KeyboardInterrupt:\n",
    "    print('keyboard interrupt. stopping...')\n",
    "finally:\n",
    "    print(f'done.\\n*actual* time taken: {time.time() - t0:.2f} s')"
   ]
  },
  {
   "cell_type": "code",
   "execution_count": 87,
   "id": "c2c50ca1-130f-490e-a010-4310d8219d18",
   "metadata": {},
   "outputs": [
    {
     "name": "stdout",
     "output_type": "stream",
     "text": [
      "tensor([[-1.5817],\n",
      "        [-1.5422],\n",
      "        [-1.6438],\n",
      "        ...,\n",
      "        [-3.5313],\n",
      "        [-3.7784],\n",
      "        [-3.6255]])\n",
      "\n",
      "tensor([[ -1.5485],\n",
      "        [ -1.5432],\n",
      "        [ -1.5714],\n",
      "        ...,\n",
      "        [-13.9717],\n",
      "        [-14.6148],\n",
      "        [-15.3924]])\n"
     ]
    }
   ],
   "source": [
    "states, actions, rewards, terminateds, log_probs, values = collect_rollout(env, network, num_steps) \n",
    "gae_advantages = gae(rewards, terminateds, values, gamma, gae_lambda)\n",
    "advantages = (gae_advantages - gae_advantages.mean()) / (gae_advantages.std() + 1e-7)\n",
    "returns = values[:-1] + advantages  # discounted rewards-to-go\n",
    "print(values, end='\\n\\n')  # no time step information hurts value estimation\n",
    "print(returns)  # keep in mind standardization if done"
   ]
  },
  {
   "cell_type": "code",
   "execution_count": 88,
   "id": "8028e771-3cc2-42f5-905e-0d3cbbe1e172",
   "metadata": {},
   "outputs": [
    {
     "data": {
      "image/png": "[encoded data removed]",
      "text/plain": [
       "<Figure size 640x480 with 1 Axes>"
      ]
     },
     "metadata": {},
     "output_type": "display_data"
    },
    {
     "data": {
      "text/plain": [
       "500.0"
      ]
     },
     "execution_count": 88,
     "metadata": {},
     "output_type": "execute_result"
    }
   ],
   "source": [
    "evaluate(network, stochastic=True, render_mode='human', graph=True)"
   ]
  },
  {
   "cell_type": "code",
   "execution_count": 89,
   "id": "09785024-8345-4fcc-8ce7-d202518e70ba",
   "metadata": {},
   "outputs": [
    {
     "name": "stdout",
     "output_type": "stream",
     "text": [
      "[]\n",
      "[]\n"
     ]
    }
   ],
   "source": [
    "print(list(network.g1.parameters()))  # for prelu\n",
    "print(list(network.g2.parameters()))"
   ]
  },
  {
   "cell_type": "code",
   "execution_count": 90,
   "id": "98b86091-a12a-4d75-8d9f-8cbeedba1c0d",
   "metadata": {},
   "outputs": [
    {
     "data": {
      "image/png": "[encoded data removed]",
      "text/plain": [
       "<Figure size 1600x400 with 4 Axes>"
      ]
     },
     "metadata": {},
     "output_type": "display_data"
    },
    {
     "name": "stdout",
     "output_type": "stream",
     "text": [
      "fc1 [ 0.16515829 -0.18994552  0.38440138 -0.09261113 -0.1790588  -0.27231342\n",
      " -0.40695807  0.42523646  0.10185701  0.04861151  0.46631503 -0.42626157\n",
      " -0.16177668 -0.1053541  -0.3106875   0.17176385  0.22236758  0.7560769\n",
      " -0.30583116  0.24738468  0.09624224 -0.17925365  0.09468874 -0.37518182\n",
      " -0.76981324 -0.3173014   0.5358925  -0.93399364  0.31135193  0.08299474\n",
      "  0.16597947 -0.37110585  0.52498734 -0.22027203 -0.29968733 -0.8280116\n",
      "  0.4048244  -0.26545835 -0.03766833 -0.00967193  0.13674125 -0.03935021\n",
      "  0.33959106  0.01905388  0.06366187  0.42861077 -0.26547998 -0.45262796\n",
      " -0.02510861 -0.23448175 -0.30468613 -0.27027193 -0.28141576  0.5144223\n",
      " -0.3234957   0.12093835 -0.8180557   0.2068669   0.5508941  -0.22027582\n",
      " -0.314895   -0.45773494 -0.42586213 -0.14443067]\n",
      "fc2 [-0.05521509 -1.1330568   0.26809976  0.14798903  0.63531107  0.62934107\n",
      " -0.06231039  0.0907758   0.29389495 -0.05885192  0.30993614  0.7475452\n",
      "  0.40213904 -0.166071    0.6414648   0.43017498  0.05522073 -0.04007966\n",
      "  0.12164347  0.2457029   0.42080823 -0.33412266 -1.4732833   0.5417036\n",
      " -1.9232503  -0.18430158  1.2353252   0.8101908   0.8495021   1.1048412\n",
      "  0.6853174  -0.30011058 -0.8530264  -1.6074888   0.01758432  0.6839805\n",
      " -0.81675565 -0.50516176 -0.20159031 -0.5589888  -0.12412342 -0.16960596\n",
      "  0.3069265  -2.5136833   0.6442486   1.3081878   0.27880067 -0.11127499\n",
      " -0.62901944 -0.06716733 -0.22419234  0.08736527 -0.11182473  0.22881147\n",
      " -0.25407606 -0.50449497 -0.7387352   0.09336445  0.27088434  0.05747633\n",
      " -0.7006392  -0.09178882 -0.24826358  0.6796684 ]\n",
      "policy_head [ 0.27207226 -0.4126646 ]\n",
      "value_head [-1.5828321]\n",
      "\n"
     ]
    }
   ],
   "source": [
    "def plot_activations(model, x, print_=True):\n",
    "    activations = {}\n",
    "    def hook_fn(module, inp, out, name):\n",
    "        activations[name] = out.detach().cpu().numpy()\n",
    "    hooks = []\n",
    "    for name, layer in model.named_children():\n",
    "        if isinstance(layer, torch.nn.Linear):  # capture only linear layers\n",
    "            hooks.append(layer.register_forward_hook(lambda m, inp, out, n=name: hook_fn(m, inp, out, n)))\n",
    "    with torch.no_grad():\n",
    "        model(x)\n",
    "    for hook in hooks:\n",
    "        hook.remove()\n",
    "    num_plots = len(activations)\n",
    "    fig, axes = plt.subplots(1, num_plots, figsize=(4 * num_plots, 4))\n",
    "    if num_plots == 1:\n",
    "        axes = [axes]\n",
    "    sout = ''\n",
    "    for ax, (name, act) in zip(axes, activations.items()):\n",
    "        sout += name + ' ' + str(act) + '\\n'\n",
    "        if act.ndim == 1:\n",
    "            act = act.reshape(1, -1)\n",
    "        ax.imshow(act.T, aspect='auto', cmap='viridis')\n",
    "        ax.set_title(name)\n",
    "        ax.set_xlabel('Batch Index')\n",
    "        ax.set_ylabel('Neuron Index')\n",
    "    plt.tight_layout()\n",
    "    plt.show()\n",
    "    if print_: print(sout)\n",
    "\n",
    "state, _ = env.reset()\n",
    "state = torch.as_tensor(state, dtype=torch.float)\n",
    "plot_activations(network, state)  # doesnt work directly with compile"
   ]
  },
  {
   "cell_type": "code",
   "execution_count": 91,
   "id": "dc34bd4e-022c-45ff-94ad-f4dbd8c18697",
   "metadata": {},
   "outputs": [
    {
     "name": "stdout",
     "output_type": "stream",
     "text": [
      "saved.\n"
     ]
    }
   ],
   "source": [
    "import os\n",
    "os.makedirs('./saved', exist_ok=True)\n",
    "torch.save(network.state_dict(), f'./saved/{env_name}-actor-critic.pth')\n",
    "print('saved.')"
   ]
  },
  {
   "cell_type": "code",
   "execution_count": null,
   "id": "642ea9ee-bdd9-455b-a4b8-0c5113c10c01",
   "metadata": {},
   "outputs": [],
   "source": []
  }
 ],
 "metadata": {
  "kernelspec": {
   "display_name": "kaggleenv310",
   "language": "python",
   "name": "kaggle310"
  },
  "language_info": {
   "codemirror_mode": {
    "name": "ipython",
    "version": 3
   },
   "file_extension": ".py",
   "mimetype": "text/x-python",
   "name": "python",
   "nbconvert_exporter": "python",
   "pygments_lexer": "ipython3",
   "version": "3.10.12"
  }
 },
 "nbformat": 4,
 "nbformat_minor": 5
}
