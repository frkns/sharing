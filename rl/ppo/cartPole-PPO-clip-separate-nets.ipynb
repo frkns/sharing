{
 "cells": [
  {
   "cell_type": "code",
   "execution_count": 3,
   "id": "d7993116-5dcb-42f7-8fe6-970989dc7771",
   "metadata": {},
   "outputs": [],
   "source": [
    "from gymnasium.wrappers import Autoreset, TimeAwareObservation\n",
    "from collections import defaultdict, deque\n",
    "from IPython.display import clear_output\n",
    "import matplotlib.pyplot as plt\n",
    "import gymnasium as gym\n",
    "import numpy as np\n",
    "import random\n",
    "import wandb\n",
    "import time\n",
    "import torch\n",
    "import torch.nn as nn\n",
    "import torch.optim as optim\n",
    "import torch.nn.functional as F\n",
    "from torch.distributions import Categorical"
   ]
  },
  {
   "cell_type": "code",
   "execution_count": 4,
   "id": "170e4f10-e7b2-49e9-a398-c0d5891d4511",
   "metadata": {},
   "outputs": [],
   "source": [
    "class ActorCritic(nn.Module):\n",
    "    def __init__(self, n_in, n_out):\n",
    "        super().__init__()\n",
    "        self.vfc1 = nn.Linear(n_in, 64)\n",
    "        self.vfc2 = nn.Linear(64, 64)\n",
    "        self.pfc1 = nn.Linear(n_in, 64)\n",
    "        self.pfc2 = nn.Linear(64, 64)\n",
    "        self.g1 = nn.SiLU()\n",
    "        self.g2 = nn.SiLU()\n",
    "        self.policy_head = nn.Linear(64, n_out)\n",
    "        self.value_head = nn.Linear(64, 1)\n",
    "\n",
    "    def value_only(self, x):\n",
    "        x = self.g1(self.vfc1(x))\n",
    "        x = self.g2(self.vfc2(x))\n",
    "        value = self.value_head(x)\n",
    "        return value\n",
    "\n",
    "    def forward(self, x):\n",
    "        y = self.g1(self.vfc1(x))\n",
    "        y = self.g2(self.vfc2(y))\n",
    "        value = self.value_head(y)\n",
    "        z = self.g1(self.pfc1(x))\n",
    "        z = self.g2(self.pfc2(z))\n",
    "        logits = self.policy_head(z)\n",
    "        return logits, value\n",
    "\n",
    "    def sample(self, state, stochastic=True):\n",
    "        logits, value = self.forward(state)\n",
    "        dist = Categorical(logits=logits)\n",
    "        if stochastic:\n",
    "            action = dist.sample()\n",
    "        else:\n",
    "            action = torch.argmax(logits, dim=-1)\n",
    "        log_prob = dist.log_prob(action)\n",
    "        return action, log_prob, value"
   ]
  },
  {
   "cell_type": "code",
   "execution_count": 5,
   "id": "025715db-68f9-4266-8ba8-a03c67b7069d",
   "metadata": {},
   "outputs": [],
   "source": [
    "env_name = 'CartPole-v1'\n",
    "def make_env(render_mode=None):\n",
    "    env = gym.make(env_name, render_mode=render_mode, max_episode_steps=500)\n",
    "    env = TimeAwareObservation(env)\n",
    "    env = Autoreset(env)  # TimeAwareObservation before Autoreset or else timestep tracking will be erroneous!!\n",
    "    return env"
   ]
  },
  {
   "cell_type": "code",
   "execution_count": 6,
   "id": "2d15ed1a-f99a-48f4-8c3f-f15c85fe55d1",
   "metadata": {},
   "outputs": [
    {
     "name": "stdout",
     "output_type": "stream",
     "text": [
      "iter 490 tensor([ 0.0250, -0.5695, -0.0293,  0.8124,  3.0000])\n",
      "iter 491 tensor([ 0.0136, -0.7642, -0.0131,  1.0957,  4.0000])\n",
      "iter 492 tensor([-1.7119e-03, -9.5912e-01,  8.8357e-03,  1.3843e+00,  5.0000e+00])\n",
      "iter 493 tensor([-0.0209, -1.1544,  0.0365,  1.6797,  6.0000])\n",
      "iter 494 tensor([-0.0440, -1.3499,  0.0701,  1.9835,  7.0000])\n",
      "iter 495 tensor([-0.0710, -1.5457,  0.1098,  2.2971,  8.0000])\n",
      "iter 496 tensor([-0.1019, -1.7416,  0.1557,  2.6214,  9.0000])\n",
      "iter 497 tensor([-0.1367, -1.9375,  0.2082,  2.9574, 10.0000])\n",
      "iter 498 tensor([-0.1755, -2.1332,  0.2673,  3.3053, 11.0000])\n",
      "terminated\n",
      "iter 499 tensor([ 0.0230, -0.0466, -0.0295,  0.0377,  0.0000])\n"
     ]
    }
   ],
   "source": [
    "def scope():  # check env is set up correctly\n",
    "    e = make_env()\n",
    "    e.reset()\n",
    "    for i in range(500):\n",
    "        if i % 10 == 0:\n",
    "            clear_output(wait=True)\n",
    "        s, r, term, trunc, _ = e.step(0)\n",
    "        print('iter', i, torch.as_tensor(s, dtype=torch.float))\n",
    "        if term or trunc:\n",
    "            sout = ''\n",
    "            if term: sout += 'terminated'\n",
    "            if trunc: sout += 'truncated'  # truncates at max_episode_steps\n",
    "            print(sout)\n",
    "    e.close()\n",
    "scope()"
   ]
  },
  {
   "cell_type": "code",
   "execution_count": 7,
   "id": "828b6db4-d6fd-4864-b5b4-fae00f0acc95",
   "metadata": {},
   "outputs": [],
   "source": [
    "@torch.no_grad()\n",
    "def collect_rollout(env, network: ActorCritic, min_steps):\n",
    "    states, actions, rewards, terminateds, log_probs, values = [], [], [], [], [], []\n",
    "    state = torch.as_tensor(env.reset()[0], dtype=torch.float)\n",
    "    step = 0\n",
    "    while True:\n",
    "        step += 1\n",
    "        action, log_prob, value = network.sample(state)\n",
    "        next_state, reward, terminated, truncated, _ = env.step(action.numpy())\n",
    "        next_state = torch.as_tensor(next_state, dtype=torch.float)\n",
    "        states.append(state)\n",
    "        actions.append(action)\n",
    "        rewards.append(reward)\n",
    "        terminateds.append(terminated)\n",
    "        log_probs.append(log_prob)\n",
    "        values.append(value)\n",
    "        state = next_state\n",
    "        if step >= min_steps and (terminated or truncated):\n",
    "            break\n",
    "    values.append(network.value_only(state))  # add the last value, we now have T+1 values in total\n",
    "        \n",
    "    states = torch.stack(states)                                                  # [T, |s|], |s| = dimension of the state vector\n",
    "    actions = torch.stack(actions).reshape(step, -1)                              # [T, |a|], |a| = dimension of the action vector\n",
    "    rewards = torch.as_tensor(rewards, dtype=torch.float).reshape(-1, 1)          # [T, 1]\n",
    "    terminateds = torch.as_tensor(terminateds, dtype=torch.float).reshape(-1, 1)  # [T, 1]\n",
    "    log_probs = torch.stack(log_probs).reshape(-1, 1)                             # [T, 1]\n",
    "    values = torch.stack(values)                                                  # [T+1, 1], T = num_steps\n",
    "    \n",
    "    return states, actions, rewards, terminateds, log_probs, values"
   ]
  },
  {
   "cell_type": "code",
   "execution_count": 8,
   "id": "d54aa200-3589-458c-bb59-6113e406ba9a",
   "metadata": {},
   "outputs": [],
   "source": [
    "@torch.no_grad()\n",
    "def evaluate(network: ActorCritic, stochastic=False, render_mode=None, graph=False):\n",
    "    _env = make_env(render_mode)\n",
    "    state = torch.as_tensor(_env.reset()[0], dtype=torch.float)\n",
    "    sum_rewards = 0\n",
    "    if graph:\n",
    "        values = []\n",
    "        immediate_reward = []\n",
    "        rewards_collected = []\n",
    "        values_plus_rewards = []\n",
    "    step = 0\n",
    "    while True:\n",
    "        step += 1\n",
    "        action, log_prob, value = network.sample(state, stochastic=stochastic)\n",
    "        next_state, reward, terminated, truncated, _ = _env.step(action.numpy())\n",
    "        sum_rewards += reward\n",
    "        if graph:\n",
    "            values += [value.item()]\n",
    "            immediate_reward += [reward]\n",
    "            rewards_collected += [sum_rewards]\n",
    "            values_plus_rewards += [value.item() + sum_rewards - reward]\n",
    "            if step % 20 == 0 or terminated or truncated:\n",
    "                plt.plot(values, label='values')\n",
    "                plt.plot(immediate_reward, label='immediate reward')\n",
    "                plt.plot(rewards_collected, label='rewards collected')\n",
    "                plt.plot(values_plus_rewards, label='rewards + values')\n",
    "                plt.legend()\n",
    "                clear_output(wait=True)\n",
    "                plt.show()\n",
    "        state = torch.as_tensor(next_state, dtype=torch.float)\n",
    "        if terminated or truncated:\n",
    "            break\n",
    "    _env.close()\n",
    "    return sum_rewards"
   ]
  },
  {
   "cell_type": "code",
   "execution_count": 9,
   "id": "6c89b972-5d16-4b40-80a6-b33f37bea6ba",
   "metadata": {},
   "outputs": [],
   "source": [
    "def gae(rewards, terminateds, values, gamma, lambda_):\n",
    "    td_errors = rewards + gamma * values[1:] * (1 - terminateds) - values[:-1]  # TD-errors = TD-targets - V(s)\n",
    "    advantages = torch.zeros_like(td_errors)\n",
    "    advantage = 0\n",
    "    for t in reversed(range(len(td_errors))):\n",
    "        advantage = lambda_ * gamma * advantage * (1 - terminateds[t]) + td_errors[t]  # gamma is being applied twice to discount far away TD-errors\n",
    "        advantages[t] = advantage                                                      # also note (1 - terminateds[t]) is absolutely critical\n",
    "        \n",
    "    return advantages  # [T, 1], once trained, advantages should be close to 0"
   ]
  },
  {
   "cell_type": "code",
   "execution_count": 10,
   "id": "a5f8a065-cc28-4536-8e7a-04b48e2321e9",
   "metadata": {},
   "outputs": [],
   "source": [
    "def explained_variance(returns, values):  # measure of critic's accuracy: 0 = random guessing, 1 = perfect\n",
    "    var_returns = torch.var(returns)\n",
    "    var_residuals = torch.var(returns - values)\n",
    "    if var_returns == 0: return 0.0 if var_residuals == 0 else -float('inf')\n",
    "    return (1 - var_residuals / var_returns).item()"
   ]
  },
  {
   "cell_type": "code",
   "execution_count": 14,
   "id": "c055d6db-7f80-4943-85a2-f9b2b6a5427e",
   "metadata": {},
   "outputs": [
    {
     "name": "stderr",
     "output_type": "stream",
     "text": [
      "Failed to detect the name of this notebook, you can set it manually with the WANDB_NOTEBOOK_NAME environment variable to enable code saving.\n",
      "\u001b[34m\u001b[1mwandb\u001b[0m: Using wandb-core as the SDK backend.  Please refer to https://wandb.me/wandb-core for more information.\n",
      "\u001b[34m\u001b[1mwandb\u001b[0m: Currently logged in as: \u001b[33mkchau\u001b[0m (\u001b[33mkchau-university-of-calgary-in-alberta\u001b[0m) to \u001b[32mhttps://api.wandb.ai\u001b[0m. Use \u001b[1m`wandb login --relogin`\u001b[0m to force relogin\n"
     ]
    },
    {
     "data": {
      "text/html": [
       "Tracking run with wandb version 0.19.8"
      ],
      "text/plain": [
       "<IPython.core.display.HTML object>"
      ]
     },
     "metadata": {},
     "output_type": "display_data"
    },
    {
     "data": {
      "text/html": [
       "Run data is saved locally in <code>C:\\Users\\flame\\wlink\\rl\\ppo\\wandb\\run-20250319_222344-qdm1kpg2</code>"
      ],
      "text/plain": [
       "<IPython.core.display.HTML object>"
      ]
     },
     "metadata": {},
     "output_type": "display_data"
    },
    {
     "data": {
      "text/html": [
       "Syncing run <strong><a href='https://wandb.ai/kchau-university-of-calgary-in-alberta/PPO-CartPole-v1/runs/qdm1kpg2' target=\"_blank\">separate nets</a></strong> to <a href='https://wandb.ai/kchau-university-of-calgary-in-alberta/PPO-CartPole-v1' target=\"_blank\">Weights & Biases</a> (<a href='https://wandb.me/developer-guide' target=\"_blank\">docs</a>)<br>"
      ],
      "text/plain": [
       "<IPython.core.display.HTML object>"
      ]
     },
     "metadata": {},
     "output_type": "display_data"
    },
    {
     "data": {
      "text/html": [
       " View project at <a href='https://wandb.ai/kchau-university-of-calgary-in-alberta/PPO-CartPole-v1' target=\"_blank\">https://wandb.ai/kchau-university-of-calgary-in-alberta/PPO-CartPole-v1</a>"
      ],
      "text/plain": [
       "<IPython.core.display.HTML object>"
      ]
     },
     "metadata": {},
     "output_type": "display_data"
    },
    {
     "data": {
      "text/html": [
       " View run at <a href='https://wandb.ai/kchau-university-of-calgary-in-alberta/PPO-CartPole-v1/runs/qdm1kpg2' target=\"_blank\">https://wandb.ai/kchau-university-of-calgary-in-alberta/PPO-CartPole-v1/runs/qdm1kpg2</a>"
      ],
      "text/plain": [
       "<IPython.core.display.HTML object>"
      ]
     },
     "metadata": {},
     "output_type": "display_data"
    }
   ],
   "source": [
    "batch_size = 64\n",
    "num_steps = 2048  # steps per rollout\n",
    "num_epochs = 10   # epochs per iteration\n",
    "gae_lambda = 0.95      # GAE(lambda): 0 is same as TD-error, 1 is same as Monte Carlo return\n",
    "value_weight = 0.5     # weight of value loss (vs policy loss)\n",
    "entropy_bonus = 0.01 * 1.0  # entropy regularization coefficient in loss, may need to manually adjust with reward scale\n",
    "clip_eps = 0.2         # policy ratio clipping radius\n",
    "gamma = 0.99\n",
    "policy_lr = 3e-4\n",
    "value_lr = 3e-4\n",
    "backbone_lr = 3e-4  # lr for the shared backbone, OpenAI's Spinning Up implicity uses same lr as critic\n",
    "\n",
    "eval_freq = 2\n",
    "\n",
    "try: env.reset(), env.close()\n",
    "except: pass\n",
    "env = make_env()\n",
    "state_dim = env.observation_space.shape[0]\n",
    "action_dim = env.action_space.n\n",
    "\n",
    "network = ActorCritic(state_dim, action_dim)\n",
    "\n",
    "# if compiling\n",
    "# import cl_fix\n",
    "# network = torch.compile(network)\n",
    "\n",
    "shared_backbone_params = []\n",
    "policy_head_params = list(network.pfc1.parameters()) + list(network.pfc2.parameters()) + list(network.policy_head.parameters())\n",
    "value_head_params = list(network.vfc1.parameters()) + list(network.vfc2.parameters()) + list(network.value_head.parameters())\n",
    "\n",
    "optimizer = torch.optim.Adam([  # single optimizer, avoids ambiguity in lr of backbone that is present in Spinning Up\n",
    "    {'params': policy_head_params, 'lr': policy_lr},\n",
    "    {'params': value_head_params, 'lr': value_lr},\n",
    "    {'params': shared_backbone_params, 'lr': backbone_lr},\n",
    "])\n",
    "\n",
    "wandb.finish()\n",
    "wandb.init(\n",
    "    project='PPO-' + env_name,\n",
    "    name='separate nets',\n",
    "    # mode='disabled',\n",
    "    config={\n",
    "        'batch_size': batch_size,\n",
    "        'num_steps': num_steps,\n",
    "        'num_epochs': num_epochs,\n",
    "        'gae_lambda': gae_lambda,\n",
    "        'value_weight': value_weight,\n",
    "        'entropy_bonus': entropy_bonus,\n",
    "        'clip_eps': clip_eps,\n",
    "        'gamma': gamma,\n",
    "        'policy_lr': policy_lr,\n",
    "        'value_lr': value_lr,\n",
    "        'backbone_lr': backbone_lr,\n",
    "        'env_name': env_name,\n",
    "    }\n",
    ")\n",
    "\n",
    "history = {'step_count': 0}"
   ]
  },
  {
   "cell_type": "code",
   "execution_count": 15,
   "id": "b99f1dbc-6cc3-4287-ba4e-6c38b1dd5951",
   "metadata": {},
   "outputs": [],
   "source": [
    "def train(env, num_updates, history):\n",
    "    t_start = time.time()\n",
    "    for update in range(1, num_updates+1):\n",
    "        t0 = time.time()\n",
    "        states, actions, rewards, terminateds, log_probs, values = collect_rollout(env, network, num_steps) \n",
    "        gae_advantages = gae(rewards, terminateds, values, gamma, gae_lambda)\n",
    "        advantages = (gae_advantages - gae_advantages.mean()) / (gae_advantages.std() + 1e-7)\n",
    "        returns = values[:-1] + advantages  # discounted rewards-to-go\n",
    "        actual_steps = len(states)  # actual steps taken \n",
    "        \n",
    "        # stats across all minibatches\n",
    "        mb_policy_losses = []\n",
    "        mb_value_losses = []\n",
    "        mb_entropies = []\n",
    "        mb_kls = []\n",
    "        mb_clip_fractions = []\n",
    "        \n",
    "        for _ in range(num_epochs):\n",
    "            indices = torch.randperm(actual_steps)\n",
    "            for begin in range(0, actual_steps, batch_size):\n",
    "                end = begin + batch_size\n",
    "                batch_indices = indices[begin:end]\n",
    "                \n",
    "                states_b = states[batch_indices]\n",
    "                actions_b = actions[batch_indices]\n",
    "                returns_b = returns[batch_indices]\n",
    "                advantages_b = advantages[batch_indices]\n",
    "                old_log_probs = log_probs[batch_indices]\n",
    "                \n",
    "                logits, values_b = network(states_b)\n",
    "                dist = Categorical(logits=logits)\n",
    "                entropy = dist.entropy().mean()\n",
    "                cur_log_probs = dist.log_prob(actions_b.squeeze()).reshape(old_log_probs.shape)\n",
    "            \n",
    "                # policy loss\n",
    "                ratio = torch.exp(cur_log_probs - old_log_probs)  # same as cur_probs/old_probs, just with logs\n",
    "                fst_surrogate = ratio * advantages_b\n",
    "                snd_surrogate = torch.clip(ratio, 1 - clip_eps, 1 + clip_eps) * advantages_b\n",
    "                policy_loss = -torch.min(fst_surrogate, snd_surrogate).mean() - entropy_bonus * entropy\n",
    "                \n",
    "                # value loss\n",
    "                value_loss = F.huber_loss(values_b, returns_b, reduction='mean') * value_weight\n",
    "\n",
    "                cum_loss = policy_loss + value_loss\n",
    "                optimizer.zero_grad()\n",
    "                cum_loss.backward()\n",
    "                optimizer.step()\n",
    "                \n",
    "                # Track statistics for this minibatch\n",
    "                mb_policy_losses.append(policy_loss.item())\n",
    "                mb_value_losses.append(value_loss.item())\n",
    "                mb_entropies.append(entropy.item())\n",
    "                mb_kls.append((old_log_probs - cur_log_probs).mean().item())\n",
    "                clip_fraction = ((ratio > 1 + clip_eps) | (ratio < 1 - clip_eps)).float().mean().item()\n",
    "                mb_clip_fractions.append(clip_fraction)\n",
    "                \n",
    "        # average stats across minibatches\n",
    "        avg_policy_loss = sum(mb_policy_losses) / len(mb_policy_losses)\n",
    "        avg_value_loss = sum(mb_value_losses) / len(mb_value_losses)\n",
    "        avg_entropy = sum(mb_entropies) / len(mb_entropies)\n",
    "        avg_kl = sum(mb_kls) / len(mb_kls)\n",
    "        avg_clip_fraction = sum(mb_clip_fractions) / len(mb_clip_fractions)\n",
    "        \n",
    "        history['step_count'] += actual_steps        \n",
    "        \n",
    "        update_time = time.time() - t0\n",
    "        wall_time = time.time() - t_start\n",
    "\n",
    "        t0 = time.time()\n",
    "        with torch.no_grad():\n",
    "            exp_var = explained_variance(returns, values[:-1])\n",
    "        stats_time = time.time() - t0\n",
    "            \n",
    "        log = {\n",
    "            'update': update,\n",
    "            'step_count': history['step_count'],\n",
    "            'time_wall': wall_time,\n",
    "            'time_update': update_time,\n",
    "            'time_stats': stats_time,\n",
    "            'advantage': gae_advantages.mean().item(),  # pre standardization\n",
    "            'entropy': avg_entropy,\n",
    "            'explained_variance': exp_var,\n",
    "            'loss_policy': avg_policy_loss,  # entropy bonus incl.\n",
    "            'loss_value': avg_value_loss,\n",
    "            'loss_entropy': -entropy_bonus * avg_entropy,\n",
    "            'loss_cum': avg_policy_loss + avg_value_loss,\n",
    "            'approx_kl': avg_kl,  # average across all minibatches\n",
    "            'clip_fraction': avg_clip_fraction,\n",
    "        }\n",
    "\n",
    "        if update % eval_freq == 0 or update == num_updates:\n",
    "            t0 = time.time()\n",
    "            eval_rewards_d = evaluate(network, stochastic=False)\n",
    "            eval_rewards_s = evaluate(network, stochastic=True)\n",
    "            eval_time = time.time() - t0\n",
    "            log.update({\n",
    "                'eval_time': eval_time,\n",
    "                'eval_rewards (deterministic)': eval_rewards_d,\n",
    "                'eval_rewards (stochastic)': eval_rewards_s,\n",
    "            })\n",
    "\n",
    "            clear_output(wait=True)\n",
    "            print(f'wall time {wall_time:.2f} s')\n",
    "            print(f'update {update}')\n",
    "            print(f'step {history[\"step_count\"]}')\n",
    "            print(f'eval rewards (deterministic) {eval_rewards_d:.5f}')\n",
    "\n",
    "        try: wandb.log(log)\n",
    "        except: print(f'[warning] wandb log failed')"
   ]
  },
  {
   "cell_type": "code",
   "execution_count": 16,
   "id": "efc3b900-ac98-4fae-9ee6-a55153156d76",
   "metadata": {},
   "outputs": [
    {
     "name": "stdout",
     "output_type": "stream",
     "text": [
      "wall time 566.30 s\n",
      "update 100\n",
      "step 209444\n",
      "eval rewards (deterministic) 176.00000\n",
      "done.\n",
      "*actual* time taken: 566.64 s\n"
     ]
    }
   ],
   "source": [
    "t0 = time.time()\n",
    "try:\n",
    "    # torch.autograd.set_detect_anomaly(False)\n",
    "    train(env, 100, history)\n",
    "except KeyboardInterrupt:\n",
    "    print('keyboard interrupt. stopping...')\n",
    "finally:\n",
    "    print(f'done.\\n*actual* time taken: {time.time() - t0:.2f} s')"
   ]
  },
  {
   "cell_type": "code",
   "execution_count": 17,
   "id": "c2c50ca1-130f-490e-a010-4310d8219d18",
   "metadata": {},
   "outputs": [
    {
     "name": "stdout",
     "output_type": "stream",
     "text": [
      "tensor([[ -0.6883],\n",
      "        [ -0.7174],\n",
      "        [ -0.7903],\n",
      "        ...,\n",
      "        [-14.0235],\n",
      "        [-14.2473],\n",
      "        [-14.4312]])\n",
      "\n",
      "tensor([[ -0.4976],\n",
      "        [ -0.5317],\n",
      "        [ -0.5744],\n",
      "        ...,\n",
      "        [-14.3531],\n",
      "        [-14.6695],\n",
      "        [-14.9022]])\n"
     ]
    }
   ],
   "source": [
    "states, actions, rewards, terminateds, log_probs, values = collect_rollout(env, network, num_steps) \n",
    "gae_advantages = gae(rewards, terminateds, values, gamma, gae_lambda)\n",
    "advantages = (gae_advantages - gae_advantages.mean()) / (gae_advantages.std() + 1e-7)\n",
    "returns = values[:-1] + advantages  # discounted rewards-to-go\n",
    "print(values, end='\\n\\n')  # no time step information hurts value estimation\n",
    "print(returns)  # keep in mind standardization if done"
   ]
  },
  {
   "cell_type": "code",
   "execution_count": 88,
   "id": "8028e771-3cc2-42f5-905e-0d3cbbe1e172",
   "metadata": {},
   "outputs": [
    {
     "data": {
      "image/png": "[encoded data removed]",
      "text/plain": [
       "<Figure size 640x480 with 1 Axes>"
      ]
     },
     "metadata": {},
     "output_type": "display_data"
    },
    {
     "data": {
      "text/plain": [
       "500.0"
      ]
     },
     "execution_count": 88,
     "metadata": {},
     "output_type": "execute_result"
    }
   ],
   "source": [
    "evaluate(network, stochastic=True, render_mode='human', graph=True)"
   ]
  },
  {
   "cell_type": "code",
   "execution_count": 89,
   "id": "09785024-8345-4fcc-8ce7-d202518e70ba",
   "metadata": {},
   "outputs": [
    {
     "name": "stdout",
     "output_type": "stream",
     "text": [
      "[]\n",
      "[]\n"
     ]
    }
   ],
   "source": [
    "print(list(network.g1.parameters()))  # for prelu\n",
    "print(list(network.g2.parameters()))"
   ]
  },
  {
   "cell_type": "code",
   "execution_count": 20,
   "id": "98b86091-a12a-4d75-8d9f-8cbeedba1c0d",
   "metadata": {},
   "outputs": [
    {
     "data": {
      "image/png": "[encoded data removed]",
      "text/plain": [
       "<Figure size 2400x400 with 6 Axes>"
      ]
     },
     "metadata": {},
     "output_type": "display_data"
    },
    {
     "name": "stdout",
     "output_type": "stream",
     "text": [
      "vfc1 [-0.30092323 -0.85874337 -0.44392124  0.10688399  0.19813733 -0.7752779\n",
      "  0.29312822  0.21208405 -0.31235197 -0.48536393 -0.01583902 -0.44100425\n",
      " -0.6566506   0.26880923  0.38656572  0.02110425  0.58246773 -0.53920335\n",
      "  0.3314845  -0.5646523  -0.11644984 -0.00542819 -0.6326864  -0.02134406\n",
      " -0.01652841  0.23619041 -0.8324766   0.01697477 -0.601757    0.19826481\n",
      "  0.4116653  -0.02724916  0.4959242  -0.5001469  -0.6789675   0.7164389\n",
      "  0.22827692 -0.00469124 -0.36147946  0.13096035  0.2136884  -0.05760843\n",
      " -0.86000246  0.46755677 -0.43535328  0.24685761  0.66226196 -0.32519698\n",
      "  0.3559465  -0.77468425  0.45896435 -0.04995619 -0.03559693  0.20816697\n",
      " -0.4200039  -0.33057162 -0.04624105  0.22765976  0.04924028 -0.8783859\n",
      "  0.59550875 -0.09841795  0.24927825  0.38179314]\n",
      "vfc2 [-0.00864772  0.18331087 -0.58714896  0.17604418  0.4937173   0.22108987\n",
      " -0.08373781 -0.31505328 -0.53109413 -0.29001895  0.1340199  -1.0013881\n",
      " -0.5287723   0.45867932 -0.10309032 -0.07694271  0.45829916 -0.01942407\n",
      "  1.0019327   1.4413533  -0.40263242 -0.38553336  1.453509   -1.9542277\n",
      " -0.33365712  0.07383517 -0.18671283  0.64323425  0.8721045  -0.57450014\n",
      " -0.94219565 -0.721992   -0.12679933  0.14531621 -1.1149805   0.08996956\n",
      " -0.7699169  -0.21293348 -0.3666942   0.16959241  3.0128388   0.06550489\n",
      " -0.11645333 -1.0634236   0.07080566 -0.40728575  1.2499611   0.16098084\n",
      " -0.06888603 -0.67883843  0.15580568 -0.14192086 -0.6805478  -0.9813796\n",
      " -0.4923554   0.79032856 -1.0151879   0.7670245  -0.35795653 -0.04715044\n",
      "  0.07403087  0.6603495   0.04720156 -0.3485239 ]\n",
      "value_head [-0.69491524]\n",
      "pfc1 [ 0.07753232  0.277815   -0.2521866   0.4190716   0.01233859 -0.05589885\n",
      "  0.11822921 -0.5318645  -0.11333876 -0.540691    0.24412253  0.7924022\n",
      " -0.12576652 -0.57349926  0.32115093  0.30142143  0.23333076  0.65337855\n",
      "  0.36749175  0.13099416 -0.12450716 -0.604233    0.0268223  -0.01597904\n",
      "  0.5339114   0.13594541  0.16367543  0.5568377   0.3699582  -0.47099668\n",
      " -0.18536982  0.11875931  0.17730796 -0.19890428 -0.38658902 -0.1075177\n",
      "  0.16114596  0.01108663 -0.08222821 -0.02674748  0.3247492   0.31420392\n",
      "  0.3820491   0.25186855  0.36829028 -0.07836422  0.55572325 -0.36110646\n",
      "  0.03920865 -0.0177868   0.1110474  -0.13902584 -0.2723544  -0.05772974\n",
      " -0.36671156 -0.3276417   0.05787731 -0.43505645  0.11425078 -0.22101249\n",
      "  0.44322     0.18422614  0.02485033 -0.45898378]\n",
      "pfc2 [-0.85657644 -0.6478574  -0.87973094  1.0104891  -0.9166907   0.5480677\n",
      "  0.11090802  0.62144756  0.128562   -0.32770056  0.4505941   0.7945608\n",
      " -0.37563106 -0.06366269 -0.05080956  0.02073532 -0.19899598 -0.06588185\n",
      "  0.25686243 -0.86515653  0.2971568   0.20188147  0.35165286 -0.7362952\n",
      "  0.5661033   0.68470585  0.10250583 -0.10962163  0.39143193  0.11345188\n",
      "  0.19133282  0.112684   -0.02831757  0.29197574  0.7036078   0.13764958\n",
      " -0.57538426  0.22169854  0.8877425   0.93171906  0.04330309  0.14758651\n",
      " -0.56690145  0.05031303  0.3329035   0.12288603  0.7096727   0.02743748\n",
      "  0.3628065   0.2916749  -0.5846864  -0.12969783 -0.6014183   0.02418673\n",
      "  0.3015889  -0.8262119   0.8725663   0.1459893   0.01923465  0.65530354\n",
      " -0.20438716  0.15626223  0.2962058   1.2694168 ]\n",
      "policy_head [ 0.23890533 -0.51635736]\n",
      "\n"
     ]
    }
   ],
   "source": [
    "def plot_activations(model, x, print_=True):\n",
    "    activations = {}\n",
    "    def hook_fn(module, inp, out, name):\n",
    "        activations[name] = out.detach().cpu().numpy()\n",
    "    hooks = []\n",
    "    for name, layer in model.named_children():\n",
    "        if isinstance(layer, torch.nn.Linear):  # capture only linear layers\n",
    "            hooks.append(layer.register_forward_hook(lambda m, inp, out, n=name: hook_fn(m, inp, out, n)))\n",
    "    with torch.no_grad():\n",
    "        model(x)\n",
    "    for hook in hooks:\n",
    "        hook.remove()\n",
    "    num_plots = len(activations)\n",
    "    fig, axes = plt.subplots(1, num_plots, figsize=(4 * num_plots, 4))\n",
    "    if num_plots == 1:\n",
    "        axes = [axes]\n",
    "    sout = ''\n",
    "    for ax, (name, act) in zip(axes, activations.items()):\n",
    "        sout += name + ' ' + str(act) + '\\n'\n",
    "        if act.ndim == 1:\n",
    "            act = act.reshape(1, -1)\n",
    "        ax.imshow(act.T, aspect='auto', cmap='viridis')\n",
    "        ax.set_title(name)\n",
    "        ax.set_xlabel('Batch Index')\n",
    "        ax.set_ylabel('Neuron Index')\n",
    "    plt.tight_layout()\n",
    "    plt.show()\n",
    "    if print_: print(sout)\n",
    "\n",
    "state, _ = env.reset()\n",
    "state = torch.as_tensor(state, dtype=torch.float)\n",
    "plot_activations(network, state)  # doesnt work directly with compile"
   ]
  },
  {
   "cell_type": "code",
   "execution_count": 91,
   "id": "dc34bd4e-022c-45ff-94ad-f4dbd8c18697",
   "metadata": {},
   "outputs": [
    {
     "name": "stdout",
     "output_type": "stream",
     "text": [
      "saved.\n"
     ]
    }
   ],
   "source": [
    "import os\n",
    "os.makedirs('./saved', exist_ok=True)\n",
    "torch.save(network.state_dict(), f'./saved/{env_name}-actor-critic.pth')\n",
    "print('saved.')"
   ]
  },
  {
   "cell_type": "code",
   "execution_count": null,
   "id": "642ea9ee-bdd9-455b-a4b8-0c5113c10c01",
   "metadata": {},
   "outputs": [],
   "source": []
  }
 ],
 "metadata": {
  "kernelspec": {
   "display_name": "kaggleenv310",
   "language": "python",
   "name": "kaggle310"
  },
  "language_info": {
   "codemirror_mode": {
    "name": "ipython",
    "version": 3
   },
   "file_extension": ".py",
   "mimetype": "text/x-python",
   "name": "python",
   "nbconvert_exporter": "python",
   "pygments_lexer": "ipython3",
   "version": "3.10.12"
  }
 },
 "nbformat": 4,
 "nbformat_minor": 5
}
