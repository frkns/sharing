{
 "cells": [
  {
   "cell_type": "code",
   "execution_count": 2,
   "id": "d7993116-5dcb-42f7-8fe6-970989dc7771",
   "metadata": {},
   "outputs": [],
   "source": [
    "from collections import defaultdict, deque\n",
    "from gymnasium.wrappers import Autoreset\n",
    "from IPython.display import clear_output\n",
    "import matplotlib.pyplot as plt\n",
    "import gymnasium as gym\n",
    "import numpy as np\n",
    "import random\n",
    "import wandb\n",
    "import time\n",
    "import torch\n",
    "import torch.nn as nn\n",
    "import torch.optim as optim\n",
    "import torch.nn.functional as F\n",
    "from torch.distributions import Normal"
   ]
  },
  {
   "cell_type": "code",
   "execution_count": 3,
   "id": "170e4f10-e7b2-49e9-a398-c0d5891d4511",
   "metadata": {},
   "outputs": [],
   "source": [
    "class ActorCritic(nn.Module):\n",
    "    def __init__(self, n_in, n_out, max_action):\n",
    "        super().__init__()\n",
    "        self.max_action = max_action\n",
    "        self.fc1 = nn.Linear(n_in, 64)\n",
    "        self.fc2 = nn.Linear(64, 64)\n",
    "        self.g1 = nn.SiLU()\n",
    "        self.g2 = nn.SiLU()\n",
    "        # self.g1 = nn.ReLU()\n",
    "        # self.g2 = nn.ReLU()\n",
    "        self.value_head = nn.Linear(64, 1)\n",
    "        self.mean_head = nn.Linear(64, n_out)\n",
    "        self.log_std_head = nn.Linear(64, n_out)\n",
    "        \n",
    "        with torch.no_grad():  # scale down\n",
    "            self.mean_head.weight.multiply_(0.1)\n",
    "            self.mean_head.bias.multiply_(0.1)\n",
    "            self.log_std_head.weight.multiply_(0.1)\n",
    "            self.log_std_head.bias.multiply_(0.1)\n",
    "\n",
    "    def value_only(self, x):\n",
    "        x = self.g1(self.fc1(x))\n",
    "        x = self.g2(self.fc2(x))\n",
    "        value = self.value_head(x)\n",
    "        return value\n",
    "        \n",
    "\n",
    "    def forward(self, x):\n",
    "        x = self.g1(self.fc1(x))\n",
    "        x = self.g2(self.fc2(x))\n",
    "        value = self.value_head(x)\n",
    "        mean = self.mean_head(x)\n",
    "        # mean = mean.clip(-1, 1)\n",
    "        # mean = torch.tanh(mean)\n",
    "        log_std = self.log_std_head(x)\n",
    "        log_std = log_std.clip(-20, 2)\n",
    "        # log_std = torch.tanh(log_std) * 2\n",
    "        \n",
    "        return value, mean, log_std\n",
    "    \n",
    "    def sample(self, state, stochastic=True):\n",
    "        value, mean, log_std = self.forward(state)\n",
    "        \n",
    "        if stochastic:\n",
    "            std = log_std.exp()\n",
    "            normal = Normal(mean, std)\n",
    "            action = normal.sample()\n",
    "            log_prob = normal.log_prob(action)\n",
    "            log_prob = log_prob.sum(dim=-1, keepdim=True)\n",
    "        else:\n",
    "            action = mean\n",
    "            log_prob = torch.zeros_like(action).sum(dim=-1, keepdim=True)\n",
    "            \n",
    "        return action, log_prob, value"
   ]
  },
  {
   "cell_type": "code",
   "execution_count": 4,
   "id": "025715db-68f9-4266-8ba8-a03c67b7069d",
   "metadata": {},
   "outputs": [],
   "source": [
    "env_name = 'Pendulum-v1'\n",
    "def make_env(render_mode=None):\n",
    "    env = gym.make(env_name, render_mode=render_mode, max_episode_steps=1000)\n",
    "    env = Autoreset(env)\n",
    "    return env"
   ]
  },
  {
   "cell_type": "code",
   "execution_count": 5,
   "id": "828b6db4-d6fd-4864-b5b4-fae00f0acc95",
   "metadata": {},
   "outputs": [],
   "source": [
    "@torch.no_grad()\n",
    "def collect_rollout(env, network: ActorCritic, min_steps):\n",
    "    states, actions, rewards, terminateds, log_probs, values = [], [], [], [], [], []\n",
    "    state = torch.as_tensor(env.reset()[0])\n",
    "    step = 0\n",
    "    while True:\n",
    "        step += 1\n",
    "        action, log_prob, value = network.sample(state)\n",
    "        next_state, reward, terminated, truncated, _ = env.step(np.tanh(action.numpy()) * network.max_action)\n",
    "        next_state = torch.as_tensor(next_state)\n",
    "        states.append(state)\n",
    "        actions.append(action)\n",
    "        rewards.append(reward)\n",
    "        terminateds.append(terminated)\n",
    "        log_probs.append(log_prob)\n",
    "        values.append(value)\n",
    "        state = next_state\n",
    "        if step >= min_steps and (terminated or truncated):\n",
    "            break\n",
    "    values.append(network.value_only(state))  # add the last value, we now have T+1 values in total\n",
    "        \n",
    "    states = torch.stack(states)                                                  # [T, |s|], |s| = dimension of the state vector\n",
    "    actions = torch.stack(actions).reshape(step, -1)                              # [T, |a|], |a| = dimension of the action vector\n",
    "    rewards = torch.as_tensor(rewards, dtype=torch.float).reshape(-1, 1)          # [T, 1]\n",
    "    terminateds = torch.as_tensor(terminateds, dtype=torch.float).reshape(-1, 1)  # [T, 1]\n",
    "    log_probs = torch.stack(log_probs).reshape(-1, 1)                             # [T, 1], sum of log probs for these specific actions\n",
    "    values = torch.stack(values)                                                  # [T+1, 1], T = num_steps\n",
    "    \n",
    "    return states, actions, rewards, terminateds, log_probs, values"
   ]
  },
  {
   "cell_type": "code",
   "execution_count": 6,
   "id": "d54aa200-3589-458c-bb59-6113e406ba9a",
   "metadata": {},
   "outputs": [],
   "source": [
    "@torch.no_grad()\n",
    "def evaluate(network: ActorCritic, stochastic=False, render_mode=None, graph=False):\n",
    "    _env = make_env(render_mode)\n",
    "    state = torch.as_tensor(_env.reset()[0])\n",
    "    sum_rewards = 0\n",
    "    if graph:\n",
    "        values = []\n",
    "        immediate_reward = []\n",
    "        rewards_collected = []\n",
    "        values_plus_rewards = []\n",
    "    step = 0\n",
    "    while True:\n",
    "        step += 1\n",
    "        action, log_prob, value = network.sample(state, stochastic=stochastic)\n",
    "        next_state, reward, terminated, truncated, _ = _env.step(np.tanh(action.numpy()) * network.max_action)\n",
    "        sum_rewards += reward\n",
    "        if graph:\n",
    "            values += [value.item()]\n",
    "            immediate_reward += [reward]\n",
    "            rewards_collected += [sum_rewards]\n",
    "            values_plus_rewards += [value.item() + sum_rewards - reward]\n",
    "            if step % 20 == 0 or terminated or truncated:\n",
    "                plt.plot(values, label='values')\n",
    "                plt.plot(immediate_reward, label='immediate reward')\n",
    "                plt.plot(rewards_collected, label='rewards collected')\n",
    "                plt.plot(values_plus_rewards, label='rewards + values')\n",
    "                plt.legend()\n",
    "                clear_output(wait=True)\n",
    "                plt.show()\n",
    "        state = torch.as_tensor(next_state)\n",
    "        if terminated or truncated:\n",
    "            break\n",
    "    _env.close()\n",
    "    return sum_rewards"
   ]
  },
  {
   "cell_type": "code",
   "execution_count": 7,
   "id": "6c89b972-5d16-4b40-80a6-b33f37bea6ba",
   "metadata": {},
   "outputs": [],
   "source": [
    "def gae(rewards, terminateds, values, gamma, lambda_):\n",
    "    td_errors = rewards + gamma * values[1:] * (1 - terminateds) - values[:-1]  # TD-errors = TD-targets - V(s)\n",
    "    advantages = torch.zeros_like(td_errors)\n",
    "    advantage = 0\n",
    "    for t in reversed(range(len(td_errors))):\n",
    "        advantage = lambda_ * gamma * advantage * (1 - terminateds[t]) + td_errors[t]  # gamma is being applied twice to discount far away TD-errors\n",
    "        advantages[t] = advantage                                                      # also note (1 - terminateds[t]) is absolutely critical\n",
    "        \n",
    "    return advantages  # [T, 1], once trained, advantages should be close to 0"
   ]
  },
  {
   "cell_type": "code",
   "execution_count": 8,
   "id": "a5f8a065-cc28-4536-8e7a-04b48e2321e9",
   "metadata": {},
   "outputs": [],
   "source": [
    "def explained_variance(returns, values):  # measure of critic's accuracy: 0 = random guessing, 1 = perfect\n",
    "    var_returns = torch.var(returns)\n",
    "    var_residuals = torch.var(returns - values)\n",
    "    if var_returns == 0: return 0.0 if var_residuals == 0 else -float('inf')\n",
    "    return (1 - var_residuals / var_returns).item()"
   ]
  },
  {
   "cell_type": "code",
   "execution_count": 9,
   "id": "c055d6db-7f80-4943-85a2-f9b2b6a5427e",
   "metadata": {},
   "outputs": [
    {
     "name": "stderr",
     "output_type": "stream",
     "text": [
      "Failed to detect the name of this notebook, you can set it manually with the WANDB_NOTEBOOK_NAME environment variable to enable code saving.\n",
      "\u001b[34m\u001b[1mwandb\u001b[0m: Using wandb-core as the SDK backend.  Please refer to https://wandb.me/wandb-core for more information.\n",
      "\u001b[34m\u001b[1mwandb\u001b[0m: Currently logged in as: \u001b[33mkchau\u001b[0m (\u001b[33mkchau-university-of-calgary-in-alberta\u001b[0m) to \u001b[32mhttps://api.wandb.ai\u001b[0m. Use \u001b[1m`wandb login --relogin`\u001b[0m to force relogin\n"
     ]
    },
    {
     "data": {
      "text/html": [
       "Tracking run with wandb version 0.19.8"
      ],
      "text/plain": [
       "<IPython.core.display.HTML object>"
      ]
     },
     "metadata": {},
     "output_type": "display_data"
    },
    {
     "data": {
      "text/html": [
       "Run data is saved locally in <code>C:\\Users\\flame\\wlink\\rl\\ppo\\wandb\\run-20250319_104344-qemur86e</code>"
      ],
      "text/plain": [
       "<IPython.core.display.HTML object>"
      ]
     },
     "metadata": {},
     "output_type": "display_data"
    },
    {
     "data": {
      "text/html": [
       "Syncing run <strong><a href='https://wandb.ai/kchau-university-of-calgary-in-alberta/PPO-Pendulum-v1/runs/qemur86e' target=\"_blank\">harder0</a></strong> to <a href='https://wandb.ai/kchau-university-of-calgary-in-alberta/PPO-Pendulum-v1' target=\"_blank\">Weights & Biases</a> (<a href='https://wandb.me/developer-guide' target=\"_blank\">docs</a>)<br>"
      ],
      "text/plain": [
       "<IPython.core.display.HTML object>"
      ]
     },
     "metadata": {},
     "output_type": "display_data"
    },
    {
     "data": {
      "text/html": [
       " View project at <a href='https://wandb.ai/kchau-university-of-calgary-in-alberta/PPO-Pendulum-v1' target=\"_blank\">https://wandb.ai/kchau-university-of-calgary-in-alberta/PPO-Pendulum-v1</a>"
      ],
      "text/plain": [
       "<IPython.core.display.HTML object>"
      ]
     },
     "metadata": {},
     "output_type": "display_data"
    },
    {
     "data": {
      "text/html": [
       " View run at <a href='https://wandb.ai/kchau-university-of-calgary-in-alberta/PPO-Pendulum-v1/runs/qemur86e' target=\"_blank\">https://wandb.ai/kchau-university-of-calgary-in-alberta/PPO-Pendulum-v1/runs/qemur86e</a>"
      ],
      "text/plain": [
       "<IPython.core.display.HTML object>"
      ]
     },
     "metadata": {},
     "output_type": "display_data"
    }
   ],
   "source": [
    "batch_size = 64\n",
    "num_steps = 2048  # steps per rollout\n",
    "num_epochs = 5    # epochs per iteration\n",
    "gae_lambda = 0.97      # GAE(lambda): 0 is same as TD-error, 1 is same as Monte Carlo return\n",
    "value_weight = 0.5     # weight of value loss (vs policy loss)\n",
    "entropy_bonus = 0.01 * 1.0  # entropy regularization coefficient in loss, may need to manually adjust with reward scale\n",
    "clip_eps = 0.2         # policy ratio clipping radius\n",
    "gamma = 0.99\n",
    "policy_lr = 3e-4\n",
    "value_lr = 1e-3\n",
    "backbone_lr = 1e-3  # lr for the shared backbone, OpenAI's Spinning Up implicity uses same lr as critic\n",
    "\n",
    "eval_freq = 3\n",
    "\n",
    "try: env.reset(), env.close()\n",
    "except: pass\n",
    "env = make_env()\n",
    "state_dim = env.observation_space.shape[0]\n",
    "action_dim = env.action_space.shape[0]\n",
    "max_action = env.action_space.high\n",
    "\n",
    "network = ActorCritic(state_dim, action_dim, max_action)\n",
    "\n",
    "# if compiling\n",
    "# import cl_fix\n",
    "# network = torch.compile(network)\n",
    "\n",
    "shared_backbone_params = list(network.fc1.parameters()) + list(network.fc2.parameters()) + list(network.g1.parameters()) + list(network.g2.parameters())\n",
    "policy_head_params = list(network.mean_head.parameters()) + list(network.log_std_head.parameters())\n",
    "value_head_params = list(network.value_head.parameters())\n",
    "\n",
    "optimizer = torch.optim.Adam([  # single optimizer, avoids ambiguity in lr of backbone that is present in Spinning Up\n",
    "    {'params': policy_head_params, 'lr': policy_lr},\n",
    "    {'params': value_head_params, 'lr': value_lr},\n",
    "    {'params': shared_backbone_params, 'lr': backbone_lr},\n",
    "])\n",
    "\n",
    "wandb.finish()\n",
    "wandb.init(\n",
    "    project='PPO-' + env_name,\n",
    "    name='harder0',\n",
    "    # mode='disabled',\n",
    "    config={\n",
    "        'batch_size': batch_size,\n",
    "        'num_steps': num_steps,\n",
    "        'num_epochs': num_epochs,\n",
    "        'gae_lambda': gae_lambda,\n",
    "        'value_weight': value_weight,\n",
    "        'entropy_bonus': entropy_bonus,\n",
    "        'clip_eps': clip_eps,\n",
    "        'gamma': gamma,\n",
    "        'policy_lr': policy_lr,\n",
    "        'value_lr': value_lr,\n",
    "        'backbone_lr': backbone_lr,\n",
    "        'env_name': env_name,\n",
    "    }\n",
    ")\n",
    "\n",
    "history = {'step_count': 0}"
   ]
  },
  {
   "cell_type": "code",
   "execution_count": 10,
   "id": "b99f1dbc-6cc3-4287-ba4e-6c38b1dd5951",
   "metadata": {},
   "outputs": [],
   "source": [
    "def train(env, num_updates, history):\n",
    "    t_start = time.time()\n",
    "    for update in range(1, num_updates+1):\n",
    "        t0 = time.time()\n",
    "        states, actions, rewards, terminateds, log_probs, values = collect_rollout(env, network, num_steps) \n",
    "        advantages = gae(rewards, terminateds, values, gamma, gae_lambda)\n",
    "        advantages = (advantages - advantages.mean()) / (advantages.std() + 1e-7)\n",
    "        returns = values[:-1] + advantages  # discounted rewards-to-go\n",
    "        actual_steps = len(states)  # actual steps taken \n",
    "        for _ in range(num_epochs):\n",
    "            indices = torch.randperm(actual_steps)\n",
    "            for begin in range(0, actual_steps, batch_size):\n",
    "                end = begin + batch_size\n",
    "                batch_indices = indices[begin:end]\n",
    "                \n",
    "                states_b = states[batch_indices]\n",
    "                actions_b = actions[batch_indices]\n",
    "                returns_b = returns[batch_indices]\n",
    "                advantages_b = advantages[batch_indices]\n",
    "                old_log_probs = log_probs[batch_indices]\n",
    "                \n",
    "                values_b, means, log_stds = network(states_b)\n",
    "                stds = log_stds.exp()\n",
    "                dist = Normal(means, stds)\n",
    "                entropy = dist.entropy().mean()\n",
    "                cur_log_probs = dist.log_prob(actions_b).sum(1, keepdim=True)\n",
    "            \n",
    "                # policy loss\n",
    "                assert cur_log_probs.shape == old_log_probs.shape\n",
    "                ratio = torch.exp(cur_log_probs - old_log_probs)  # same as cur_probs/old_probs, just with logs\n",
    "                fst_surrogate = ratio * advantages_b\n",
    "                snd_surrogate = torch.clip(ratio, 1 - clip_eps, 1 + clip_eps) * advantages_b\n",
    "                policy_loss = -torch.min(fst_surrogate, snd_surrogate).mean() - entropy_bonus * entropy\n",
    "                \n",
    "                # value loss\n",
    "                value_loss = F.huber_loss(values_b, returns_b, reduction='mean') * value_weight\n",
    "\n",
    "                cum_loss = policy_loss + value_loss\n",
    "                optimizer.zero_grad()\n",
    "                cum_loss.backward()\n",
    "                optimizer.step()\n",
    "        history['step_count'] += actual_steps\n",
    "        \n",
    "        update_time = time.time() - t0\n",
    "        wall_time = time.time() - t_start\n",
    "\n",
    "        t0 = time.time()\n",
    "        with torch.no_grad():\n",
    "            # recompute\n",
    "            values_full, means_full, log_stds_full = network(states)\n",
    "            stds_full = log_stds_full.exp()\n",
    "            dist_full = Normal(means_full, stds_full)\n",
    "            cur_log_probs_full = dist_full.log_prob(actions).sum(1, keepdim=True)\n",
    "            approx_kl = (log_probs - cur_log_probs_full)\n",
    "            entropy_full = dist_full.entropy()\n",
    "            exp_var = explained_variance(returns, values[:-1])\n",
    "            ratio_full = torch.exp(cur_log_probs_full - log_probs)\n",
    "        stats_time = time.time() - t0\n",
    "            \n",
    "        log = {\n",
    "            'update': update,\n",
    "            'step_count': history['step_count'],\n",
    "            'wall_time': wall_time,\n",
    "            'update_time': update_time,\n",
    "            'stats_time': stats_time,\n",
    "            'advantage': advantages.mean().item(),\n",
    "            'entropy': entropy_full.mean().item(),\n",
    "            'explained_variance': exp_var,\n",
    "            'approx_kl': approx_kl.mean().item(),\n",
    "            'std': stds_full.mean().item(),\n",
    "            'mean': means_full.mean().item(),\n",
    "            'policy_loss': policy_loss.item(),\n",
    "            'value_loss': value_loss.item(),\n",
    "            'raw_ratio': ratio_full.mean().item(),\n",
    "        }\n",
    "\n",
    "        if update % eval_freq == 0 or update == num_updates:\n",
    "            t0 = time.time()\n",
    "            eval_rewards_d = evaluate(network, stochastic=False)\n",
    "            eval_rewards_s = evaluate(network, stochastic=True)\n",
    "            eval_time = time.time() - t0\n",
    "            log.update({\n",
    "                'eval_time': eval_time,\n",
    "                'eval_rewards (deterministic)': eval_rewards_d,\n",
    "                'eval_rewards (stochastic)': eval_rewards_s,\n",
    "            })\n",
    "\n",
    "            clear_output(wait=True)\n",
    "            print(f'wall time {wall_time:.2f} s')\n",
    "            print(f'update {update}')\n",
    "            print(f'step {history[\"step_count\"]}')\n",
    "            print(f'eval rewards (deterministic) {eval_rewards_d:.5f}')\n",
    "\n",
    "        try: wandb.log(log)\n",
    "        except: print(f'[warning] wandb log failed')"
   ]
  },
  {
   "cell_type": "code",
   "execution_count": 11,
   "id": "c2c50ca1-130f-490e-a010-4310d8219d18",
   "metadata": {},
   "outputs": [
    {
     "data": {
      "text/plain": [
       "(tensor([-0.0751], grad_fn=<CompiledFunctionBackward>),\n",
       " tensor([-0.0085], grad_fn=<CompiledFunctionBackward>),\n",
       " tensor([0.0068], grad_fn=<CompiledFunctionBackward>))"
      ]
     },
     "execution_count": 11,
     "metadata": {},
     "output_type": "execute_result"
    }
   ],
   "source": [
    "state, _ = env.reset()\n",
    "s = torch.as_tensor(state)\n",
    "action, _, _ = network.sample(s)\n",
    "network(s)"
   ]
  },
  {
   "cell_type": "code",
   "execution_count": 12,
   "id": "efc3b900-ac98-4fae-9ee6-a55153156d76",
   "metadata": {},
   "outputs": [
    {
     "name": "stdout",
     "output_type": "stream",
     "text": [
      "wall time 1147.11 s\n",
      "update 250\n",
      "step 750500\n",
      "eval rewards (deterministic) -329.87491\n",
      "done.\n",
      "*actual* time taken: 1148.37 s\n"
     ]
    }
   ],
   "source": [
    "t0 = time.time()\n",
    "try:\n",
    "    # torch.autograd.set_detect_anomaly(False)\n",
    "    train(env, 250, history)\n",
    "except KeyboardInterrupt:\n",
    "    print('keyboard interrupt. stopping...')\n",
    "finally:\n",
    "    print(f'done.\\n*actual* time taken: {time.time() - t0:.2f} s')"
   ]
  },
  {
   "cell_type": "code",
   "execution_count": 14,
   "id": "8028e771-3cc2-42f5-905e-0d3cbbe1e172",
   "metadata": {},
   "outputs": [
    {
     "data": {
      "image/png": "[encoded data removed]",
      "text/plain": [
       "<Figure size 640x480 with 1 Axes>"
      ]
     },
     "metadata": {},
     "output_type": "display_data"
    },
    {
     "data": {
      "text/plain": [
       "np.float64(-61.109652695003724)"
      ]
     },
     "execution_count": 14,
     "metadata": {},
     "output_type": "execute_result"
    }
   ],
   "source": [
    "evaluate(network, stochastic=False, render_mode='human', graph=True)"
   ]
  },
  {
   "cell_type": "code",
   "execution_count": 15,
   "id": "09785024-8345-4fcc-8ce7-d202518e70ba",
   "metadata": {},
   "outputs": [
    {
     "name": "stdout",
     "output_type": "stream",
     "text": [
      "[]\n",
      "[]\n"
     ]
    }
   ],
   "source": [
    "print(list(network.g1.parameters()))  # for prelu\n",
    "print(list(network.g2.parameters()))"
   ]
  },
  {
   "cell_type": "code",
   "execution_count": 17,
   "id": "98b86091-a12a-4d75-8d9f-8cbeedba1c0d",
   "metadata": {},
   "outputs": [
    {
     "ename": "ValueError",
     "evalue": "Number of columns must be a positive integer, not 0",
     "output_type": "error",
     "traceback": [
      "\u001b[1;31m---------------------------------------------------------------------------\u001b[0m",
      "\u001b[1;31mValueError\u001b[0m                                Traceback (most recent call last)",
      "Cell \u001b[1;32mIn[17], line 32\u001b[0m\n\u001b[0;32m     30\u001b[0m state, _ \u001b[38;5;241m=\u001b[39m env\u001b[38;5;241m.\u001b[39mreset()\n\u001b[0;32m     31\u001b[0m state \u001b[38;5;241m=\u001b[39m torch\u001b[38;5;241m.\u001b[39mas_tensor(state)\n\u001b[1;32m---> 32\u001b[0m \u001b[43mplot_activations\u001b[49m\u001b[43m(\u001b[49m\u001b[43mnetwork\u001b[49m\u001b[43m,\u001b[49m\u001b[43m \u001b[49m\u001b[43mtorch\u001b[49m\u001b[38;5;241;43m.\u001b[39;49m\u001b[43mas_tensor\u001b[49m\u001b[43m(\u001b[49m\u001b[43mstate\u001b[49m\u001b[43m)\u001b[49m\u001b[43m)\u001b[49m\n",
      "Cell \u001b[1;32mIn[17], line 14\u001b[0m, in \u001b[0;36mplot_activations\u001b[1;34m(model, x, print_)\u001b[0m\n\u001b[0;32m     12\u001b[0m     hook\u001b[38;5;241m.\u001b[39mremove()\n\u001b[0;32m     13\u001b[0m num_plots \u001b[38;5;241m=\u001b[39m \u001b[38;5;28mlen\u001b[39m(activations)\n\u001b[1;32m---> 14\u001b[0m fig, axes \u001b[38;5;241m=\u001b[39m \u001b[43mplt\u001b[49m\u001b[38;5;241;43m.\u001b[39;49m\u001b[43msubplots\u001b[49m\u001b[43m(\u001b[49m\u001b[38;5;241;43m1\u001b[39;49m\u001b[43m,\u001b[49m\u001b[43m \u001b[49m\u001b[43mnum_plots\u001b[49m\u001b[43m,\u001b[49m\u001b[43m \u001b[49m\u001b[43mfigsize\u001b[49m\u001b[38;5;241;43m=\u001b[39;49m\u001b[43m(\u001b[49m\u001b[38;5;241;43m4\u001b[39;49m\u001b[43m \u001b[49m\u001b[38;5;241;43m*\u001b[39;49m\u001b[43m \u001b[49m\u001b[43mnum_plots\u001b[49m\u001b[43m,\u001b[49m\u001b[43m \u001b[49m\u001b[38;5;241;43m4\u001b[39;49m\u001b[43m)\u001b[49m\u001b[43m)\u001b[49m\n\u001b[0;32m     15\u001b[0m \u001b[38;5;28;01mif\u001b[39;00m num_plots \u001b[38;5;241m==\u001b[39m \u001b[38;5;241m1\u001b[39m:\n\u001b[0;32m     16\u001b[0m     axes \u001b[38;5;241m=\u001b[39m [axes]\n",
      "File \u001b[1;32m~\\anaconda3\\envs\\kaggle310\\lib\\site-packages\\matplotlib\\pyplot.py:1776\u001b[0m, in \u001b[0;36msubplots\u001b[1;34m(nrows, ncols, sharex, sharey, squeeze, width_ratios, height_ratios, subplot_kw, gridspec_kw, **fig_kw)\u001b[0m\n\u001b[0;32m   1631\u001b[0m \u001b[38;5;250m\u001b[39m\u001b[38;5;124;03m\"\"\"\u001b[39;00m\n\u001b[0;32m   1632\u001b[0m \u001b[38;5;124;03mCreate a figure and a set of subplots.\u001b[39;00m\n\u001b[0;32m   1633\u001b[0m \n\u001b[1;32m   (...)\u001b[0m\n\u001b[0;32m   1773\u001b[0m \n\u001b[0;32m   1774\u001b[0m \u001b[38;5;124;03m\"\"\"\u001b[39;00m\n\u001b[0;32m   1775\u001b[0m fig \u001b[38;5;241m=\u001b[39m figure(\u001b[38;5;241m*\u001b[39m\u001b[38;5;241m*\u001b[39mfig_kw)\n\u001b[1;32m-> 1776\u001b[0m axs \u001b[38;5;241m=\u001b[39m \u001b[43mfig\u001b[49m\u001b[38;5;241;43m.\u001b[39;49m\u001b[43msubplots\u001b[49m\u001b[43m(\u001b[49m\u001b[43mnrows\u001b[49m\u001b[38;5;241;43m=\u001b[39;49m\u001b[43mnrows\u001b[49m\u001b[43m,\u001b[49m\u001b[43m \u001b[49m\u001b[43mncols\u001b[49m\u001b[38;5;241;43m=\u001b[39;49m\u001b[43mncols\u001b[49m\u001b[43m,\u001b[49m\u001b[43m \u001b[49m\u001b[43msharex\u001b[49m\u001b[38;5;241;43m=\u001b[39;49m\u001b[43msharex\u001b[49m\u001b[43m,\u001b[49m\u001b[43m \u001b[49m\u001b[43msharey\u001b[49m\u001b[38;5;241;43m=\u001b[39;49m\u001b[43msharey\u001b[49m\u001b[43m,\u001b[49m\n\u001b[0;32m   1777\u001b[0m \u001b[43m                   \u001b[49m\u001b[43msqueeze\u001b[49m\u001b[38;5;241;43m=\u001b[39;49m\u001b[43msqueeze\u001b[49m\u001b[43m,\u001b[49m\u001b[43m \u001b[49m\u001b[43msubplot_kw\u001b[49m\u001b[38;5;241;43m=\u001b[39;49m\u001b[43msubplot_kw\u001b[49m\u001b[43m,\u001b[49m\n\u001b[0;32m   1778\u001b[0m \u001b[43m                   \u001b[49m\u001b[43mgridspec_kw\u001b[49m\u001b[38;5;241;43m=\u001b[39;49m\u001b[43mgridspec_kw\u001b[49m\u001b[43m,\u001b[49m\u001b[43m \u001b[49m\u001b[43mheight_ratios\u001b[49m\u001b[38;5;241;43m=\u001b[39;49m\u001b[43mheight_ratios\u001b[49m\u001b[43m,\u001b[49m\n\u001b[0;32m   1779\u001b[0m \u001b[43m                   \u001b[49m\u001b[43mwidth_ratios\u001b[49m\u001b[38;5;241;43m=\u001b[39;49m\u001b[43mwidth_ratios\u001b[49m\u001b[43m)\u001b[49m\n\u001b[0;32m   1780\u001b[0m \u001b[38;5;28;01mreturn\u001b[39;00m fig, axs\n",
      "File \u001b[1;32m~\\anaconda3\\envs\\kaggle310\\lib\\site-packages\\matplotlib\\figure.py:918\u001b[0m, in \u001b[0;36mFigureBase.subplots\u001b[1;34m(self, nrows, ncols, sharex, sharey, squeeze, width_ratios, height_ratios, subplot_kw, gridspec_kw)\u001b[0m\n\u001b[0;32m    914\u001b[0m         \u001b[38;5;28;01mraise\u001b[39;00m \u001b[38;5;167;01mValueError\u001b[39;00m(\u001b[38;5;124m\"\u001b[39m\u001b[38;5;124m'\u001b[39m\u001b[38;5;124mwidth_ratios\u001b[39m\u001b[38;5;124m'\u001b[39m\u001b[38;5;124m must not be defined both as \u001b[39m\u001b[38;5;124m\"\u001b[39m\n\u001b[0;32m    915\u001b[0m                          \u001b[38;5;124m\"\u001b[39m\u001b[38;5;124mparameter and as key in \u001b[39m\u001b[38;5;124m'\u001b[39m\u001b[38;5;124mgridspec_kw\u001b[39m\u001b[38;5;124m'\u001b[39m\u001b[38;5;124m\"\u001b[39m)\n\u001b[0;32m    916\u001b[0m     gridspec_kw[\u001b[38;5;124m'\u001b[39m\u001b[38;5;124mwidth_ratios\u001b[39m\u001b[38;5;124m'\u001b[39m] \u001b[38;5;241m=\u001b[39m width_ratios\n\u001b[1;32m--> 918\u001b[0m gs \u001b[38;5;241m=\u001b[39m \u001b[38;5;28mself\u001b[39m\u001b[38;5;241m.\u001b[39madd_gridspec(nrows, ncols, figure\u001b[38;5;241m=\u001b[39m\u001b[38;5;28mself\u001b[39m, \u001b[38;5;241m*\u001b[39m\u001b[38;5;241m*\u001b[39mgridspec_kw)\n\u001b[0;32m    919\u001b[0m axs \u001b[38;5;241m=\u001b[39m gs\u001b[38;5;241m.\u001b[39msubplots(sharex\u001b[38;5;241m=\u001b[39msharex, sharey\u001b[38;5;241m=\u001b[39msharey, squeeze\u001b[38;5;241m=\u001b[39msqueeze,\n\u001b[0;32m    920\u001b[0m                   subplot_kw\u001b[38;5;241m=\u001b[39msubplot_kw)\n\u001b[0;32m    921\u001b[0m \u001b[38;5;28;01mreturn\u001b[39;00m axs\n",
      "File \u001b[1;32m~\\anaconda3\\envs\\kaggle310\\lib\\site-packages\\matplotlib\\figure.py:1600\u001b[0m, in \u001b[0;36mFigureBase.add_gridspec\u001b[1;34m(self, nrows, ncols, **kwargs)\u001b[0m\n\u001b[0;32m   1557\u001b[0m \u001b[38;5;250m\u001b[39m\u001b[38;5;124;03m\"\"\"\u001b[39;00m\n\u001b[0;32m   1558\u001b[0m \u001b[38;5;124;03mLow-level API for creating a `.GridSpec` that has this figure as a parent.\u001b[39;00m\n\u001b[0;32m   1559\u001b[0m \n\u001b[1;32m   (...)\u001b[0m\n\u001b[0;32m   1596\u001b[0m \n\u001b[0;32m   1597\u001b[0m \u001b[38;5;124;03m\"\"\"\u001b[39;00m\n\u001b[0;32m   1599\u001b[0m _ \u001b[38;5;241m=\u001b[39m kwargs\u001b[38;5;241m.\u001b[39mpop(\u001b[38;5;124m'\u001b[39m\u001b[38;5;124mfigure\u001b[39m\u001b[38;5;124m'\u001b[39m, \u001b[38;5;28;01mNone\u001b[39;00m)  \u001b[38;5;66;03m# pop in case user has added this...\u001b[39;00m\n\u001b[1;32m-> 1600\u001b[0m gs \u001b[38;5;241m=\u001b[39m GridSpec(nrows\u001b[38;5;241m=\u001b[39mnrows, ncols\u001b[38;5;241m=\u001b[39mncols, figure\u001b[38;5;241m=\u001b[39m\u001b[38;5;28mself\u001b[39m, \u001b[38;5;241m*\u001b[39m\u001b[38;5;241m*\u001b[39mkwargs)\n\u001b[0;32m   1601\u001b[0m \u001b[38;5;28;01mreturn\u001b[39;00m gs\n",
      "File \u001b[1;32m~\\anaconda3\\envs\\kaggle310\\lib\\site-packages\\matplotlib\\gridspec.py:363\u001b[0m, in \u001b[0;36mGridSpec.__init__\u001b[1;34m(self, nrows, ncols, figure, left, bottom, right, top, wspace, hspace, width_ratios, height_ratios)\u001b[0m\n\u001b[0;32m    360\u001b[0m \u001b[38;5;28mself\u001b[39m\u001b[38;5;241m.\u001b[39mhspace \u001b[38;5;241m=\u001b[39m hspace\n\u001b[0;32m    361\u001b[0m \u001b[38;5;28mself\u001b[39m\u001b[38;5;241m.\u001b[39mfigure \u001b[38;5;241m=\u001b[39m figure\n\u001b[1;32m--> 363\u001b[0m \u001b[38;5;28;43msuper\u001b[39;49m\u001b[43m(\u001b[49m\u001b[43m)\u001b[49m\u001b[38;5;241;43m.\u001b[39;49m\u001b[38;5;21;43m__init__\u001b[39;49m\u001b[43m(\u001b[49m\u001b[43mnrows\u001b[49m\u001b[43m,\u001b[49m\u001b[43m \u001b[49m\u001b[43mncols\u001b[49m\u001b[43m,\u001b[49m\n\u001b[0;32m    364\u001b[0m \u001b[43m                 \u001b[49m\u001b[43mwidth_ratios\u001b[49m\u001b[38;5;241;43m=\u001b[39;49m\u001b[43mwidth_ratios\u001b[49m\u001b[43m,\u001b[49m\n\u001b[0;32m    365\u001b[0m \u001b[43m                 \u001b[49m\u001b[43mheight_ratios\u001b[49m\u001b[38;5;241;43m=\u001b[39;49m\u001b[43mheight_ratios\u001b[49m\u001b[43m)\u001b[49m\n",
      "File \u001b[1;32m~\\anaconda3\\envs\\kaggle310\\lib\\site-packages\\matplotlib\\gridspec.py:51\u001b[0m, in \u001b[0;36mGridSpecBase.__init__\u001b[1;34m(self, nrows, ncols, height_ratios, width_ratios)\u001b[0m\n\u001b[0;32m     48\u001b[0m     \u001b[38;5;28;01mraise\u001b[39;00m \u001b[38;5;167;01mValueError\u001b[39;00m(\n\u001b[0;32m     49\u001b[0m         \u001b[38;5;124mf\u001b[39m\u001b[38;5;124m\"\u001b[39m\u001b[38;5;124mNumber of rows must be a positive integer, not \u001b[39m\u001b[38;5;132;01m{\u001b[39;00mnrows\u001b[38;5;132;01m!r}\u001b[39;00m\u001b[38;5;124m\"\u001b[39m)\n\u001b[0;32m     50\u001b[0m \u001b[38;5;28;01mif\u001b[39;00m \u001b[38;5;129;01mnot\u001b[39;00m \u001b[38;5;28misinstance\u001b[39m(ncols, Integral) \u001b[38;5;129;01mor\u001b[39;00m ncols \u001b[38;5;241m<\u001b[39m\u001b[38;5;241m=\u001b[39m \u001b[38;5;241m0\u001b[39m:\n\u001b[1;32m---> 51\u001b[0m     \u001b[38;5;28;01mraise\u001b[39;00m \u001b[38;5;167;01mValueError\u001b[39;00m(\n\u001b[0;32m     52\u001b[0m         \u001b[38;5;124mf\u001b[39m\u001b[38;5;124m\"\u001b[39m\u001b[38;5;124mNumber of columns must be a positive integer, not \u001b[39m\u001b[38;5;132;01m{\u001b[39;00mncols\u001b[38;5;132;01m!r}\u001b[39;00m\u001b[38;5;124m\"\u001b[39m)\n\u001b[0;32m     53\u001b[0m \u001b[38;5;28mself\u001b[39m\u001b[38;5;241m.\u001b[39m_nrows, \u001b[38;5;28mself\u001b[39m\u001b[38;5;241m.\u001b[39m_ncols \u001b[38;5;241m=\u001b[39m nrows, ncols\n\u001b[0;32m     54\u001b[0m \u001b[38;5;28mself\u001b[39m\u001b[38;5;241m.\u001b[39mset_height_ratios(height_ratios)\n",
      "\u001b[1;31mValueError\u001b[0m: Number of columns must be a positive integer, not 0"
     ]
    },
    {
     "data": {
      "text/plain": [
       "<Figure size 0x400 with 0 Axes>"
      ]
     },
     "metadata": {},
     "output_type": "display_data"
    }
   ],
   "source": [
    "def plot_activations(model, x, print_=True):\n",
    "    activations = {}\n",
    "    def hook_fn(module, inp, out, name):\n",
    "        activations[name] = out.detach().cpu().numpy()\n",
    "    hooks = []\n",
    "    for name, layer in model.named_children():\n",
    "        if isinstance(layer, torch.nn.Linear):  # capture only linear layers\n",
    "            hooks.append(layer.register_forward_hook(lambda m, inp, out, n=name: hook_fn(m, inp, out, n)))\n",
    "    with torch.no_grad():\n",
    "        model(x)\n",
    "    for hook in hooks:\n",
    "        hook.remove()\n",
    "    num_plots = len(activations)\n",
    "    fig, axes = plt.subplots(1, num_plots, figsize=(4 * num_plots, 4))\n",
    "    if num_plots == 1:\n",
    "        axes = [axes]\n",
    "    sout = ''\n",
    "    for ax, (name, act) in zip(axes, activations.items()):\n",
    "        sout += name + ' ' + str(act) + '\\n'\n",
    "        if act.ndim == 1:\n",
    "            act = act.reshape(1, -1)\n",
    "        ax.imshow(act.T, aspect='auto', cmap='viridis')\n",
    "        ax.set_title(name)\n",
    "        ax.set_xlabel('Batch Index')\n",
    "        ax.set_ylabel('Neuron Index')\n",
    "    plt.tight_layout()\n",
    "    plt.show()\n",
    "    if print_: print(sout)\n",
    "\n",
    "state, _ = env.reset()\n",
    "state = torch.as_tensor(state)\n",
    "plot_activations(network, torch.as_tensor(state))  # doesnt work directly with compile"
   ]
  },
  {
   "cell_type": "code",
   "execution_count": 23,
   "id": "dc34bd4e-022c-45ff-94ad-f4dbd8c18697",
   "metadata": {},
   "outputs": [
    {
     "name": "stdout",
     "output_type": "stream",
     "text": [
      "saved.\n"
     ]
    }
   ],
   "source": [
    "import os\n",
    "os.makedirs('./saved', exist_ok=True)\n",
    "torch.save(network.state_dict(), f'./saved/{env_name}-actor-critic.pth')\n",
    "print('saved.')"
   ]
  }
 ],
 "metadata": {
  "kernelspec": {
   "display_name": "kaggleenv310",
   "language": "python",
   "name": "kaggle310"
  },
  "language_info": {
   "codemirror_mode": {
    "name": "ipython",
    "version": 3
   },
   "file_extension": ".py",
   "mimetype": "text/x-python",
   "name": "python",
   "nbconvert_exporter": "python",
   "pygments_lexer": "ipython3",
   "version": "3.10.12"
  }
 },
 "nbformat": 4,
 "nbformat_minor": 5
}
