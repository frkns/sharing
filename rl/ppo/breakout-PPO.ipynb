{
 "cells": [
  {
   "cell_type": "code",
   "execution_count": 15,
   "id": "43e70baa-0709-481c-a4af-53e2c31a22a1",
   "metadata": {},
   "outputs": [],
   "source": [
    "import os\n",
    "if 'KAGGLE_KERNEL_RUN_TYPE' in os.environ:  # detect if notebook is running on Kaggle\n",
    "    !pip install gymnasium[atari]==1.1.0"
   ]
  },
  {
   "cell_type": "code",
   "execution_count": 39,
   "id": "d7993116-5dcb-42f7-8fe6-970989dc7771",
   "metadata": {},
   "outputs": [],
   "source": [
    "from gymnasium.wrappers import Autoreset, TimeAwareObservation, FrameStackObservation, AtariPreprocessing, ClipReward\n",
    "from collections import defaultdict, deque\n",
    "from IPython.display import clear_output\n",
    "import matplotlib.pyplot as plt\n",
    "import gymnasium as gym\n",
    "import numpy as np\n",
    "import random\n",
    "import ale_py\n",
    "import wandb\n",
    "import time\n",
    "import torch\n",
    "import torch.nn as nn\n",
    "import torch.optim as optim\n",
    "import torch.nn.functional as F\n",
    "from torch.distributions import Categorical"
   ]
  },
  {
   "cell_type": "code",
   "execution_count": 40,
   "id": "c9ab5096-bac4-4cb4-b5ba-4d6802e66ed1",
   "metadata": {},
   "outputs": [],
   "source": [
    "# globals\n",
    "device = 'cuda' if torch.cuda.is_available() else 'cpu'\n",
    "env_name = 'BreakoutNoFrameskip-v4'"
   ]
  },
  {
   "cell_type": "code",
   "execution_count": 41,
   "id": "025715db-68f9-4266-8ba8-a03c67b7069d",
   "metadata": {},
   "outputs": [],
   "source": [
    "def make_env(render_mode=None):\n",
    "    env = gym.make(env_name, render_mode=render_mode, max_episode_steps=10_000)\n",
    "    # env = TimeAwareObservation(env)\n",
    "    env = Autoreset(env)  # TimeAwareObservation before Autoreset or else timestep tracking will be erroneous!!\n",
    "    env = AtariPreprocessing(env)\n",
    "    env = FrameStackObservation(env, 4)\n",
    "    env = ClipReward(env, -1, 1)\n",
    "    return env"
   ]
  },
  {
   "cell_type": "code",
   "execution_count": 42,
   "id": "170e4f10-e7b2-49e9-a398-c0d5891d4511",
   "metadata": {},
   "outputs": [],
   "source": [
    "class ActorCritic(nn.Module):\n",
    "    def __init__(self):\n",
    "        super().__init__()\n",
    "        self.backbone = nn.Sequential(\n",
    "        #   nn.Conv2d(in_channels, out_channels, kernel_size, stride=1, ...)\n",
    "            nn.Conv2d(4, 32, 8, 4),      # (m, 4, 84, 84) -> (m, 32, 20, 20)\n",
    "            nn.SiLU(),\n",
    "            nn.Conv2d(32, 64, 4, 2),     # (m, 32, 20, 20) -> (m, 64, 9, 9)\n",
    "            nn.SiLU(),\n",
    "            nn.Conv2d(64, 64, 3, 1),     # (m, 64, 9, 9) -> (m, 64, 7, 7)\n",
    "            nn.SiLU(),\n",
    "            nn.Flatten(),                # (m, 64, 7, 7) -> (m, 3136)\n",
    "            nn.Linear(3136, 512),        # (m, 3136) -> (m, 512)\n",
    "            nn.SiLU()\n",
    "        )        \n",
    "        self.policy_head = nn.Linear(512, 4)  # -> output (m, 4)\n",
    "        self.value_head = nn.Linear(512, 1)   # -> output (m, 1)\n",
    "\n",
    "    @staticmethod\n",
    "    @torch.no_grad()\n",
    "    def preprocess(x):\n",
    "        if len(x.size()) == 3:\n",
    "            x = x.unsqueeze(0)  # add the batch dim\n",
    "        x = x / 255.0  # should we scale to [0, 1]\n",
    "        return x\n",
    "\n",
    "    def value_only(self, x):\n",
    "        x = self.preprocess(x)\n",
    "        x = self.backbone(x)\n",
    "        value = self.value_head(x)\n",
    "        return value\n",
    "        \n",
    "    def forward(self, x):\n",
    "        x = self.preprocess(x)\n",
    "        x = self.backbone(x)\n",
    "        logits = self.policy_head(x)\n",
    "        value = self.value_head(x)\n",
    "        \n",
    "        return logits, value\n",
    "\n",
    "    def sample(self, state, stochastic=True):\n",
    "        logits, value = self.forward(state)\n",
    "        dist = Categorical(logits=logits)\n",
    "        if stochastic:\n",
    "            action = dist.sample()\n",
    "        else:\n",
    "            action = torch.argmax(logits, dim=-1)\n",
    "        log_prob = dist.log_prob(action)\n",
    "        \n",
    "        return action, log_prob, value\n",
    "        "
   ]
  },
  {
   "cell_type": "code",
   "execution_count": 43,
   "id": "2d15ed1a-f99a-48f4-8c3f-f15c85fe55d1",
   "metadata": {},
   "outputs": [
    {
     "name": "stdout",
     "output_type": "stream",
     "text": [
      "iter 490 (np.float64(0.0), False, False)\n",
      "iter 491 (np.float64(0.0), False, False)\n",
      "iter 492 (np.float64(0.0), False, False)\n",
      "iter 493 (np.float64(0.0), False, False)\n",
      "iter 494 (np.float64(0.0), False, False)\n",
      "iter 495 (np.float64(0.0), False, False)\n",
      "iter 496 (np.float64(0.0), False, False)\n",
      "iter 497 (np.float64(0.0), False, False)\n",
      "iter 498 (np.float64(0.0), False, False)\n",
      "iter 499 (np.float64(0.0), False, False)\n"
     ]
    }
   ],
   "source": [
    "def scope():  # check env is set up correctly\n",
    "    e = make_env()\n",
    "    e.reset()\n",
    "    for i in range(500):\n",
    "        if i % 10 == 0:\n",
    "            clear_output(wait=True)\n",
    "        s, r, term, trunc, _ = e.step(e.action_space.sample())\n",
    "        print('iter', i, (r,term,trunc))\n",
    "        if term or trunc:\n",
    "            sout = ''\n",
    "            if term: sout += 'terminated'\n",
    "            if trunc: sout += 'truncated'  # truncates at max_episode_steps\n",
    "            print(sout)\n",
    "    e.close()\n",
    "scope()"
   ]
  },
  {
   "cell_type": "code",
   "execution_count": 44,
   "id": "828b6db4-d6fd-4864-b5b4-fae00f0acc95",
   "metadata": {},
   "outputs": [],
   "source": [
    "@torch.no_grad()\n",
    "def collect_rollout(env, network: ActorCritic, min_steps):\n",
    "    states, actions, rewards, terminateds, truncateds, log_probs, values = [], [], [], [], [], [], []\n",
    "    state = torch.as_tensor(env.reset()[0], dtype=torch.float).to(device)\n",
    "    step = 0\n",
    "    while True:\n",
    "        step += 1\n",
    "        action, log_prob, value = network.sample(state)\n",
    "        next_state, reward, terminated, truncated, _ = env.step(action)\n",
    "        next_state = torch.as_tensor(next_state, dtype=torch.float).to(device)\n",
    "        states.append(state)\n",
    "        actions.append(action)\n",
    "        rewards.append(reward)\n",
    "        terminateds.append(terminated)\n",
    "        truncateds.append(truncated)\n",
    "        log_probs.append(log_prob)\n",
    "        values.append(value)\n",
    "        state = next_state\n",
    "        if step >= min_steps and (terminated or truncated):\n",
    "            break\n",
    "    values.append(network.value_only(state))  # add the last value, we now have T+1 values in total\n",
    "        \n",
    "    states = torch.stack(states)                                                  # [T, |s|], |s| = dimension of the state vector\n",
    "    actions = torch.stack(actions).reshape(step, -1)                              # [T, |a|], |a| = dimension of the action vector\n",
    "    rewards = torch.as_tensor(rewards, dtype=torch.float).reshape(-1, 1).to(device)          # [T, 1]\n",
    "    terminateds = torch.as_tensor(terminateds, dtype=torch.float).reshape(-1, 1).to(device)  # [T, 1]\n",
    "    truncateds = torch.as_tensor(truncateds, dtype=torch.float).reshape(-1, 1).to(device)    # [T, 1]\n",
    "    log_probs = torch.stack(log_probs).reshape(-1, 1)                             # [T, 1]\n",
    "    values = torch.stack(values)                                                  # [T+1, 1], T = num_steps\n",
    "    values = values.reshape(-1, 1)  # remove extra 1 dims at end\n",
    "    \n",
    "    return states, actions, rewards, terminateds, truncateds, log_probs, values"
   ]
  },
  {
   "cell_type": "code",
   "execution_count": 45,
   "id": "d54aa200-3589-458c-bb59-6113e406ba9a",
   "metadata": {},
   "outputs": [],
   "source": [
    "@torch.no_grad()\n",
    "def evaluate(network: ActorCritic, stochastic=False, render_mode=None, graph=False):\n",
    "    _env = make_env(render_mode)\n",
    "    state = torch.as_tensor(_env.reset()[0], dtype=torch.float).to(device)\n",
    "    sum_rewards = 0\n",
    "    if graph:\n",
    "        values = []\n",
    "        immediate_reward = []\n",
    "        rewards_collected = []\n",
    "        values_plus_rewards = []\n",
    "    step = 0\n",
    "    while True:\n",
    "        step += 1\n",
    "        action, log_prob, value = network.sample(state, stochastic=stochastic)\n",
    "        next_state, reward, terminated, truncated, _ = _env.step(action)\n",
    "        sum_rewards += reward\n",
    "        if graph:\n",
    "            values += [value.item()]\n",
    "            immediate_reward += [reward]\n",
    "            rewards_collected += [sum_rewards]\n",
    "            values_plus_rewards += [value.item() + sum_rewards - reward]\n",
    "            if step % 20 == 0 or terminated or truncated:\n",
    "                plt.plot(values, label='values')\n",
    "                plt.plot(immediate_reward, label='immediate reward')\n",
    "                plt.plot(rewards_collected, label='rewards collected')\n",
    "                plt.plot(values_plus_rewards, label='rewards + values')\n",
    "                plt.legend()\n",
    "                clear_output(wait=True)\n",
    "                plt.show()\n",
    "        state = torch.as_tensor(next_state, dtype=torch.float).to(device)\n",
    "        if terminated or truncated:\n",
    "            break\n",
    "    _env.close()\n",
    "    return sum_rewards"
   ]
  },
  {
   "cell_type": "code",
   "execution_count": 46,
   "id": "6c89b972-5d16-4b40-80a6-b33f37bea6ba",
   "metadata": {},
   "outputs": [],
   "source": [
    "def gae(rewards, terminateds, truncateds, values, gamma, lambda_):\n",
    "    dones = torch.max(terminateds, truncateds)  # also reset gae on truncation\n",
    "    td_errors = rewards + gamma * values[1:] * (1 - dones) - values[:-1]  # TD-errors = TD-targets - V(s)\n",
    "    advantages = torch.zeros_like(td_errors)\n",
    "    advantage = 0\n",
    "    for t in reversed(range(len(td_errors))):\n",
    "        advantage = lambda_ * gamma * advantage * (1 - dones[t]) + td_errors[t]    # gamma is being applied twice to discount far away TD-errors\n",
    "        advantages[t] = advantage                                                  # also note (1 - terminateds[t]) is absolutely critical\n",
    "        \n",
    "    return advantages  # [T, 1], once trained, advantages should be close to 0"
   ]
  },
  {
   "cell_type": "code",
   "execution_count": 47,
   "id": "a5f8a065-cc28-4536-8e7a-04b48e2321e9",
   "metadata": {},
   "outputs": [],
   "source": [
    "def explained_variance(returns, values):  # measure of critic's accuracy: 0 = random guessing, 1 = perfect\n",
    "    var_returns = torch.var(returns)\n",
    "    var_residuals = torch.var(returns - values)\n",
    "    if var_returns == 0: return 0.0 if var_residuals == 0 else -float('inf')\n",
    "    return (1 - var_residuals / var_returns).item()"
   ]
  },
  {
   "cell_type": "code",
   "execution_count": 48,
   "id": "f01436fc-7f3f-468a-8c71-f7619df58f9d",
   "metadata": {},
   "outputs": [],
   "source": [
    "batch_size = 512\n",
    "num_steps = 4096  # steps per rollout\n",
    "num_epochs = 10   # epochs per iteration\n",
    "gae_lambda = 0.95      # GAE(lambda): 0 is same as TD-error, 1 is same as Monte Carlo return\n",
    "value_weight = 0.5     # weight of value loss (vs policy loss)\n",
    "entropy_bonus = 0.01 * 1.0  # entropy regularization coefficient in loss, may need to manually adjust with reward scale\n",
    "clip_eps = 0.2         # policy ratio clipping radius\n",
    "clip_eps_value = None   # value clipping radius\n",
    "gamma = 0.99\n",
    "policy_lr = 3e-4\n",
    "value_lr = 1e-3\n",
    "backbone_lr = 3e-4  # lr for the shared backbone, OpenAI's Spinning Up implicity uses same lr as critic\n",
    "max_norm = 0.5\n",
    "\n",
    "checkpoint_freq = 20\n",
    "eval_freq = 2"
   ]
  },
  {
   "cell_type": "code",
   "execution_count": 49,
   "id": "c055d6db-7f80-4943-85a2-f9b2b6a5427e",
   "metadata": {},
   "outputs": [
    {
     "data": {
      "text/html": [],
      "text/plain": [
       "<IPython.core.display.HTML object>"
      ]
     },
     "metadata": {},
     "output_type": "display_data"
    },
    {
     "data": {
      "text/html": [
       " View run <strong style=\"color:#cdcd00\">cpu test run</strong> at: <a href='https://wandb.ai/kchau-university-of-calgary-in-alberta/PPO-BreakoutNoFrameskip-v4%20%28discrete%29/runs/8gxirpa1' target=\"_blank\">https://wandb.ai/kchau-university-of-calgary-in-alberta/PPO-BreakoutNoFrameskip-v4%20%28discrete%29/runs/8gxirpa1</a><br> View project at: <a href='https://wandb.ai/kchau-university-of-calgary-in-alberta/PPO-BreakoutNoFrameskip-v4%20%28discrete%29' target=\"_blank\">https://wandb.ai/kchau-university-of-calgary-in-alberta/PPO-BreakoutNoFrameskip-v4%20%28discrete%29</a><br>Synced 5 W&B file(s), 0 media file(s), 0 artifact file(s) and 0 other file(s)"
      ],
      "text/plain": [
       "<IPython.core.display.HTML object>"
      ]
     },
     "metadata": {},
     "output_type": "display_data"
    },
    {
     "data": {
      "text/html": [
       "Find logs at: <code>.\\wandb\\run-20250321_225552-8gxirpa1\\logs</code>"
      ],
      "text/plain": [
       "<IPython.core.display.HTML object>"
      ]
     },
     "metadata": {},
     "output_type": "display_data"
    },
    {
     "data": {
      "text/html": [
       "Tracking run with wandb version 0.19.8"
      ],
      "text/plain": [
       "<IPython.core.display.HTML object>"
      ]
     },
     "metadata": {},
     "output_type": "display_data"
    },
    {
     "data": {
      "text/html": [
       "Run data is saved locally in <code>C:\\Users\\flame\\wlink\\rl\\ppo\\wandb\\run-20250321_230252-89p7bqck</code>"
      ],
      "text/plain": [
       "<IPython.core.display.HTML object>"
      ]
     },
     "metadata": {},
     "output_type": "display_data"
    },
    {
     "data": {
      "text/html": [
       "Syncing run <strong><a href='https://wandb.ai/kchau-university-of-calgary-in-alberta/PPO-BreakoutNoFrameskip-v4%20%28discrete%29/runs/89p7bqck' target=\"_blank\">cpu test run</a></strong> to <a href='https://wandb.ai/kchau-university-of-calgary-in-alberta/PPO-BreakoutNoFrameskip-v4%20%28discrete%29' target=\"_blank\">Weights & Biases</a> (<a href='https://wandb.me/developer-guide' target=\"_blank\">docs</a>)<br>"
      ],
      "text/plain": [
       "<IPython.core.display.HTML object>"
      ]
     },
     "metadata": {},
     "output_type": "display_data"
    },
    {
     "data": {
      "text/html": [
       " View project at <a href='https://wandb.ai/kchau-university-of-calgary-in-alberta/PPO-BreakoutNoFrameskip-v4%20%28discrete%29' target=\"_blank\">https://wandb.ai/kchau-university-of-calgary-in-alberta/PPO-BreakoutNoFrameskip-v4%20%28discrete%29</a>"
      ],
      "text/plain": [
       "<IPython.core.display.HTML object>"
      ]
     },
     "metadata": {},
     "output_type": "display_data"
    },
    {
     "data": {
      "text/html": [
       " View run at <a href='https://wandb.ai/kchau-university-of-calgary-in-alberta/PPO-BreakoutNoFrameskip-v4%20%28discrete%29/runs/89p7bqck' target=\"_blank\">https://wandb.ai/kchau-university-of-calgary-in-alberta/PPO-BreakoutNoFrameskip-v4%20%28discrete%29/runs/89p7bqck</a>"
      ],
      "text/plain": [
       "<IPython.core.display.HTML object>"
      ]
     },
     "metadata": {},
     "output_type": "display_data"
    }
   ],
   "source": [
    "try: env.reset(), env.close()\n",
    "except: pass\n",
    "env = make_env()\n",
    "state_dim = env.observation_space.shape[0]\n",
    "action_dim = env.action_space.n\n",
    "\n",
    "network = ActorCritic().to(device)\n",
    "\n",
    "# if compiling\n",
    "# import cl_fix\n",
    "# network = torch.compile(network)\n",
    "\n",
    "shared_backbone_params = list(network.backbone.parameters())\n",
    "policy_head_params = list(network.policy_head.parameters())\n",
    "value_head_params = list(network.value_head.parameters())\n",
    "\n",
    "optimizer = torch.optim.Adam([  # single optimizer, avoids ambiguity in lr of backbone that is present in Spinning Up\n",
    "    {'params': policy_head_params, 'lr': policy_lr},\n",
    "    {'params': value_head_params, 'lr': value_lr},\n",
    "    {'params': shared_backbone_params, 'lr': backbone_lr},\n",
    "])\n",
    "\n",
    "wandb.finish()\n",
    "wandb.init(\n",
    "    project='PPO-' + env_name.replace('/', '_') + ' (discrete)',\n",
    "    name='cpu test run',\n",
    "    # mode='disabled',\n",
    "    config={\n",
    "        'batch_size': batch_size,\n",
    "        'num_steps': num_steps,\n",
    "        'num_epochs': num_epochs,\n",
    "        'max_norm': max_norm,\n",
    "        'gae_lambda': gae_lambda,\n",
    "        'value_weight': value_weight,\n",
    "        'entropy_bonus': entropy_bonus,\n",
    "        'clip_eps': clip_eps,\n",
    "        'clip_eps_value': clip_eps_value,\n",
    "        'gamma': gamma,\n",
    "        'policy_lr': policy_lr,\n",
    "        'value_lr': value_lr,\n",
    "        'backbone_lr': backbone_lr,\n",
    "        'env_name': env_name,\n",
    "        'device': device,\n",
    "    }\n",
    ")\n",
    "\n",
    "history = {'step_count': 0}"
   ]
  },
  {
   "cell_type": "code",
   "execution_count": 50,
   "id": "309190d4-b658-43d3-bd8a-6732fb41fbaa",
   "metadata": {},
   "outputs": [],
   "source": [
    "# load\n",
    "checkpoint = ''"
   ]
  },
  {
   "cell_type": "code",
   "execution_count": 51,
   "id": "a159391a-d4cd-4cbe-955d-ff05393c1790",
   "metadata": {},
   "outputs": [],
   "source": [
    "def save(network, history):\n",
    "    os.makedirs('saved', exist_ok=True)\n",
    "    data = {\n",
    "        'network_state_dict': network.state_dict(),\n",
    "        'optimizer_state_dict': optimizer.state_dict(),\n",
    "        'history': history\n",
    "    }\n",
    "    name = './saved/breakout-' + str(history['step_count']) + 's.pth'\n",
    "    torch.save(data, name)\n",
    "    print('saved to ' + name)"
   ]
  },
  {
   "cell_type": "code",
   "execution_count": 52,
   "id": "b99f1dbc-6cc3-4287-ba4e-6c38b1dd5951",
   "metadata": {},
   "outputs": [],
   "source": [
    "def train(env, num_updates, history):\n",
    "    t_start = time.time()\n",
    "    try:\n",
    "        for update in range(1, num_updates+1):\n",
    "            if update % checkpoint_freq == 0:\n",
    "                save(network, history)\n",
    "            \n",
    "            t0 = time.time()\n",
    "            states, actions, rewards, terminateds, truncateds, log_probs, values = collect_rollout(env, network, num_steps) \n",
    "            rollout_time = time.time() - t0\n",
    "            \n",
    "            t0 = time.time()\n",
    "            gae_advantages = gae(rewards, terminateds, truncateds, values, gamma, gae_lambda)\n",
    "            # advantages = (gae_advantages - gae_advantages.mean()) / (gae_advantages.std() + 1e-7)  # careful with standardization\n",
    "            advantages = gae_advantages\n",
    "            returns = values[:-1] + advantages  # discounted rewards-to-go\n",
    "            actual_steps = len(states)  # actual steps taken \n",
    "            \n",
    "            # stats across all minibatches\n",
    "            mb_policy_losses = []\n",
    "            mb_value_losses = []\n",
    "            mb_entropies = []\n",
    "            mb_kls = []\n",
    "            mb_clip_fractions = []\n",
    "            mb_global_l2_norms = []\n",
    "            \n",
    "            for _ in range(num_epochs):\n",
    "                indices = torch.randperm(actual_steps)\n",
    "                for begin in range(0, actual_steps, batch_size):\n",
    "                    end = begin + batch_size\n",
    "                    batch_indices = indices[begin:end]\n",
    "                    \n",
    "                    states_b = states[batch_indices]\n",
    "                    actions_b = actions[batch_indices]\n",
    "                    returns_b = returns[batch_indices]\n",
    "                    advantages_b = advantages[batch_indices]\n",
    "                    old_log_probs = log_probs[batch_indices]\n",
    "                    \n",
    "                    logits, values_b = network(states_b)\n",
    "                    dist = Categorical(logits=logits)\n",
    "                    entropy = dist.entropy().mean()\n",
    "                    cur_log_probs = dist.log_prob(actions_b.squeeze()).reshape(old_log_probs.shape)\n",
    "                \n",
    "                    # policy loss\n",
    "                    ratio = torch.exp(cur_log_probs - old_log_probs)  # same as cur_probs/old_probs, just with logs\n",
    "                    fst_surrogate = ratio * advantages_b\n",
    "                    snd_surrogate = torch.clip(ratio, 1 - clip_eps, 1 + clip_eps) * advantages_b\n",
    "                    policy_loss = -torch.min(fst_surrogate, snd_surrogate).mean() - entropy_bonus * entropy\n",
    "                    \n",
    "                    # value loss\n",
    "                    if clip_eps_value is not None:\n",
    "                        old_values_b = values[batch_indices]\n",
    "                        values_clipped = old_values_b + (values_b - old_values_b).clip(-clip_eps_value, clip_eps_value)\n",
    "                        fst_loss = F.huber_loss(values_clipped, returns_b, reduction='none')\n",
    "                        snd_loss = F.huber_loss(values_b, returns_b, reduction='none')\n",
    "                        value_loss = value_weight * torch.max(fst_loss, snd_loss).mean()  # take the more conservative one\n",
    "                    else:\n",
    "                        value_loss = value_weight * F.huber_loss(values_b, returns_b, reduction='mean')\n",
    "    \n",
    "                    cum_loss = policy_loss + value_loss\n",
    "                    optimizer.zero_grad()\n",
    "                    cum_loss.backward()\n",
    "                    global_l2_norm = nn.utils.clip_grad_norm_(network.parameters(), max_norm)\n",
    "                    optimizer.step()\n",
    "                    \n",
    "                    # Track statistics for this minibatch\n",
    "                    mb_policy_losses.append(policy_loss.item())\n",
    "                    mb_value_losses.append(value_loss.item())\n",
    "                    mb_entropies.append(entropy.item())\n",
    "                    mb_kls.append((old_log_probs - cur_log_probs).mean().item())\n",
    "                    clip_fraction = ((ratio > 1 + clip_eps) | (ratio < 1 - clip_eps)).float().mean().item()\n",
    "                    mb_clip_fractions.append(clip_fraction)\n",
    "                    mb_global_l2_norms.append(global_l2_norm)\n",
    "                    \n",
    "            # average stats across minibatches\n",
    "            avg_policy_loss = sum(mb_policy_losses) / len(mb_policy_losses)\n",
    "            avg_value_loss = sum(mb_value_losses) / len(mb_value_losses)\n",
    "            avg_entropy = sum(mb_entropies) / len(mb_entropies)\n",
    "            avg_kl = sum(mb_kls) / len(mb_kls)\n",
    "            avg_clip_fraction = sum(mb_clip_fractions) / len(mb_clip_fractions)\n",
    "            avg_global_l2_norm = sum(mb_global_l2_norms) / len(mb_global_l2_norms)\n",
    "            \n",
    "            history['step_count'] += actual_steps        \n",
    "            \n",
    "            update_time = time.time() - t0\n",
    "            wall_time = time.time() - t_start\n",
    "    \n",
    "            t0 = time.time()\n",
    "            with torch.no_grad():\n",
    "                exp_var = explained_variance(returns, values[:-1])\n",
    "            stats_time = time.time() - t0\n",
    "                \n",
    "            log = {\n",
    "                'entropy': avg_entropy,\n",
    "                'explained_variance': exp_var,\n",
    "                'loss_policy': avg_policy_loss,  # entropy bonus incl.\n",
    "                'loss_value': avg_value_loss,\n",
    "                'loss_entropy': -entropy_bonus * avg_entropy,\n",
    "                'loss_cum': avg_policy_loss + avg_value_loss,\n",
    "                'approx_kl': avg_kl,  # average across all minibatches\n",
    "                'clip_fraction': avg_clip_fraction,  # (policy ratio)\n",
    "                'global_l2_norm': avg_global_l2_norm,\n",
    "                'advantage': gae_advantages.mean().item(),  # pre standardization\n",
    "                'update': update,\n",
    "                'step_count': history['step_count'],\n",
    "                'approx_fps': actual_steps / (update_time + rollout_time),\n",
    "                'time_wall': wall_time,\n",
    "                'time_update': update_time,\n",
    "                'time_rollout': rollout_time,\n",
    "                'time_stats': stats_time,\n",
    "            }\n",
    "    \n",
    "            if update % eval_freq == 0 or update == num_updates:\n",
    "                t0 = time.time()\n",
    "                eval_rewards_d = evaluate(network, stochastic=False)\n",
    "                eval_rewards_s = evaluate(network, stochastic=True)\n",
    "                eval_time = time.time() - t0\n",
    "                log.update({\n",
    "                    'eval_time': eval_time,\n",
    "                    'eval_rewards (deterministic)': eval_rewards_d,\n",
    "                    'eval_rewards (stochastic)': eval_rewards_s,\n",
    "                })\n",
    "    \n",
    "                clear_output(wait=True)\n",
    "                print(f'wall time {wall_time:.2f} s')\n",
    "                print(f'update {update}')\n",
    "                print(f'step {history[\"step_count\"]}')\n",
    "                print(f'eval rewards (deterministic) {eval_rewards_d:.5f}')\n",
    "                print(f'eval rewards (stochastic) {eval_rewards_s:.5f}')\n",
    "    \n",
    "            try: wandb.log(log)\n",
    "            except: print(f'[warning] wandb log failed')\n",
    "\n",
    "    except KeyboardInterrupt:\n",
    "        save(network, history)"
   ]
  },
  {
   "cell_type": "code",
   "execution_count": 53,
   "id": "70d756e2-83db-4e81-b7fd-7bdecf268f73",
   "metadata": {},
   "outputs": [
    {
     "name": "stdout",
     "output_type": "stream",
     "text": [
      "[[0.244885 0.249089 0.258787 0.247239]] 1.3860719203948975\n",
      "tensor([0])\n"
     ]
    }
   ],
   "source": [
    "with torch.no_grad():\n",
    "    np.set_printoptions(suppress=True, floatmode='fixed', precision=6)\n",
    "    state, _ = env.reset()\n",
    "    state = torch.as_tensor(state).to(device)\n",
    "    logits, value = network(state)\n",
    "    dist = Categorical(logits=logits)\n",
    "    print(dist.probs.numpy(), dist.entropy().item())\n",
    "\n",
    "    action, log_prob, value = network.sample(state)\n",
    "    env.step(action)\n",
    "    print(action)"
   ]
  },
  {
   "cell_type": "code",
   "execution_count": 54,
   "id": "c9e65b3c-4d07-44d4-854f-c2bc19ae9f3d",
   "metadata": {},
   "outputs": [
    {
     "name": "stdout",
     "output_type": "stream",
     "text": [
      "wall time 1022.63 s\n",
      "update 8\n",
      "step 33909\n",
      "eval rewards (deterministic) 7.00000\n",
      "eval rewards (stochastic) 0.00000\n",
      "saved to ./saved/breakout-33909s.pth\n",
      "done.\n",
      "*actual* time taken: 1052.24 s\n"
     ]
    }
   ],
   "source": [
    "try: env.reset(), env.close()\n",
    "except: pass\n",
    "env = make_env()\n",
    "\n",
    "t0 = time.time()\n",
    "try:\n",
    "    with torch.device(device):\n",
    "        train(env, 999999, history)\n",
    "except KeyboardInterrupt:\n",
    "        print('keyboard interrupt. stopping...')\n",
    "finally:\n",
    "    print(f'done.\\n*actual* time taken: {time.time() - t0:.2f} s')"
   ]
  },
  {
   "cell_type": "code",
   "execution_count": 63,
   "id": "f1c259bd-778f-4723-a329-5a560eaef23f",
   "metadata": {},
   "outputs": [
    {
     "name": "stdout",
     "output_type": "stream",
     "text": [
      "tensor([0.2389, 0.2780, 0.2814, 0.2889, 0.3236, 0.2715, 0.2541, 0.2485, 0.2230])\n",
      "\n",
      "tensor([0.0881, 0.0811, 0.0716, 0.0613, 0.0500, 0.0361, 0.0241, 0.0123, 0.0000])\n"
     ]
    }
   ],
   "source": [
    "states, actions, rewards, terminateds, truncateds, log_probs, values = collect_rollout(env, network, 1) \n",
    "gae_advantages = gae(rewards, terminateds, truncateds, values, gamma, gae_lambda)\n",
    "# advantages = (gae_advantages - gae_advantages.mean()) / (gae_advantages.std() + 1e-7)\n",
    "advantages = gae_advantages\n",
    "returns = values[:-1] + advantages  # discounted rewards-to-go\n",
    "print(values.squeeze()[-9:], end='\\n\\n')  # no time step information hurts value estimation\n",
    "print(returns.squeeze()[-9:])  # keep in mind standardization if done as well as time dependent obs"
   ]
  },
  {
   "cell_type": "code",
   "execution_count": 66,
   "id": "8028e771-3cc2-42f5-905e-0d3cbbe1e172",
   "metadata": {},
   "outputs": [
    {
     "data": {
      "image/png": "[encoded data removed]",
      "text/plain": [
       "<Figure size 640x480 with 1 Axes>"
      ]
     },
     "metadata": {},
     "output_type": "display_data"
    },
    {
     "data": {
      "text/plain": [
       "np.float64(1.0)"
      ]
     },
     "execution_count": 66,
     "metadata": {},
     "output_type": "execute_result"
    }
   ],
   "source": [
    "evaluate(network, stochastic=True, render_mode='human', graph=True)"
   ]
  },
  {
   "cell_type": "code",
   "execution_count": null,
   "id": "642ea9ee-bdd9-455b-a4b8-0c5113c10c01",
   "metadata": {},
   "outputs": [],
   "source": []
  }
 ],
 "metadata": {
  "kernelspec": {
   "display_name": "kaggleenv310",
   "language": "python",
   "name": "kaggle310"
  },
  "language_info": {
   "codemirror_mode": {
    "name": "ipython",
    "version": 3
   },
   "file_extension": ".py",
   "mimetype": "text/x-python",
   "name": "python",
   "nbconvert_exporter": "python",
   "pygments_lexer": "ipython3",
   "version": "3.10.12"
  }
 },
 "nbformat": 4,
 "nbformat_minor": 5
}
