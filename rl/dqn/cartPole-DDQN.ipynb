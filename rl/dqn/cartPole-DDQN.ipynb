{
 "cells": [
  {
   "cell_type": "code",
   "execution_count": 1,
   "id": "9b8761f4-971e-4482-8514-782ee9453069",
   "metadata": {},
   "outputs": [],
   "source": [
    "from IPython.display import display, clear_output, Image\n",
    "import matplotlib.pyplot as plt\n",
    "from collections import deque\n",
    "from datetime import datetime\n",
    "from pathlib import Path\n",
    "import gymnasium as gym\n",
    "import numpy as np\n",
    "import random\n",
    "import time\n",
    "\n",
    "import torch\n",
    "import torch.nn as nn\n",
    "import torch.optim as optim\n",
    "from torch.utils.tensorboard import SummaryWriter"
   ]
  },
  {
   "cell_type": "code",
   "execution_count": 2,
   "id": "a707b2cd-4ab1-4d22-9719-5d90a298b11f",
   "metadata": {},
   "outputs": [],
   "source": [
    "# import os  # needed if running torch.compile(), remember to also use VS build tools\n",
    "# compiler_path = r\"C:\\Program Files (x86)\\Microsoft Visual Studio\\2022\\BuildTools\\VC\\Tools\\MSVC\\14.43.34808\\bin\\Hostx64\\x64\"\n",
    "# os.environ[\"PATH\"] = compiler_path + \";\" + os.environ.get(\"PATH\", \"\")"
   ]
  },
  {
   "cell_type": "code",
   "execution_count": 3,
   "id": "385d151d-19e8-457b-9c2e-0d377d4c86b6",
   "metadata": {},
   "outputs": [],
   "source": [
    "env = gym.make('CartPole-v1', render_mode='human')"
   ]
  },
  {
   "cell_type": "code",
   "execution_count": 4,
   "id": "aaec18c1-809c-4f08-acba-2f6b9e647a37",
   "metadata": {},
   "outputs": [
    {
     "name": "stdout",
     "output_type": "stream",
     "text": [
      "taking action 0  got reward 1.0\n",
      "Episode finished with environment reward: 1.0\n"
     ]
    }
   ],
   "source": [
    "env.unwrapped.render_mode = 'human'\n",
    "\n",
    "state, info = env.reset()\n",
    "for step in range(1000):\n",
    "    action = 0\n",
    "    state, reward, done, truncated, info = env.step(action)\n",
    "    \n",
    "    clear_output(wait=True)\n",
    "    print('taking action', action, ' got reward', reward)\n",
    "\n",
    "    if done or truncated:\n",
    "        print(f\"Episode finished with environment reward: {reward}\")\n",
    "        break"
   ]
  },
  {
   "cell_type": "code",
   "execution_count": 5,
   "id": "4824e268-a347-4ef2-ae59-6d9f38819272",
   "metadata": {},
   "outputs": [
    {
     "name": "stdout",
     "output_type": "stream",
     "text": [
      "Discrete(2)\n",
      "(4,)\n"
     ]
    }
   ],
   "source": [
    "print(env.action_space)\n",
    "print(env.observation_space.shape)"
   ]
  },
  {
   "cell_type": "markdown",
   "id": "0f420baf-7adc-4687-89be-cefec3129509",
   "metadata": {},
   "source": [
    "# DDQN with soft updates to target network"
   ]
  },
  {
   "cell_type": "code",
   "execution_count": 6,
   "id": "b601b1d4-7bf3-4dc9-893f-02c423350073",
   "metadata": {},
   "outputs": [],
   "source": [
    "class ReplayBuffer:\n",
    "    def __init__(self, maxlen):\n",
    "        self.buffer = deque(maxlen=maxlen)\n",
    "\n",
    "    def __len__(self): \n",
    "        return len(self.buffer)\n",
    "\n",
    "    def push(self, state, action, reward, next_state, done):\n",
    "        self.buffer.append((state, action, reward, next_state, done))\n",
    "\n",
    "    def clear(self):\n",
    "        self.buffer.clear()\n",
    "\n",
    "    def sample(self, batch_size):\n",
    "        assert batch_size <= len(self), 'sample size is greater than population of buffer'\n",
    "        states, actions, rewards, next_states, dones = zip(*random.sample(self.buffer, batch_size))  # with replacement\n",
    "        # converting to ndarray then to tensor is probably faster than directly to tensor\n",
    "        return np.array(states), np.array(actions), np.array(rewards), np.array(next_states), np.array(dones)  "
   ]
  },
  {
   "cell_type": "code",
   "execution_count": 7,
   "id": "7dca92ab-7bf6-42c2-9124-4d3c2179ebcc",
   "metadata": {},
   "outputs": [],
   "source": [
    "class Globals:\n",
    "    initialized = False\n",
    "    episode_count = 0\n",
    "    step_count = 0  # counts the steps the agent actually sees (not 'real' emulator steps)\n",
    "\n",
    "    @classmethod\n",
    "    def reset(cls):\n",
    "        cls.initialized = False\n",
    "        cls.episode_count = 0\n",
    "        cls.step_count = 0\n",
    "        \n",
    "\n",
    "# to be initialized\n",
    "    # target_net\n",
    "    # online_net\n",
    "    # memory\n",
    "    # etc."
   ]
  },
  {
   "cell_type": "code",
   "execution_count": 8,
   "id": "96508186-e82d-4f35-b894-085b153be04b",
   "metadata": {},
   "outputs": [],
   "source": [
    "class QNetwork(nn.Module):\n",
    "    def __init__(self, n_in, n_out):\n",
    "        super().__init__()\n",
    "        self.fc1 = nn.Linear(n_in, 64)\n",
    "        self.fc2 = nn.Linear(64, 64)\n",
    "        self.fc3 = nn.Linear(64, 64)\n",
    "        self.fc4 = nn.Linear(64, n_out)\n",
    "\n",
    "    def forward(self, x):\n",
    "        x = torch.relu(self.fc1(x))\n",
    "        x = torch.relu(self.fc2(x))\n",
    "        x = torch.relu(self.fc3(x))\n",
    "        x = self.fc4(x)\n",
    "        return x"
   ]
  },
  {
   "cell_type": "code",
   "execution_count": 16,
   "id": "6c3de181-6058-46f9-bd78-a785a8df3b32",
   "metadata": {},
   "outputs": [],
   "source": [
    "class Agent:\n",
    "    def __init__(self, env, state, log_dir='runs/?'):\n",
    "        self.env = env\n",
    "        self.state = state\n",
    "        self.action_d = self.env.action_space.n\n",
    "        self.state_d = self.env.observation_space.shape[0]\n",
    "        \n",
    "        self.gamma = 0.99\n",
    "        self.learn_freq = 4\n",
    "        self.sync_freq = 4\n",
    "        self.tau = 1.000  # percentage of 'new' parameters in soft updates\n",
    "        self.batch_size = 64\n",
    "        \n",
    "        self.start_samples = 1000  # start training after X samples\n",
    "\n",
    "        # self.eps_max = 1   # see `get_current_epsilon` method for epsilon schedule\n",
    "        # self.eps_min = 0.01\n",
    "        # self.eps_anneal_steps = 50_000\n",
    "\n",
    "        if not Globals.initialized:\n",
    "            Globals.memory = ReplayBuffer(100_000)  # memory buffer size\n",
    "\n",
    "            self.initialize_nets()\n",
    "            Globals.initialized = True\n",
    "        \n",
    "        self.optimizer = optim.AdamW(Globals.online_net.parameters(), lr=0.001)\n",
    "        self.criterion = nn.MSELoss()\n",
    "\n",
    "        # set to float('inf') to disable, seems sus for DQN as it could prevent estimation of optimal large Q values - it's also not \"real\" clipping\n",
    "        self.max_grad_norm = float('inf')  \n",
    "\n",
    "        self.early_stopping_patience = 100  # stop training after X episodes with mean return >= Y\n",
    "        self.early_stopping_return = 500\n",
    "\n",
    "        self.action_repeat = 1\n",
    "        self.max_steps = 9999  # per episode\n",
    "\n",
    "        # meta / tracking\n",
    "        self.avg_beta = 0.95  # used for moving average calculation on graph\n",
    "        self.start_step_count = Globals.step_count\n",
    "        self.start_episode_count = Globals.episode_count\n",
    "        \n",
    "        if log_dir[-1] == '?':\n",
    "            log_dir = log_dir[:-1] + self.env.spec.id + '-' + datetime.now().strftime('%Y-%m-%d') + '-v0'\n",
    "        while Path(log_dir).is_dir():\n",
    "            log_dir = log_dir[:-1] + str(int(log_dir[-1]) + 1)\n",
    "        self.log_dir = log_dir\n",
    "        self.writer = SummaryWriter(log_dir=self.log_dir)\n",
    "        self.writer.add_graph(Globals.online_net, torch.randn(1, self.state_d))  # cheap -- only 1 forward pass\n",
    "        self.writer.close()\n",
    "    \n",
    "    def get_current_epsilon(self):\n",
    "        # return max(self.eps_min, self.eps_min + (self.eps_max - self.eps_min) \n",
    "        #           * (1 - Globals.step_count/self.eps_anneal_steps))  # linear annealing\n",
    "        return max(0.00, 0.99995 ** Globals.step_count)  # exponential decay\n",
    "\n",
    "    def initialize_nets(self):\n",
    "        Globals.online_net = QNetwork(self.state_d, self.action_d)\n",
    "        Globals.target_net = QNetwork(self.state_d, self.action_d)\n",
    "        Globals.target_net.eval()  # good practice in case there are dropout/batchnorm layers\n",
    "        self.sync()\n",
    "        \n",
    "    def save(self, path):\n",
    "        torch.save(Globals.online_net.state_dict(), path)\n",
    "\n",
    "    def load(self, path):\n",
    "        Globals.online_net.load_state_dict(torch.load(path))\n",
    "                \n",
    "    def display_info(self, episode_idx, eval_mode=False):\n",
    "        episode = episode_idx\n",
    "        t = time.time() - self.t0\n",
    "        \n",
    "        plt.plot(self.return_history)\n",
    "        xs = range(10, len(self.avg_history))  # delay avg start\n",
    "        plt.plot(xs, self.avg_history[10:])\n",
    "        \n",
    "        clear_output(wait=True)\n",
    "        if eval_mode:\n",
    "            print(f'episode {episode}\\t({episode/t :.1f}/s)')\n",
    "        else:\n",
    "            print(f'episode {episode}\\t({episode/t :.1f}/s)  [total {Globals.episode_count}]')\n",
    "            print(f'steps {Globals.step_count - self.start_step_count}\\t({(Globals.step_count-self.start_step_count)/t :.0f}/s)' + \n",
    "                  f'  [total {Globals.step_count}]')\n",
    "        print(f'time {t:.2f} s')\n",
    "        print('---')\n",
    "        if eval_mode:\n",
    "            print(f'average return {np.mean(self.return_history):.5f}')\n",
    "        else:\n",
    "            print(f'epsilon {self.get_current_epsilon():.3f}')\n",
    "            print(f'replay buffer size {len(Globals.memory)}')\n",
    "            print(f'average return (last {self.early_stopping_patience} episodes) {np.mean(self.return_history[-self.early_stopping_patience:]):.5f}')\n",
    "\n",
    "        plt.show()\n",
    "\n",
    "    \n",
    "    def soft_sync(self):\n",
    "        if self.tau == 1:\n",
    "            return self.sync()\n",
    "        for target_param, online_param in zip(Globals.target_net.parameters(), Globals.online_net.parameters()):\n",
    "            target_param.data.copy_(self.tau * online_param.data + (1-self.tau) * target_param.data) \n",
    "\n",
    "    def sync(self):\n",
    "        Globals.target_net.load_state_dict(Globals.online_net.state_dict())\n",
    "\n",
    "    def fill_memory(self):\n",
    "        self.env.unwrapped.render_mode = None\n",
    "        while len(Globals.memory) < self.start_samples:\n",
    "            self.state, info = self.env.reset()\n",
    "            while True:\n",
    "                # repeat matters because rewards can accumulate through multiple steps\n",
    "                reward, done, truncated = self.do_action_with_repeat(env.action_space.sample())  \n",
    "                if done or truncated: \n",
    "                    break\n",
    "            clear_output(wait=True)\n",
    "            print(f'collecting initial training data {len(Globals.memory)}/{self.start_samples}')\n",
    "\n",
    "    def greedy(self):\n",
    "        with torch.no_grad():  # don't track backward gradients on inference\n",
    "            x = torch.tensor(self.state)\n",
    "            Q_values = Globals.online_net(x)\n",
    "            return Q_values.argmax().item()\n",
    "\n",
    "    def epsilon_greedy(self):\n",
    "        if np.random.random() < self.get_current_epsilon():\n",
    "            return env.action_space.sample()\n",
    "        return self.greedy()\n",
    "\n",
    "    def do_action_with_repeat(self, action, update_memory=True):  # returns (reward, done, truncated)\n",
    "        reward = 0\n",
    "        for repetition in range(self.action_repeat):\n",
    "            next_state, frame_reward, done, truncated, info = self.env.step(action)\n",
    "            reward += frame_reward\n",
    "            if done or truncated: \n",
    "                break\n",
    "        if update_memory:\n",
    "            Globals.memory.push(self.state, action, reward, next_state, done)\n",
    "        self.state = next_state\n",
    "        \n",
    "        return reward, done, truncated\n",
    "\n",
    "    \n",
    "    def train(self, *args, **kwargs):\n",
    "        # RAII..!! guarantees safe IO\n",
    "        self.writer = SummaryWriter(log_dir=self.log_dir)  \n",
    "        try:\n",
    "            return self._train(*args, **kwargs)\n",
    "        except KeyboardInterrupt:\n",
    "            self.writer.add_scalar('Training_interrupt', 1, Globals.step_count)\n",
    "            # clear_output()\n",
    "            print('\\033[31m SIGINT detected \\033[32m training state is saved in memory \\033[0m')\n",
    "        finally:\n",
    "            self.writer.add_scalar('Training_break', 1, Globals.step_count)\n",
    "            self.writer.close()\n",
    "        \n",
    "    def _train(self, num_episodes=100, show_chart=True):\n",
    "        self.fill_memory()\n",
    "        assert self.env.unwrapped.render_mode is None\n",
    "\n",
    "        self.t0 = time.time()\n",
    "        self.return_history = []\n",
    "        self.avg_history = []  # moving average of return\n",
    "        \n",
    "        for episode in range(1, num_episodes+1):\n",
    "            Globals.episode_count += 1\n",
    "            \n",
    "            self.state, info = self.env.reset()\n",
    "            episode_return = 0\n",
    "\n",
    "            for step in range(self.max_steps):\n",
    "                Globals.step_count += 1\n",
    "\n",
    "                action = self.epsilon_greedy()\n",
    "                reward, done, truncated = self.do_action_with_repeat(action)\n",
    "                episode_return += reward\n",
    "\n",
    "                if Globals.step_count % self.sync_freq == 0:  # sync online and target networks\n",
    "                    self.soft_sync()\n",
    "\n",
    "                if Globals.step_count % self.learn_freq == 0:  # update online network\n",
    "                    states, actions, rewards, next_states, dones = Globals.memory.sample(self.batch_size)\n",
    "                    states = torch.tensor(states, dtype=torch.float)                   # (m, d) where m = batch_size, d = dimension of state vec\n",
    "                    actions = torch.tensor(actions, dtype=torch.long).reshape(-1, 1)   # (m, 1)\n",
    "                    rewards = torch.tensor(rewards, dtype=torch.float).reshape(-1, 1)  # (m, 1)\n",
    "                    next_states = torch.tensor(next_states, dtype=torch.float)         # (m, d)\n",
    "                    dones = torch.tensor(dones, dtype=torch.float).reshape(-1, 1)      # (m, 1)\n",
    "                    assert states.shape == next_states.shape == (self.batch_size, self.state_d)\n",
    "                    assert actions.shape == rewards.shape == dones.shape == (self.batch_size, 1)\n",
    "\n",
    "                    Q_pred = Globals.online_net(states).gather(1, actions)  # predicted Q values of the states with the actions taken\n",
    "                    assert Q_pred.shape == (self.batch_size, 1)\n",
    "\n",
    "                    with torch.no_grad():\n",
    "                        # select next states' best actions using online Q network (DDQN)\n",
    "                        # and evaluate it using target Q network\n",
    "                        argmax_next_actions = Globals.online_net(next_states).max(dim=1, keepdim=True)[1]  \n",
    "                        selected_target_Q = Globals.target_net(next_states).gather(1, argmax_next_actions)\n",
    "                        # If non-terminal  y = R(s) + gamma * Q_target(s', argmax_a' Q_online(s', a'))\n",
    "                        # If terminal      y = R(s)  [handled by factor of (1 - dones)]\n",
    "                        y = rewards + self.gamma * selected_target_Q * (1 - dones)\n",
    "                        assert y.shape == (self.batch_size, 1)\n",
    "                        \n",
    "                    loss = self.criterion(Q_pred, y.detach())\n",
    "                    self.writer.add_scalar('Loss', loss.item(), Globals.step_count)\n",
    "                    \n",
    "                    self.optimizer.zero_grad()\n",
    "                    loss.backward()\n",
    "                    \n",
    "                    grad_norm = torch.nn.utils.clip_grad_norm_(Globals.online_net.parameters(), self.max_grad_norm)\n",
    "                    self.writer.add_scalar('Grad_norm', grad_norm, Globals.step_count)\n",
    "\n",
    "                    if self.max_grad_norm != float('inf'):  # if grad clipping is enabled, calculate post clip norm also\n",
    "                        post_clip_norm = min(grad_norm, self.max_grad_norm)\n",
    "                        self.writer.add_scalar('Clipped_grad_norm', post_clip_norm, Globals.step_count)                    \n",
    "                    \n",
    "                    self.optimizer.step()\n",
    "                        \n",
    "                if done or truncated:\n",
    "                    break\n",
    "\n",
    "            self.writer.add_scalar('Episode_return', episode_return, Globals.step_count)\n",
    "            self.writer.add_scalar('Epsilon', self.get_current_epsilon(), Globals.step_count)\n",
    "            \n",
    "            self.return_history.append(episode_return)\n",
    "            if not self.avg_history: \n",
    "                self.avg_history.append(episode_return)  # initialize with 1 element\n",
    "            self.avg_history.append(self.avg_history[-1] * self.avg_beta + (1-self.avg_beta) * episode_return)\n",
    "\n",
    "            if (  # early stopping\n",
    "                np.mean(self.return_history[-self.early_stopping_patience:]) >= self.early_stopping_return\n",
    "                # and Globals.episode_count - self.start_episode_count >= self.early_stopping_patience\n",
    "                and len(self.return_history) >= self.early_stopping_patience\n",
    "            ):\n",
    "                break\n",
    "                \n",
    "            if episode % 5 == 0:\n",
    "                self.display_info(episode)\n",
    "                \n",
    "        self.display_info(episode)\n",
    "\n",
    "\n",
    "    def eval(self, num_episodes=500, max_steps=999999):\n",
    "        self.env.unwrapped.render_mode = None\n",
    "        self.t0 = time.time()\n",
    "        self.return_history = []\n",
    "        self.avg_history = []  # moving average of return\n",
    "        \n",
    "        for episode in range(1, num_episodes+1):\n",
    "            self.state, info = self.env.reset()\n",
    "\n",
    "            episode_return = 0\n",
    "            for step in range(max_steps):\n",
    "                action = self.greedy()\n",
    "                reward, done, truncated = self.do_action_with_repeat(action, update_memory=False)\n",
    "                episode_return += reward\n",
    "                \n",
    "                if done or truncated:\n",
    "                    break\n",
    "            \n",
    "            self.return_history.append(episode_return)\n",
    "            if not self.avg_history: \n",
    "                self.avg_history.append(episode_return)  # initialize with 1 element\n",
    "            self.avg_history.append(self.avg_history[-1] * self.avg_beta + (1-self.avg_beta) * episode_return)\n",
    "\n",
    "            if episode % 10 == 0:\n",
    "                self.display_info(episode, eval_mode=True)\n",
    "\n",
    "    def play(self):\n",
    "        self.env.unwrapped.render_mode = 'human'\n",
    "        Q_history = []\n",
    "        reward_history = []\n",
    "        total_collected_rewards = [0]\n",
    "        estimated_total_return = []\n",
    "\n",
    "        self.state, info = env.reset()\n",
    "        for step in range(999999):\n",
    "            self.env.render()\n",
    "\n",
    "            with torch.no_grad():\n",
    "                x = torch.tensor(self.state)\n",
    "                Q_values = Globals.online_net(x)\n",
    "                Q = Q_values.max().item()\n",
    "                action = Q_values.argmax().item()\n",
    "\n",
    "            reward, done, truncated = self.do_action_with_repeat(action, update_memory=True)  # add it to the replay buffer for fun\n",
    "\n",
    "            Q_history.append(Q)\n",
    "            reward_history.append(reward)\n",
    "            estimated_total_return.append(total_collected_rewards[-1] + Q)\n",
    "            total_collected_rewards.append(total_collected_rewards[-1] + reward)            \n",
    "            \n",
    "            if step % 1 == 0:\n",
    "                clear_output(wait=True)\n",
    "                plt.plot(Q_history, ':', label='Estimated future return')\n",
    "                plt.plot(estimated_total_return, ':', label='Estimated total return')\n",
    "                plt.plot(total_collected_rewards[1:], label='Total collected rewards')\n",
    "                plt.plot(reward_history, label='Immediate reward')\n",
    "                plt.legend()\n",
    "                plt.show()\n",
    "        \n",
    "            if done or truncated:\n",
    "                print(f\"total rewards collected: {total_collected_rewards[-1]}\")\n",
    "                break"
   ]
  },
  {
   "cell_type": "code",
   "execution_count": 17,
   "id": "f3910dff-75cd-4e1b-9dfd-d67706f61ba6",
   "metadata": {},
   "outputs": [],
   "source": [
    "# Globals.reset()  # restart training"
   ]
  },
  {
   "cell_type": "code",
   "execution_count": 18,
   "id": "f09931a9-d14d-4d3f-9b96-8e8263329ffa",
   "metadata": {},
   "outputs": [],
   "source": [
    "agent = Agent(env, state)"
   ]
  },
  {
   "cell_type": "code",
   "execution_count": 19,
   "id": "bd618de8-7a23-4c72-b1c4-c4b849e4be39",
   "metadata": {},
   "outputs": [
    {
     "name": "stdout",
     "output_type": "stream",
     "text": [
      "episode 5000\t(11.0/s)  [total 5001]\n",
      "steps 299035\t(658/s)  [total 299039]\n",
      "time 454.75 s\n",
      "---\n",
      "epsilon 0.000\n",
      "replay buffer size 100000\n",
      "average return (last 100 episodes) 9.35000\n"
     ]
    },
    {
     "data": {
      "image/png": "[encoded data removed]",
      "text/plain": [
       "<Figure size 640x480 with 1 Axes>"
      ]
     },
     "metadata": {},
     "output_type": "display_data"
    }
   ],
   "source": [
    "agent.train(5000)"
   ]
  },
  {
   "cell_type": "code",
   "execution_count": 75,
   "id": "72e8c992-a82d-4495-8c12-c9c425f4567c",
   "metadata": {},
   "outputs": [
    {
     "name": "stdout",
     "output_type": "stream",
     "text": [
      "episode 500\t(26.6/s)\n",
      "time 18.82 s\n",
      "---\n",
      "average return 500.00000\n"
     ]
    },
    {
     "data": {
      "image/png": "[encoded data removed]",
      "text/plain": [
       "<Figure size 640x480 with 1 Axes>"
      ]
     },
     "metadata": {},
     "output_type": "display_data"
    }
   ],
   "source": [
    "agent.eval()"
   ]
  },
  {
   "cell_type": "code",
   "execution_count": 76,
   "id": "e3d74c59-15ec-4446-9434-d1a755285708",
   "metadata": {},
   "outputs": [
    {
     "data": {
      "image/png": "[encoded data removed]",
      "text/plain": [
       "<Figure size 640x480 with 1 Axes>"
      ]
     },
     "metadata": {},
     "output_type": "display_data"
    },
    {
     "name": "stdout",
     "output_type": "stream",
     "text": [
      "total rewards collected: 500.0\n"
     ]
    }
   ],
   "source": [
    "agent.play()"
   ]
  },
  {
   "cell_type": "code",
   "execution_count": 77,
   "id": "5d7f6f69-e6a0-461f-9f0a-5026c6433e07",
   "metadata": {},
   "outputs": [],
   "source": [
    "# save\n",
    "agent.save('saved/cartPole-DDQN-latest.pth')"
   ]
  },
  {
   "cell_type": "code",
   "execution_count": 113,
   "id": "be51697d-c2e3-40cb-8a10-b43e4442a536",
   "metadata": {},
   "outputs": [],
   "source": [
    "agent.env.close()"
   ]
  },
  {
   "cell_type": "code",
   "execution_count": null,
   "id": "e794d549-2631-40ab-9657-97a5be41c15e",
   "metadata": {},
   "outputs": [],
   "source": []
  },
  {
   "cell_type": "code",
   "execution_count": null,
   "id": "cfc8698c-3fa7-449e-9076-877e6e1ed43a",
   "metadata": {},
   "outputs": [],
   "source": []
  },
  {
   "cell_type": "code",
   "execution_count": null,
   "id": "5990fd60-3950-4842-b980-7ee61fa399b0",
   "metadata": {},
   "outputs": [],
   "source": []
  },
  {
   "cell_type": "code",
   "execution_count": null,
   "id": "f651ba45-5892-4b62-8557-ddc5cc93d93f",
   "metadata": {},
   "outputs": [],
   "source": []
  },
  {
   "cell_type": "code",
   "execution_count": null,
   "id": "07fbf240-c74f-44bd-a914-7318a2f43a5e",
   "metadata": {},
   "outputs": [],
   "source": []
  },
  {
   "cell_type": "code",
   "execution_count": null,
   "id": "3af193b6-4c26-42ff-b6cc-1aac2c82562c",
   "metadata": {},
   "outputs": [],
   "source": []
  },
  {
   "cell_type": "code",
   "execution_count": null,
   "id": "872270d6-2672-4555-a665-0b2220141751",
   "metadata": {},
   "outputs": [],
   "source": []
  },
  {
   "cell_type": "code",
   "execution_count": null,
   "id": "ceb99de7-39a9-4774-b6ae-6d3f1515af81",
   "metadata": {},
   "outputs": [],
   "source": []
  }
 ],
 "metadata": {
  "kernelspec": {
   "display_name": "kaggleenv310",
   "language": "python",
   "name": "kaggle310"
  },
  "language_info": {
   "codemirror_mode": {
    "name": "ipython",
    "version": 3
   },
   "file_extension": ".py",
   "mimetype": "text/x-python",
   "name": "python",
   "nbconvert_exporter": "python",
   "pygments_lexer": "ipython3",
   "version": "3.10.12"
  }
 },
 "nbformat": 4,
 "nbformat_minor": 5
}
