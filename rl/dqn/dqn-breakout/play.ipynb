{
 "cells": [
  {
   "cell_type": "code",
   "execution_count": 24,
   "id": "e10b20c9-cb86-4d89-82d6-a635bc8aff71",
   "metadata": {},
   "outputs": [],
   "source": [
    "from gymnasium.wrappers import FrameStackObservation, AtariPreprocessing\n",
    "from IPython.display import display, clear_output\n",
    "import matplotlib.pyplot as plt\n",
    "from pathlib import Path\n",
    "import gymnasium as gym\n",
    "from PIL import Image\n",
    "import numpy as np\n",
    "import random\n",
    "import ale_py\n",
    "import time\n",
    "import os\n",
    "\n",
    "import torch\n",
    "import torch.nn as nn\n",
    "import torch.nn.functional as F"
   ]
  },
  {
   "cell_type": "code",
   "execution_count": 6,
   "id": "75b17104-38f4-4f28-b6ab-d0881e10266f",
   "metadata": {},
   "outputs": [],
   "source": [
    "class QNetwork(nn.Module):\n",
    "    def __init__(self):\n",
    "        super().__init__()\n",
    "        # nn.Conv2d(in_channels, out_channels, kernel_size, stride=1, ...)\n",
    "                                              # input (m, 4,84,84) where m=batch_size\n",
    "        self.conv1 = nn.Conv2d(4, 32, 8, 4)   # -> relu (m, 32,20,20)\n",
    "        self.conv2 = nn.Conv2d(32, 64, 4, 2)  # -> relu (m, 64,9,9)\n",
    "        self.conv3 = nn.Conv2d(64, 64, 3, 1)  # -> relu (m, 64,7,7) -> flatten (m, 3136)\n",
    "        # nn.Linear(in_features, out_features, ...)\n",
    "        self.fc1 = nn.Linear(3136, 512)  # -> relu (m, 512)\n",
    "        self.fc2 = nn.Linear(512, 4)  # -> output (m, 4)\n",
    "        \n",
    "    def forward(self, x):\n",
    "        # x = x / 255.0  # should we scale to [0, 1]\n",
    "        x = F.relu(self.conv1(x))\n",
    "        x = F.relu(self.conv2(x))\n",
    "        x = F.relu(self.conv3(x))\n",
    "        x = x.view(x.size(0), -1)  # flatten it to (m, 3136)\n",
    "        x = F.relu(self.fc1(x))\n",
    "        x = self.fc2(x)  # no output activation\n",
    "        return x"
   ]
  },
  {
   "cell_type": "code",
   "execution_count": 7,
   "id": "d817ef69-bde6-4775-a806-f9a2754e2588",
   "metadata": {},
   "outputs": [],
   "source": [
    "def make_env(render_mode=None):\n",
    "    global env\n",
    "    if 'env' in globals(): \n",
    "        env.reset()\n",
    "        env.close()\n",
    "        del env\n",
    "    env = gym.make(\"BreakoutNoFrameskip-v4\", render_mode=render_mode)\n",
    "    env = AtariPreprocessing(env)\n",
    "    env = FrameStackObservation(env, 4)\n",
    "    return env.reset()"
   ]
  },
  {
   "cell_type": "code",
   "execution_count": 8,
   "id": "49ca2cde-5b7e-4e11-b397-6ae560d0919b",
   "metadata": {},
   "outputs": [
    {
     "name": "stdout",
     "output_type": "stream",
     "text": [
      "device: cpu\n"
     ]
    }
   ],
   "source": [
    "device = torch.device('cuda' if torch.cuda.is_available() else 'cpu')\n",
    "print(f\"device: {device}\")"
   ]
  },
  {
   "cell_type": "code",
   "execution_count": 42,
   "id": "5cb6ee46-320d-4020-9a8d-672ff27149a9",
   "metadata": {},
   "outputs": [
    {
     "data": {
      "text/plain": [
       "['0-breakout-03-05-1001e-185283s.pth',\n",
       " '1-breakout-03-05-1483e-290232s.pth',\n",
       " '10-breakout-03-05-7092e-3343516s.pth',\n",
       " '11-breakout-03-05-8092e-3979952s.pth',\n",
       " '3-breakout-03-05-1565e-311008s.pth',\n",
       " '4-breakout-03-05-2566e-613672s.pth',\n",
       " '5-breakout-03-05-3566e-1137988s.pth',\n",
       " '6-breakout-03-05-3743e-1240756s.pth',\n",
       " '7-breakout-03-05-4091e-1445352s.pth',\n",
       " '8-breakout-03-05-5092e-2065169s.pth',\n",
       " '9-breakout-03-05-6092e-2731172s.pth']"
      ]
     },
     "execution_count": 42,
     "metadata": {},
     "output_type": "execute_result"
    }
   ],
   "source": [
    "os.listdir('./checkpoints/')"
   ]
  },
  {
   "cell_type": "code",
   "execution_count": 53,
   "id": "42442183-597b-42af-90da-3d2a9d53cb63",
   "metadata": {},
   "outputs": [
    {
     "name": "stdout",
     "output_type": "stream",
     "text": [
      "loaded 9-breakout-03-05-6092e-2731172s.pth\n"
     ]
    }
   ],
   "source": [
    "checkpoint_file = '9-breakout-03-05-6092e-2731172s.pth'\n",
    "\n",
    "online_net = QNetwork().to(device)\n",
    "online_net.load_state_dict(torch.load('./checkpoints/' + checkpoint_file, weights_only=True, map_location=torch.device(device))['online_state_dict'])\n",
    "print('loaded', checkpoint_file)"
   ]
  },
  {
   "cell_type": "code",
   "execution_count": 54,
   "id": "3f75e2da-9392-464a-89aa-a2af9e0f04b0",
   "metadata": {},
   "outputs": [],
   "source": [
    "epsilon = 0.1\n",
    "reward_clip = (-999, 999)"
   ]
  },
  {
   "cell_type": "code",
   "execution_count": 55,
   "id": "6acf3432-04f8-407f-b83d-2617903dae1c",
   "metadata": {},
   "outputs": [],
   "source": [
    "def greedy(s):\n",
    "    with torch.no_grad():\n",
    "        return online_net(torch.tensor(s, dtype=torch.float, device=device).unsqueeze(0)).argmax().item()\n",
    "    \n",
    "def epsilon_greedy(s): \n",
    "    return env.action_space.sample() if np.random.random() < epsilon else greedy(s)"
   ]
  },
  {
   "cell_type": "code",
   "execution_count": 56,
   "id": "1429f97a-262c-4b09-b048-0858704d206f",
   "metadata": {},
   "outputs": [
    {
     "name": "stdout",
     "output_type": "stream",
     "text": [
      "step 353, took action 3, got reward 0.0\n"
     ]
    }
   ],
   "source": [
    "state, info = make_env('human')\n",
    "\n",
    "try:\n",
    "    step = 0\n",
    "    while True:\n",
    "        step += 1\n",
    "        action = epsilon_greedy(state)\n",
    "        # action = greedy(state)\n",
    "        state, reward, terminated, truncated, info = env.step(action)\n",
    "        reward = np.clip(reward, *reward_clip)\n",
    "        \n",
    "        clear_output(wait=True)\n",
    "        print(f'step {step}, took action {action}, got reward {reward}')\n",
    "        \n",
    "        if terminated or truncated:\n",
    "            break\n",
    "            \n",
    "except KeyboardInterrupt:\n",
    "    print('keyboard interrupt')\n",
    "finally:\n",
    "    make_env(None)\n",
    "    env.reset()\n",
    "    env.close()"
   ]
  },
  {
   "cell_type": "code",
   "execution_count": 38,
   "id": "a7f79d73-47d6-47ab-b10d-83bdd7d93e53",
   "metadata": {},
   "outputs": [
    {
     "name": "stdout",
     "output_type": "stream",
     "text": [
      "(32, 20, 20) \n",
      " (20, 20)\n"
     ]
    },
    {
     "data": {
      "image/png": "[encoded data removed]",
      "text/plain": [
       "<Figure size 1600x200 with 32 Axes>"
      ]
     },
     "metadata": {},
     "output_type": "display_data"
    }
   ],
   "source": [
    "# what the network sees after 1st conv layer and relu (32 filters with 8x8 kernel, stride of 4)\n",
    "# each resulting box is a 20x20 image\n",
    "with torch.no_grad():\n",
    "    x = torch.tensor(state, dtype=torch.float, device=device).unsqueeze(0)\n",
    "    x = online_net.conv1(x)\n",
    "    x = F.relu(x)\n",
    "    x = np.array(x).squeeze(0)\n",
    "    x = (x - x.min()) / (x.max() - x.min()) * 255.0  # min-max scaling for clarity\n",
    "print(x.shape, '\\n', x[0].shape)\n",
    "fig, axes = plt.subplots(2, 16, figsize=(16, 2))\n",
    "for i in range(32):\n",
    "    axes[i // 16, i % 16].imshow(Image.fromarray(x[i]))\n",
    "    axes[i // 16, i % 16].axis('off')\n",
    "plt.tight_layout(), plt.show();"
   ]
  },
  {
   "cell_type": "code",
   "execution_count": 39,
   "id": "8334f4b3-0dd0-4464-86f5-df3ce4b83ab9",
   "metadata": {},
   "outputs": [
    {
     "name": "stdout",
     "output_type": "stream",
     "text": [
      "(64, 9, 9) \n",
      " (9, 9)\n"
     ]
    },
    {
     "data": {
      "image/png": "[encoded data removed]",
      "text/plain": [
       "<Figure size 1600x400 with 64 Axes>"
      ]
     },
     "metadata": {},
     "output_type": "display_data"
    }
   ],
   "source": [
    "# what the network sees after 2nd conv layer and relu (64 filters with 4x4 kernel, stride of 2)\n",
    "# each resulting box is a 9x9 image\n",
    "with torch.no_grad():\n",
    "    x = torch.tensor(state, dtype=torch.float, device=device).unsqueeze(0)\n",
    "    x = online_net.conv1(x)\n",
    "    x = F.relu(x)\n",
    "    x = online_net.conv2(x)\n",
    "    x = F.relu(x)\n",
    "    x = np.array(x).squeeze(0)\n",
    "    x = (x - x.min()) / (x.max() - x.min() + 1e-7) * 255.0  # min-max scaling for clarity\n",
    "print(x.shape, '\\n', x[0].shape)\n",
    "fig, axes = plt.subplots(4, 16, figsize=(16, 4))\n",
    "for i in range(64):\n",
    "    axes[i // 16, i % 16].imshow(Image.fromarray(x[i]))\n",
    "    axes[i // 16, i % 16].axis('off')\n",
    "plt.tight_layout(), plt.show();"
   ]
  },
  {
   "cell_type": "code",
   "execution_count": 40,
   "id": "c6f3e355-b41e-495c-9e28-118286430586",
   "metadata": {},
   "outputs": [
    {
     "name": "stdout",
     "output_type": "stream",
     "text": [
      "(64, 7, 7) \n",
      " (7, 7)\n"
     ]
    },
    {
     "data": {
      "image/png": "[encoded data removed]",
      "text/plain": [
       "<Figure size 1600x400 with 64 Axes>"
      ]
     },
     "metadata": {},
     "output_type": "display_data"
    }
   ],
   "source": [
    "# what the network sees after 3rd conv layer and relu (64 filters with 3x3 kernel, stride of 1)\n",
    "# each resulting box is a 7x7 image\n",
    "with torch.no_grad():\n",
    "    x = torch.tensor(state, dtype=torch.float, device=device).unsqueeze(0)\n",
    "    x = online_net.conv1(x)\n",
    "    x = F.relu(x)\n",
    "    x = online_net.conv2(x)\n",
    "    x = F.relu(x)\n",
    "    x = online_net.conv3(x)\n",
    "    x = F.relu(x)\n",
    "    x = np.array(x).squeeze(0)\n",
    "    x = (x - x.min()) / (x.max() - x.min() + 1e-7) * 255.0  # min-max scaling for clarity\n",
    "print(x.shape, '\\n', x[0].shape)\n",
    "fig, axes = plt.subplots(4, 16, figsize=(16, 4))\n",
    "for i in range(64):\n",
    "    axes[i // 16, i % 16].imshow(Image.fromarray(x[i]))\n",
    "    axes[i // 16, i % 16].axis('off')\n",
    "plt.tight_layout(), plt.show();"
   ]
  },
  {
   "cell_type": "code",
   "execution_count": null,
   "id": "028e3492-ca7c-40fa-a3c2-cc93a2b058ce",
   "metadata": {},
   "outputs": [],
   "source": []
  }
 ],
 "metadata": {
  "kernelspec": {
   "display_name": "kaggleenv310",
   "language": "python",
   "name": "kaggle310"
  },
  "language_info": {
   "codemirror_mode": {
    "name": "ipython",
    "version": 3
   },
   "file_extension": ".py",
   "mimetype": "text/x-python",
   "name": "python",
   "nbconvert_exporter": "python",
   "pygments_lexer": "ipython3",
   "version": "3.10.12"
  }
 },
 "nbformat": 4,
 "nbformat_minor": 5
}
