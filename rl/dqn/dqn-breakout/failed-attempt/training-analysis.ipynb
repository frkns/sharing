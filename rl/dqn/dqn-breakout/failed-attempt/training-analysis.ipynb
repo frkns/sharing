{
 "cells": [
  {
   "cell_type": "markdown",
   "id": "33f2cc2d-7c7e-4f0e-b675-29e4ccde06e5",
   "metadata": {},
   "source": [
    "# DQN ([Nature](https://web.stanford.edu/class/psych209/Readings/MnihEtAlHassibis15NatureControlDeepRL.pdf)) with maybe additional extensions\n",
    "\n",
    "Included with the gym environment, a frameskip of 4 is applied meaning the agent only sees every 4th frame and each action selected is repeated 4 times.<BR>\n",
    "By default, Breakout is not fully Markovian because the agent cannot determine the motion of the ball based off a single frame.<BR>\n",
    "We can effectively restore the Markov property by stacking the last 4 observed frames $(t_0, t_4, t_8, t_{12})$.<BR>\n",
    "\n",
    "Vanilla DQN uses two Q-networks with hard syncing of networks every ~$10,000$ environment steps.\n",
    "\n",
    "Vanilla DQN update rule:\n",
    "$$\\text{update target } y = r_{t+1} + \\gamma \\cdot \\max_{a'} Q_\\text{target}(s', a') \\cdot (1 - \\text{terminated})$$\n",
    "\n",
    "If the episode was terminated this state, $(1 - \\text{terminated})$ is $0$ and so the equation reduces to $y = r_{t+1}$ as the agent does not recieve rewards after the terminal state.\n",
    "\n",
    "### Implementation Details\n",
    "\n",
    "* To save memory, states are stored as in replay buffer as type uint8 then normalized by division with $255$ to fall within $[0,1]$ only once inside the forward pass in QNetwork.\n",
    "* Tensorboard was used for telemetry. For every training episode, I tracked the return, number of steps performed, as well as the current epsilon. At each learning update, I tracked the MSE loss, max single gradient, and total gradient norm.\n",
    "\n",
    "### Differences from Nature\n",
    "\n",
    "* Instead of RMSProp, I used Adam optimizer with the same learning rate of 0.00025.\n",
    "* Instead of maxpooling over last two frames (e.g. preprocessed frame at $t_4$ would be the maxpooling of $t_4, t_3$), I did simple downsampling and let the gym environment handle frameskipping. This could be a problem - not doing maxpooling might mean the conv layers with large strides can't pick up the thinner outline of the ball. However since there is no flickering in this environment it's not too concerning.\n",
    "* I padded the width of the input frame in preprocessing to conform to a shape of (84, 84).\n",
    "* Even using uint8, a replay buffer of capacity 1e6 requires 56 GB of memory which is too much so I used a buffer of capacity 100k instead.\n",
    "\n",
    "### Training\n",
    "\n",
    "* I started off with a small test run locally then moved training to Kaggle's P100 GPU, which provided >10x performance. After training for ~14.5 million steps (12 hours), I rendered the environment and let the model play with a greedy policy. It did not seem to learn any behavior at all. It would always move to the far left of the screen and stay there. Inspecting the conv layer outputs, I noticed that the 2nd and 3rd conv layer's activations were entirely all zeros. Attributing this to the dying ReLU problem, I switched all ReLU activations to leaky ReLU and reset epsilon to 1.0, linearly annealing it to 0.1 over the next 1 millon steps. The difference was stark and the model started quickly improving almost immediately after.\n",
    "\n",
    "* At ~19.3 million steps, I noticed a bit of training instability. I extended the size of the replay buffer to 400k samples as P100 has sufficient memory. In addition, the sync frequency was increased from 10000 steps to 40000 steps. Epsilon was kept at 0.1.\n",
    "\n",
    "* After 30 million steps, this setup did not end up converging. The agent did not fully learn to release the ball, relying on no-op actions at the start and epsilon-greedy exploration to release the ball. I restored from a training checkpoint at ~20 million steps, removing no-op start and reset epsilon to 1.0,  annealing it 0.01 instead of 0.1 over 1 million steps. I also added gradient clipping where the total gradient norm was scaled down to 5.0 when it was over 5.0.\n",
    "\n",
    "### Possible Extensions\n",
    "\n",
    "* Potential to add DDQN update rule to prevent overestimation bias because of $\\max$-ing over Q-values:\n",
    "$$\\text{update target } y = r_{t+1} + \\gamma \\cdot Q_\\text{target}(s', a^*) \\cdot (1 - \\text{terminated})$$ \n",
    "where\n",
    "$$a^* = \\arg\\max_{a'} Q_\\text{online}(s', a')$$\n",
    "\n",
    "Although maybe DDQN is not needed as it requires two forward passes to calculate $y$.<br> \n",
    "And if we apply reward clipping to $[-1, 1]$ like in Nature, overestimation shouldn't be too much of a problem.<BR>\n",
    "And if we trust the Rainbow DQN paper, no double performs about the same as with double.<BR>\n",
    "\n",
    "    \"Comparing Rainbow to the agent where double Q-learning was ablated, we observed that the actual returns are often higher than 10 and therefore fall outside the support of the distribution, spanning from −10 to +10. This leads to underestimated returns, rather than overestimations. We hypothesize that clipping the values to this constrained range counteracts the overestimation bias of Q-learning. Note, however, that the importance of double Q-learning may increase if the support of the distributions is expanded.\"\n",
    "\n",
    "* Other components from Rainbow DQN could be useful for faster convergence:\n",
    "  + Prioritized DDQN,\n",
    "  + Dueling DDQN,\n",
    "  + A3C,\n",
    "  + Distributional DQN,\n",
    "  + Noisy DQN.\n",
    "\n",
    "<BR>\n",
    "\n",
    "* Potential to add soft syncing allowing the target network to be updated at every learning step:\n",
    "$$\\theta' \\leftarrow \\tau \\theta + (1-\\tau) \\theta'$$\n",
    "where $\\theta'$ are target network parameters, $\\theta$ are online network parameters, and $\\tau \\approx 0.001$ is a hyperparameter denoting how much blend we want.\n",
    "\n",
    "Empirically, I found that soft updates worked well on classic control environments.<BR>\n",
    "Athough Rainbow DQN doesn't even have soft updates so it's probably not important, or maybe even counterproductive. "
   ]
  },
  {
   "cell_type": "code",
   "execution_count": 1,
   "id": "27152cfe-9e67-462a-91b0-7ebe383a8ea0",
   "metadata": {},
   "outputs": [],
   "source": [
    "from gymnasium.wrappers import FrameStackObservation\n",
    "from IPython.display import display, clear_output\n",
    "import matplotlib.pyplot as plt\n",
    "from collections import deque\n",
    "from datetime import datetime\n",
    "from pathlib import Path\n",
    "import gymnasium as gym\n",
    "from tqdm import tqdm\n",
    "from PIL import Image\n",
    "import numpy as np\n",
    "import random\n",
    "import ale_py\n",
    "import time\n",
    "import cv2\n",
    "import os\n",
    "\n",
    "import torch\n",
    "import torch.nn as nn\n",
    "import torch.optim as optim\n",
    "import torch.nn.functional as F\n",
    "from torch.utils.tensorboard import SummaryWriter\n",
    "\n",
    "from utils import *"
   ]
  },
  {
   "cell_type": "code",
   "execution_count": 2,
   "id": "b12372a4-2929-451d-b93d-4efa104a6941",
   "metadata": {},
   "outputs": [
    {
     "name": "stdout",
     "output_type": "stream",
     "text": [
      "device: cpu\n"
     ]
    }
   ],
   "source": [
    "device = torch.device('cuda' if torch.cuda.is_available() else 'cpu')\n",
    "print(f\"device: {device}\")"
   ]
  },
  {
   "cell_type": "code",
   "execution_count": 3,
   "id": "3aa1e0af-efe8-469f-8a2b-cbe21dceae49",
   "metadata": {},
   "outputs": [],
   "source": [
    "def remake_env(render_mode=None):\n",
    "    global env\n",
    "    if 'env' in globals(): \n",
    "        env.close()\n",
    "        del env\n",
    "    env = gym.make('BreakoutDeterministic-v4', render_mode=render_mode)\n",
    "    env = FrameStackObservation(env, 4)  # stack previous 4 frames to simulate motion and mend Markov property"
   ]
  },
  {
   "cell_type": "code",
   "execution_count": 13,
   "id": "875be00b-d224-4e9b-b8cc-a35c8fe265f4",
   "metadata": {},
   "outputs": [
    {
     "name": "stdout",
     "output_type": "stream",
     "text": [
      "taking action 2  got reward 0.0\n"
     ]
    }
   ],
   "source": [
    "remake_env('human')  # test env\n",
    "state, info = env.reset()\n",
    "for step in range(200):\n",
    "    action = env.action_space.sample()\n",
    "    state, reward, done, truncated, info = env.step(action)\n",
    "    clear_output(wait=True)\n",
    "    print('taking action', action, ' got reward', reward)\n",
    "    if done or truncated:\n",
    "        print(f\"Episode finished with environment reward: {reward}\")\n",
    "        break"
   ]
  },
  {
   "cell_type": "code",
   "execution_count": 5,
   "id": "306573a9-8b2c-4496-80b6-597714b7a130",
   "metadata": {},
   "outputs": [
    {
     "data": {
      "text/plain": [
       "4"
      ]
     },
     "execution_count": 5,
     "metadata": {},
     "output_type": "execute_result"
    }
   ],
   "source": [
    "env.spec.kwargs.get(\"frameskip\", \"No frameskip found\")"
   ]
  },
  {
   "cell_type": "code",
   "execution_count": 15,
   "id": "fb2c8097-3b97-45ac-b88a-072964fd49b9",
   "metadata": {},
   "outputs": [],
   "source": [
    "remake_env(None)\n",
    "env.close()"
   ]
  },
  {
   "cell_type": "code",
   "execution_count": 7,
   "id": "5419876e-8d64-4132-8831-909256c360d0",
   "metadata": {},
   "outputs": [
    {
     "data": {
      "image/png": "[encoded data removed]",
      "text/plain": [
       "<Figure size 1600x400 with 4 Axes>"
      ]
     },
     "metadata": {},
     "output_type": "display_data"
    }
   ],
   "source": [
    "x = preprocess_state(state)\n",
    "show_batch(x)  # what the agent sees every time it chooses an action - 4-frame stack of grayscale 84x84 values"
   ]
  },
  {
   "cell_type": "code",
   "execution_count": 8,
   "id": "92c4b55c-0ed2-4d5f-8099-7561e4315a4b",
   "metadata": {},
   "outputs": [],
   "source": [
    "online_net = QNetwork()"
   ]
  },
  {
   "cell_type": "code",
   "execution_count": 27,
   "id": "064df0d6-3e64-4ca4-9380-b7f7dd0e1bbd",
   "metadata": {},
   "outputs": [
    {
     "name": "stdout",
     "output_type": "stream",
     "text": [
      "(32, 20, 20) \n",
      " (20, 20)\n"
     ]
    },
    {
     "data": {
      "image/png": "[encoded data removed]",
      "text/plain": [
       "<Figure size 1600x200 with 32 Axes>"
      ]
     },
     "metadata": {},
     "output_type": "display_data"
    }
   ],
   "source": [
    "# what the network sees after 1st conv layer and relu (32 filters with 8x8 kernel, stride of 4)\n",
    "# each resulting box is a 20x20 image\n",
    "with torch.no_grad():\n",
    "    x = preprocess_state(state)\n",
    "    x = x / 255.0\n",
    "    x = online_net.conv1(x)\n",
    "    x = F.leaky_relu(x)\n",
    "    x = np.array(x).squeeze(0)\n",
    "    x = (x - x.min()) / (x.max() - x.min()) * 255.0  # min-max scaling for clarity\n",
    "print(x.shape, '\\n', x[0].shape)\n",
    "fig, axes = plt.subplots(2, 16, figsize=(16, 2))\n",
    "for i in range(32):\n",
    "    axes[i // 16, i % 16].imshow(Image.fromarray(x[i]))\n",
    "    axes[i // 16, i % 16].axis('off')\n",
    "plt.tight_layout(), plt.show();"
   ]
  },
  {
   "cell_type": "code",
   "execution_count": 26,
   "id": "857e18ea-ea9e-4ae8-91b5-4e10092fc85b",
   "metadata": {},
   "outputs": [
    {
     "name": "stdout",
     "output_type": "stream",
     "text": [
      "(64, 9, 9) \n",
      " (9, 9)\n"
     ]
    },
    {
     "data": {
      "image/png": "[encoded data removed]",
      "text/plain": [
       "<Figure size 1600x400 with 64 Axes>"
      ]
     },
     "metadata": {},
     "output_type": "display_data"
    }
   ],
   "source": [
    "# what the network sees after 2nd conv layer and relu (64 filters with 4x4 kernel, stride of 2)\n",
    "# each resulting box is a 9x9 image\n",
    "with torch.no_grad():\n",
    "    x = preprocess_state(state)\n",
    "    x = x / 255.0\n",
    "    x = online_net.conv1(x)\n",
    "    x = F.leaky_relu(x)\n",
    "    x = online_net.conv2(x)\n",
    "    x = F.leaky_relu(x)\n",
    "    x = np.array(x).squeeze(0)\n",
    "    x = (x - x.min()) / (x.max() - x.min() + 1e-7) * 255.0  # min-max scaling for clarity\n",
    "print(x.shape, '\\n', x[0].shape)\n",
    "fig, axes = plt.subplots(4, 16, figsize=(16, 4))\n",
    "for i in range(64):\n",
    "    axes[i // 16, i % 16].imshow(Image.fromarray(x[i]))\n",
    "    axes[i // 16, i % 16].axis('off')\n",
    "plt.tight_layout(), plt.show();"
   ]
  },
  {
   "cell_type": "code",
   "execution_count": 24,
   "id": "3ec8871f-f2b0-41d4-b0e5-3d3bb67b3821",
   "metadata": {},
   "outputs": [
    {
     "name": "stdout",
     "output_type": "stream",
     "text": [
      "(64, 7, 7) \n",
      " (7, 7)\n"
     ]
    },
    {
     "data": {
      "image/png": "[encoded data removed]",
      "text/plain": [
       "<Figure size 1600x400 with 64 Axes>"
      ]
     },
     "metadata": {},
     "output_type": "display_data"
    }
   ],
   "source": [
    "# what the network sees after 3rd conv layer and relu (64 filters with 3x3 kernel, stride of 1)\n",
    "# each resulting box is a 7x7 image\n",
    "with torch.no_grad():\n",
    "    x = preprocess_state(state)\n",
    "    x = x / 255.0\n",
    "    x = online_net.conv1(x)\n",
    "    x = F.leaky_relu(x)\n",
    "    x = online_net.conv2(x)\n",
    "    x = F.leaky_relu(x)\n",
    "    x = online_net.conv3(x)\n",
    "    x = F.leaky_relu(x)\n",
    "    x = np.array(x).squeeze(0)\n",
    "    x = (x - x.min()) / (x.max() - x.min() + 1e-7) * 255.0  # min-max scaling for clarity\n",
    "print(x.shape, '\\n', x[0].shape)\n",
    "fig, axes = plt.subplots(4, 16, figsize=(16, 4))\n",
    "for i in range(64):\n",
    "    axes[i // 16, i % 16].imshow(Image.fromarray(x[i]))\n",
    "    axes[i // 16, i % 16].axis('off')\n",
    "plt.tight_layout(), plt.show();"
   ]
  }
 ],
 "metadata": {
  "kernelspec": {
   "display_name": "kaggleenv310",
   "language": "python",
   "name": "kaggle310"
  },
  "language_info": {
   "codemirror_mode": {
    "name": "ipython",
    "version": 3
   },
   "file_extension": ".py",
   "mimetype": "text/x-python",
   "name": "python",
   "nbconvert_exporter": "python",
   "pygments_lexer": "ipython3",
   "version": "3.10.12"
  }
 },
 "nbformat": 4,
 "nbformat_minor": 5
}
