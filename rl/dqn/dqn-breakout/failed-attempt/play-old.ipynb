{
 "cells": [
  {
   "cell_type": "code",
   "execution_count": 3,
   "id": "27152cfe-9e67-462a-91b0-7ebe383a8ea0",
   "metadata": {},
   "outputs": [],
   "source": [
    "from gymnasium.wrappers import FrameStackObservation\n",
    "from IPython.display import display, clear_output\n",
    "import matplotlib.pyplot as plt\n",
    "from collections import deque\n",
    "from datetime import datetime\n",
    "from pathlib import Path\n",
    "import gymnasium as gym\n",
    "from tqdm import tqdm\n",
    "from PIL import Image\n",
    "import numpy as np\n",
    "import random\n",
    "import ale_py\n",
    "import time\n",
    "import cv2\n",
    "import os\n",
    "\n",
    "import torch\n",
    "import torch.nn as nn\n",
    "import torch.optim as optim\n",
    "import torch.nn.functional as F\n",
    "from torch.utils.tensorboard import SummaryWriter\n",
    "\n",
    "from utils import *"
   ]
  },
  {
   "cell_type": "code",
   "execution_count": 4,
   "id": "b12372a4-2929-451d-b93d-4efa104a6941",
   "metadata": {},
   "outputs": [
    {
     "name": "stdout",
     "output_type": "stream",
     "text": [
      "device: cpu\n"
     ]
    }
   ],
   "source": [
    "device = torch.device('cuda' if torch.cuda.is_available() else 'cpu')\n",
    "print(f\"device: {device}\")"
   ]
  },
  {
   "cell_type": "code",
   "execution_count": 5,
   "id": "3aa1e0af-efe8-469f-8a2b-cbe21dceae49",
   "metadata": {},
   "outputs": [],
   "source": [
    "def remake_env(render_mode=None):\n",
    "    global env\n",
    "    if 'env' in globals(): \n",
    "        env.close()\n",
    "        del env\n",
    "    env = gym.make('BreakoutDeterministic-v4', render_mode=render_mode)\n",
    "    env = FrameStackObservation(env, 4)  # stack previous 4 frames to simulate motion and mend Markov property\n",
    "remake_env(None)"
   ]
  },
  {
   "cell_type": "code",
   "execution_count": 12,
   "id": "92c4b55c-0ed2-4d5f-8099-7561e4315a4b",
   "metadata": {},
   "outputs": [
    {
     "name": "stdout",
     "output_type": "stream",
     "text": [
      "loaded 82-breakout_feb_27-74324e-25922087s.pth\n"
     ]
    }
   ],
   "source": [
    "checkpoint_file, checkpoint_version = get_checkpoint(71)\n",
    "assert checkpoint_file is not None\n",
    "\n",
    "online_net = QNetwork()\n",
    "online_net.load_state_dict(torch.load('./checkpoints/' + checkpoint_file, weights_only=True, map_location=torch.device(device))['online_state_dict'])\n",
    "\n",
    "print('loaded', checkpoint_file)"
   ]
  },
  {
   "cell_type": "code",
   "execution_count": 13,
   "id": "dab6be49-3e46-4958-9b83-72004b8a4c48",
   "metadata": {},
   "outputs": [],
   "source": [
    "epsilon = 0.1\n",
    "reward_clip = (-1, 1)"
   ]
  },
  {
   "cell_type": "code",
   "execution_count": 14,
   "id": "0e64b03f-aa0f-4362-9f83-e65b3a3d7efd",
   "metadata": {},
   "outputs": [],
   "source": [
    "def greedy(state):\n",
    "    return online_net(state).argmax().item()"
   ]
  },
  {
   "cell_type": "code",
   "execution_count": 15,
   "id": "9c7f86c3-87cf-4342-9d5c-21c0cf5e30a8",
   "metadata": {},
   "outputs": [],
   "source": [
    "def epsilon_greedy(state):\n",
    "    if np.random.random() < epsilon:\n",
    "        return env.action_space.sample()\n",
    "    return greedy(state)"
   ]
  },
  {
   "cell_type": "code",
   "execution_count": 16,
   "id": "5cd5a738-a093-49f9-b19c-f41a64a9350f",
   "metadata": {},
   "outputs": [
    {
     "name": "stdout",
     "output_type": "stream",
     "text": [
      "step 378, took action 1, got raw reward 0.0 (clipped 0.0)\n",
      "kb interrupt\n"
     ]
    }
   ],
   "source": [
    "remake_env('human')\n",
    "\n",
    "state, info = env.reset()\n",
    "state = preprocess_state(state)\n",
    "\n",
    "noop_limit = 30  # force firing of ball if X noops in a row\n",
    "noop_count = 0\n",
    "step = 0\n",
    "\n",
    "try:\n",
    "    while True:\n",
    "        step += 1\n",
    "        action = epsilon_greedy(state)\n",
    "        # action = greedy(state)\n",
    "        noop_count = noop_count + 1 if action == 0 else 0    \n",
    "        if noop_count >= noop_limit:\n",
    "            action = 1\n",
    "            noop_count = 0\n",
    "        state, raw_reward, terminated, truncated, info = env.step(action)\n",
    "        reward = np.clip(raw_reward, *reward_clip)\n",
    "        \n",
    "        state = preprocess_state(state)\n",
    "    \n",
    "        clear_output(wait=True)\n",
    "        print(f'step {step}, took action {action}, got raw reward {raw_reward} (clipped {reward})')\n",
    "        \n",
    "        if terminated or truncated:\n",
    "            break\n",
    "            \n",
    "except KeyboardInterrupt:\n",
    "    print('kb interrupt')\n",
    "finally:\n",
    "    remake_env(None)\n",
    "    state, info = env.reset()\n",
    "    env.close()"
   ]
  },
  {
   "cell_type": "code",
   "execution_count": 30,
   "id": "064df0d6-3e64-4ca4-9380-b7f7dd0e1bbd",
   "metadata": {},
   "outputs": [
    {
     "name": "stdout",
     "output_type": "stream",
     "text": [
      "(32, 20, 20) \n",
      " (20, 20)\n"
     ]
    },
    {
     "data": {
      "image/png": "[encoded data removed]",
      "text/plain": [
       "<Figure size 1600x200 with 32 Axes>"
      ]
     },
     "metadata": {},
     "output_type": "display_data"
    }
   ],
   "source": [
    "# what the network sees after 1st conv layer and relu (32 filters with 8x8 kernel, stride of 4)\n",
    "# each resulting box is a 20x20 image\n",
    "with torch.no_grad():\n",
    "    x = preprocess_state(state)\n",
    "    x = x / 255.0\n",
    "    x = online_net.conv1(x)\n",
    "    x = F.leaky_relu(x)\n",
    "    x = np.array(x).squeeze(0)\n",
    "    x = (x - x.min()) / (x.max() - x.min()) * 255.0  # min-max scaling for clarity\n",
    "print(x.shape, '\\n', x[0].shape)\n",
    "fig, axes = plt.subplots(2, 16, figsize=(16, 2))\n",
    "for i in range(32):\n",
    "    axes[i // 16, i % 16].imshow(Image.fromarray(x[i]))\n",
    "    axes[i // 16, i % 16].axis('off')\n",
    "plt.tight_layout(), plt.show();"
   ]
  },
  {
   "cell_type": "code",
   "execution_count": 31,
   "id": "857e18ea-ea9e-4ae8-91b5-4e10092fc85b",
   "metadata": {},
   "outputs": [
    {
     "name": "stdout",
     "output_type": "stream",
     "text": [
      "(64, 9, 9) \n",
      " (9, 9)\n"
     ]
    },
    {
     "data": {
      "image/png": "[encoded data removed]",
      "text/plain": [
       "<Figure size 1600x400 with 64 Axes>"
      ]
     },
     "metadata": {},
     "output_type": "display_data"
    }
   ],
   "source": [
    "# what the network sees after 2nd conv layer and relu (64 filters with 4x4 kernel, stride of 2)\n",
    "# each resulting box is a 9x9 image\n",
    "with torch.no_grad():\n",
    "    x = preprocess_state(state)\n",
    "    x = x / 255.0\n",
    "    x = online_net.conv1(x)\n",
    "    x = F.leaky_relu(x)\n",
    "    x = online_net.conv2(x)\n",
    "    x = F.leaky_relu(x)\n",
    "    x = np.array(x).squeeze(0)\n",
    "    x = (x - x.min()) / (x.max() - x.min() + 1e-7) * 255.0  # min-max scaling for clarity\n",
    "print(x.shape, '\\n', x[0].shape)\n",
    "fig, axes = plt.subplots(4, 16, figsize=(16, 4))\n",
    "for i in range(64):\n",
    "    axes[i // 16, i % 16].imshow(Image.fromarray(x[i]))\n",
    "    axes[i // 16, i % 16].axis('off')\n",
    "plt.tight_layout(), plt.show();"
   ]
  },
  {
   "cell_type": "code",
   "execution_count": 32,
   "id": "3ec8871f-f2b0-41d4-b0e5-3d3bb67b3821",
   "metadata": {},
   "outputs": [
    {
     "name": "stdout",
     "output_type": "stream",
     "text": [
      "(64, 7, 7) \n",
      " (7, 7)\n"
     ]
    },
    {
     "data": {
      "image/png": "[encoded data removed]",
      "text/plain": [
       "<Figure size 1600x400 with 64 Axes>"
      ]
     },
     "metadata": {},
     "output_type": "display_data"
    }
   ],
   "source": [
    "# what the network sees after 3rd conv layer and relu (64 filters with 3x3 kernel, stride of 1)\n",
    "# each resulting box is a 7x7 image\n",
    "with torch.no_grad():\n",
    "    x = preprocess_state(state)\n",
    "    x = x / 255.0\n",
    "    x = online_net.conv1(x)\n",
    "    x = F.leaky_relu(x)\n",
    "    x = online_net.conv2(x)\n",
    "    x = F.leaky_relu(x)\n",
    "    x = online_net.conv3(x)\n",
    "    x = F.leaky_relu(x)\n",
    "    x = np.array(x).squeeze(0)\n",
    "    x = (x - x.min()) / (x.max() - x.min() + 1e-7) * 255.0  # min-max scaling for clarity\n",
    "print(x.shape, '\\n', x[0].shape)\n",
    "fig, axes = plt.subplots(4, 16, figsize=(16, 4))\n",
    "for i in range(64):\n",
    "    axes[i // 16, i % 16].imshow(Image.fromarray(x[i]))\n",
    "    axes[i // 16, i % 16].axis('off')\n",
    "plt.tight_layout(), plt.show();"
   ]
  },
  {
   "cell_type": "code",
   "execution_count": 21,
   "id": "66278f4e-406c-4df3-b962-aa7103dd47e4",
   "metadata": {},
   "outputs": [
    {
     "data": {
      "text/plain": [
       "array([[[  8.68842  ,   8.574558 ,   8.574558 , ...,   8.574558 ,\n",
       "           8.574558 ,   8.405884 ],\n",
       "        [  6.9455366,   7.233394 ,   7.233394 , ...,   7.233394 ,\n",
       "           7.233394 ,   7.299668 ],\n",
       "        [  6.668623 ,   7.123705 ,   7.123705 , ...,   7.123705 ,\n",
       "           7.123705 ,   7.4669533],\n",
       "        ...,\n",
       "        [  8.914855 ,   8.843936 ,   8.843936 , ...,   8.843936 ,\n",
       "           8.843936 ,   8.996466 ],\n",
       "        [  8.914855 ,   8.843936 ,   8.843936 , ...,   8.843936 ,\n",
       "           8.843936 ,   8.996466 ],\n",
       "        [  8.915793 ,   8.843936 ,   8.843936 , ...,   8.235232 ,\n",
       "           8.513787 ,   8.990895 ]],\n",
       "\n",
       "       [[181.31587  , 175.90535  , 175.90535  , ..., 175.90535  ,\n",
       "         175.90535  , 175.16794  ],\n",
       "        [173.45439  , 162.27055  , 162.27055  , ..., 162.27055  ,\n",
       "         162.27055  , 152.71872  ],\n",
       "        [  6.2700562,   7.1775556,   7.1775556, ...,   7.1775556,\n",
       "           7.1775556,   5.94719  ],\n",
       "        ...,\n",
       "        [  9.014856 ,   9.034701 ,   9.034701 , ...,   9.034701 ,\n",
       "           9.034701 ,   8.760583 ],\n",
       "        [  9.014856 ,   9.034701 ,   9.034701 , ...,   9.034701 ,\n",
       "           9.034701 ,   8.760583 ],\n",
       "        [  9.008011 ,   9.034701 ,   9.034701 , ...,   8.898124 ,\n",
       "           9.109101 ,   8.603323 ]],\n",
       "\n",
       "       [[  8.215934 ,   8.2337265,   8.2337265, ...,   8.2337265,\n",
       "           8.2337265,   8.118843 ],\n",
       "        [  8.214543 ,   8.393543 ,   8.393543 , ...,   8.393543 ,\n",
       "           8.393543 ,   7.364207 ],\n",
       "        [  7.0278473,   7.314882 ,   7.314882 , ...,   7.314882 ,\n",
       "           7.314882 ,   7.146635 ],\n",
       "        ...,\n",
       "        [  8.961357 ,   8.985427 ,   8.985427 , ...,   8.985427 ,\n",
       "           8.985427 ,   9.095521 ],\n",
       "        [  8.961357 ,   8.985427 ,   8.985427 , ...,   8.985427 ,\n",
       "           8.985427 ,   9.095521 ],\n",
       "        [  8.915203 ,   8.985427 ,   8.985427 , ...,   8.753889 ,\n",
       "           8.440484 ,  29.88246  ]],\n",
       "\n",
       "       ...,\n",
       "\n",
       "       [[  8.965203 ,   9.055395 ,   9.055395 , ...,   9.055395 ,\n",
       "           9.055395 ,   8.9927435],\n",
       "        [  7.950027 ,   8.336086 ,   8.336086 , ...,   8.336086 ,\n",
       "           8.336086 ,   7.628967 ],\n",
       "        [  7.749436 ,   7.578735 ,   7.578735 , ...,   7.578735 ,\n",
       "           7.578735 ,   6.8675494],\n",
       "        ...,\n",
       "        [  8.594026 ,   8.541902 ,   8.541902 , ...,   8.541902 ,\n",
       "           8.541902 ,   8.587629 ],\n",
       "        [  8.594026 ,   8.541902 ,   8.541902 , ...,   8.541902 ,\n",
       "           8.541902 ,   8.587629 ],\n",
       "        [  8.46327  ,   8.541902 ,   8.541902 , ...,   7.8546457,\n",
       "          50.522205 ,   8.121413 ]],\n",
       "\n",
       "       [[  7.934541 ,   7.882253 ,   7.882253 , ...,   7.882253 ,\n",
       "           7.882253 ,   8.069693 ],\n",
       "        [  7.3351398,   7.730759 ,   7.730759 , ...,   7.730759 ,\n",
       "           7.730759 ,   8.133802 ],\n",
       "        [  7.266673 ,   7.833848 ,   7.833848 , ...,   7.833848 ,\n",
       "           7.833848 ,   7.7389755],\n",
       "        ...,\n",
       "        [  8.914821 ,   9.031805 ,   9.031805 , ...,   9.031805 ,\n",
       "           9.031805 ,  12.481437 ],\n",
       "        [  8.914821 ,   9.031805 ,   9.031805 , ...,   9.031805 ,\n",
       "           9.031805 ,  12.481437 ],\n",
       "        [  8.850182 ,   9.031805 ,   9.031805 , ...,  57.820656 ,\n",
       "         107.43322  ,  13.645779 ]],\n",
       "\n",
       "       [[  8.831655 ,   8.977053 ,   8.977053 , ...,   8.977053 ,\n",
       "           8.977053 ,   9.067853 ],\n",
       "        [  8.722332 ,   8.873126 ,   8.873126 , ...,   8.873126 ,\n",
       "           8.873126 ,   8.685024 ],\n",
       "        [118.32563  ,  77.9532   ,  77.9532   , ...,  77.9532   ,\n",
       "          77.9532   , 153.02623  ],\n",
       "        ...,\n",
       "        [  8.983942 ,   9.101768 ,   9.101768 , ...,   9.101768 ,\n",
       "           9.101768 ,   9.025891 ],\n",
       "        [  8.983942 ,   9.101768 ,   9.101768 , ...,   9.101768 ,\n",
       "           9.101768 ,   9.025891 ],\n",
       "        [  8.996762 ,   9.101768 ,   9.101768 , ...,   8.473636 ,\n",
       "           8.231067 ,   8.329846 ]]], dtype=float32)"
      ]
     },
     "execution_count": 21,
     "metadata": {},
     "output_type": "execute_result"
    }
   ],
   "source": [
    "x  # min-max scaled to fc layer"
   ]
  },
  {
   "cell_type": "code",
   "execution_count": null,
   "id": "c7aa4685-2665-4287-8b0e-ab3c0a6900f9",
   "metadata": {},
   "outputs": [],
   "source": []
  }
 ],
 "metadata": {
  "kernelspec": {
   "display_name": "kaggleenv310",
   "language": "python",
   "name": "kaggle310"
  },
  "language_info": {
   "codemirror_mode": {
    "name": "ipython",
    "version": 3
   },
   "file_extension": ".py",
   "mimetype": "text/x-python",
   "name": "python",
   "nbconvert_exporter": "python",
   "pygments_lexer": "ipython3",
   "version": "3.10.12"
  }
 },
 "nbformat": 4,
 "nbformat_minor": 5
}
