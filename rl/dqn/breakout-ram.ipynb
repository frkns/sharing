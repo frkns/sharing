{
 "cells": [
  {
   "cell_type": "code",
   "execution_count": 18,
   "id": "ec43cfc2-0fd2-4ffb-a0c5-fa3fabcbb689",
   "metadata": {},
   "outputs": [],
   "source": [
    "from IPython.display import clear_output\n",
    "import matplotlib.pyplot as plt\n",
    "from collections import deque\n",
    "from pathlib import Path\n",
    "import gymnasium as gym\n",
    "import numpy as np\n",
    "import random\n",
    "import ale_py\n",
    "import time\n",
    "import os\n",
    "import torch\n",
    "import torch.nn as nn\n",
    "import torch.optim as optim\n",
    "import torch.nn.functional as F\n",
    "from torch.utils.tensorboard import SummaryWriter"
   ]
  },
  {
   "cell_type": "code",
   "execution_count": 83,
   "id": "7fc6564f-f5d6-48a9-89ad-ccbb5e714535",
   "metadata": {},
   "outputs": [
    {
     "name": "stdout",
     "output_type": "stream",
     "text": [
      "1.0.0\n",
      "2.6.0+cpu\n",
      "10\n",
      "10\n"
     ]
    }
   ],
   "source": [
    "print(gym.__version__, torch.__version__, torch.get_num_threads(), torch.get_num_interop_threads(), sep='\\n')"
   ]
  },
  {
   "cell_type": "code",
   "execution_count": 84,
   "id": "eba35261-68a7-4c02-b44f-a19be65b23ad",
   "metadata": {},
   "outputs": [],
   "source": [
    "os.makedirs(\"checkpoints\", exist_ok=True)\n",
    "os.makedirs(\"runs\", exist_ok=True)"
   ]
  },
  {
   "cell_type": "code",
   "execution_count": 62,
   "id": "5eb65ae8-be7c-4d78-a27b-0c75e9feb2f2",
   "metadata": {},
   "outputs": [],
   "source": [
    "def remake_env(render_mode=None):\n",
    "    global env\n",
    "    if 'env' in globals(): \n",
    "        env.reset(), env.close()\n",
    "        del env\n",
    "    env = gym.make('Breakout-ramDeterministic-v4', render_mode=render_mode)  # default Breakout-ramDeterministic-v4 has frameskip of 4\n",
    "    return env.reset()"
   ]
  },
  {
   "cell_type": "code",
   "execution_count": 74,
   "id": "b8a0764c-1253-4fdb-9825-ddf94e62cf1b",
   "metadata": {},
   "outputs": [],
   "source": [
    "class ReplayBuffer:  # we will store frames in uint8 to save memory. the forward pass of the network can convert it to float32 if desired\n",
    "    def __init__(self, maxlen):\n",
    "        self.buffer = deque(maxlen=maxlen)\n",
    "\n",
    "    def __len__(self): \n",
    "        return len(self.buffer)\n",
    "\n",
    "    def push(self, state, action, reward, next_state, terminated):\n",
    "        self.buffer.append((state, action, reward, next_state, terminated))\n",
    "\n",
    "    def sample(self, batch_size):\n",
    "        assert batch_size <= len(self), 'sample size is greater than population of buffer'\n",
    "        states, actions, rewards, next_states, terminateds = zip(*random.sample(self.buffer, batch_size))  # without replacement\n",
    "        return np.stack(states), np.array(actions), np.array(rewards), np.stack(next_states), np.array(terminateds)"
   ]
  },
  {
   "cell_type": "code",
   "execution_count": 75,
   "id": "2705a3a8-3466-4b59-a1f2-00c7c4a8c4de",
   "metadata": {},
   "outputs": [],
   "source": [
    "class QNetwork(nn.Module):\n",
    "    def __init__(self):\n",
    "        super().__init__()\n",
    "        self.fc1 = nn.Linear(128, 512)\n",
    "        self.fc2 = nn.Linear(512, 256)\n",
    "        self.fc3 = nn.Linear(256, 64)\n",
    "        self.fc4 = nn.Linear(64, 4)\n",
    "        \n",
    "    def forward(self, x):  # expect uint8 tensor as input\n",
    "        x = x / 255.0\n",
    "        x = F.leaky_relu(self.fc1(x))\n",
    "        x = F.leaky_relu(self.fc2(x))\n",
    "        x = F.leaky_relu(self.fc3(x))\n",
    "        x = self.fc4(x)\n",
    "        return x"
   ]
  },
  {
   "cell_type": "code",
   "execution_count": 72,
   "id": "64d2acc3-1f7b-43c5-b47f-e5cc47629e52",
   "metadata": {},
   "outputs": [
    {
     "name": "stdout",
     "output_type": "stream",
     "text": [
      "device: cpu\n"
     ]
    }
   ],
   "source": [
    "device = torch.device('cuda' if torch.cuda.is_available() else 'cpu')\n",
    "print(f\"device: {device}\")"
   ]
  },
  {
   "cell_type": "code",
   "execution_count": 81,
   "id": "f0a45818-8bf1-4cec-baf7-7b97480c4f0b",
   "metadata": {},
   "outputs": [],
   "source": [
    "online_net = QNetwork()\n",
    "target_net = QNetwork()\n",
    "target_net.eval()\n",
    "online_net.to(device)\n",
    "target_net.to(device)\n",
    "\n",
    "def sync(): target_net.load_state_dict(online_net.state_dict())\n",
    "sync()"
   ]
  },
  {
   "cell_type": "code",
   "execution_count": 90,
   "id": "ac5bebc7-b6c4-44fd-a588-d79245532bce",
   "metadata": {},
   "outputs": [],
   "source": [
    "batch_size = 32\n",
    "memory = ReplayBuffer(1_000_000)\n",
    "sync_freq = 10_000  # environment steps\n",
    "gamma = 0.99\n",
    "learn_freq = 4\n",
    "learning_rate = 0.00025\n",
    "eps_max = 1.0  # initial epsilon\n",
    "eps_min = 0.1  # final\n",
    "eps_anneal_steps = 1_000_000\n",
    "learning_starts = 50_000  # uniform random policy is run for X steps before learning starts\n",
    "noop_max = 30\n",
    "reward_clip = (-1, 1)\n",
    "max_steps = 108000\n",
    "\n",
    "optimizer = optim.AdamW(online_net.parameters(), lr=learning_rate)\n",
    "criterion = nn.HuberLoss()"
   ]
  },
  {
   "cell_type": "code",
   "execution_count": null,
   "id": "ae8f93e6-1429-4ae0-bbd9-e0a2161ce60e",
   "metadata": {},
   "outputs": [],
   "source": [
    "# load latest checkpoint file if there is one, set step_count, episode_count\n",
    "proj_name = 'breakout-ram_03-03'\n",
    "\n",
    "checkpoint_file, checkpoint_version = get_checkpoint()\n",
    "# checkpoint_version = 12\n",
    "if checkpoint_file is not None:\n",
    "    checkpoint = torch.load('./checkpoints/' + checkpoint_file, weights_only=False, map_location=torch.device(device))\n",
    "    online_net.load_state_dict(checkpoint['online_state_dict'])\n",
    "    target_net.load_state_dict(checkpoint['target_state_dict'])\n",
    "    optimizer.load_state_dict(checkpoint['optimizer_state_dict'])\n",
    "    episode_count, step_count = checkpoint.get('episode_count'), checkpoint.get('step_count')\n",
    "    try: memory = torch.load('./checkpoints/mem-' + checkpoint_file, weights_only=False)\n",
    "    except FileNotFoundError: pass\n",
    "    print('loaded', checkpoint_file)\n",
    "else: \n",
    "    episode_count, step_count = 0, 0\n",
    "    print('no checkpoint found')\n",
    "    \n",
    "prev_mem_name = '--sentinel--'\n",
    "def save_checkpoint():\n",
    "    global prev_mem_name\n",
    "    name = f'./checkpoints/{checkpoint_version}-{proj_name}-{episode_count}e-{step_count}s.pth'\n",
    "    mem_name = f'./checkpoints/mem-{checkpoint_version}-{proj_name}-{episode_count}e-{step_count}s.pth'\n",
    "    if os.path.exists(prev_mem_name): os.remove(prev_mem_name)\n",
    "    prev_mem_name = mem_name\n",
    "    checkpoint = {\n",
    "        'online_state_dict': online_net.state_dict(),\n",
    "        'target_state_dict': target_net.state_dict(),\n",
    "        'optimizer_state_dict': optimizer.state_dict(),\n",
    "        'step_count': step_count,\n",
    "        'episode_count': episode_count\n",
    "    }\n",
    "    torch.save(checkpoint, name)\n",
    "    torch.save(memory, mem_name)\n",
    "    print('saved', name)"
   ]
  },
  {
   "cell_type": "code",
   "execution_count": 64,
   "id": "1261adf7-0ef8-4704-88ee-b1e118313a1b",
   "metadata": {},
   "outputs": [],
   "source": [
    "state, info = remake_env(None)"
   ]
  },
  {
   "cell_type": "code",
   "execution_count": 70,
   "id": "b3dd3a90-4b5e-4cb1-8191-3b5e2018d77c",
   "metadata": {},
   "outputs": [],
   "source": [
    "action = 2\n",
    "next_state, reward, terminated, truncated, info = env.step(action)\n",
    "memory.push(state, action, reward, next_state, terminated)\n",
    "memory.push(state, action, reward, next_state, terminated)\n",
    "state = next_state"
   ]
  },
  {
   "cell_type": "code",
   "execution_count": 71,
   "id": "a674c81b-6669-4a28-bba8-e014d266a65a",
   "metadata": {},
   "outputs": [
    {
     "data": {
      "text/plain": [
       "array([[ 63,  63,  63,  63,  63,  63, 255, 255, 255, 255, 255, 255, 255,\n",
       "        255, 255, 255, 255, 255, 255, 255, 255, 255, 255, 255, 255, 255,\n",
       "        255, 255, 255, 255, 192, 192, 192, 192, 192, 192, 255, 255, 255,\n",
       "        255, 255, 255, 255, 255, 255, 255, 255, 255, 255, 240,   0,   0,\n",
       "        255,   0,   0, 240,   0,   5,   0,   0,   6,   0,  70, 182, 134,\n",
       "        198,  22,  38,  54,  70,  66,   2, 158,   0,   4,   0,   0,   0,\n",
       "          0,   0,   0, 241,   0, 242,   0, 242,  25, 241,   5, 242,   4,\n",
       "          0, 255,   0, 224,   0,   0,   0,   0,   0,   0,   0,   0,   0,\n",
       "          0,   0,   0,   0,   8,   0, 255, 255, 255, 255, 255, 255, 255,\n",
       "          0,   0,   5,   0,   0, 186, 214, 117, 246, 219, 242],\n",
       "       [ 63,  63,  63,  63,  63,  63, 255, 255, 255, 255, 255, 255, 255,\n",
       "        255, 255, 255, 255, 255, 255, 255, 255, 255, 255, 255, 255, 255,\n",
       "        255, 255, 255, 255, 192, 192, 192, 192, 192, 192, 255, 255, 255,\n",
       "        255, 255, 255, 255, 255, 255, 255, 255, 255, 255, 240,   0,   0,\n",
       "        255,   0,   0, 240,   0,   5,   0,   0,   6,   0,  70, 182, 134,\n",
       "        198,  22,  38,  54,  70,  44,   4, 181,   0,   2,   1,   0,   0,\n",
       "          0,   0,   0, 241,   0, 242,   0, 242,  25, 241,   5, 242,   8,\n",
       "          0, 255,   0, 220,   0,   0,   0,   0,   0,   0,   0,   0,   0,\n",
       "          0,   0,   0,   0,   8,   0, 255, 255, 255, 255, 255, 255, 255,\n",
       "          0,   0,   4,   0,   0, 186, 214, 117, 246, 219, 242]],\n",
       "      dtype=uint8)"
      ]
     },
     "execution_count": 71,
     "metadata": {},
     "output_type": "execute_result"
    }
   ],
   "source": [
    "memory.sample(2)[0]"
   ]
  },
  {
   "cell_type": "code",
   "execution_count": null,
   "id": "30c27d49-46a0-4f87-a5fa-6ff2d7a87142",
   "metadata": {},
   "outputs": [],
   "source": []
  }
 ],
 "metadata": {
  "kernelspec": {
   "display_name": "kaggleenv310",
   "language": "python",
   "name": "kaggle310"
  },
  "language_info": {
   "codemirror_mode": {
    "name": "ipython",
    "version": 3
   },
   "file_extension": ".py",
   "mimetype": "text/x-python",
   "name": "python",
   "nbconvert_exporter": "python",
   "pygments_lexer": "ipython3",
   "version": "3.10.12"
  }
 },
 "nbformat": 4,
 "nbformat_minor": 5
}
